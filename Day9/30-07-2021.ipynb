{
 "cells": [
  {
   "cell_type": "markdown",
   "metadata": {},
   "source": [
    "### Day Objectives\n",
    "- Polynomial Regression"
   ]
  },
  {
   "cell_type": "markdown",
   "metadata": {},
   "source": [
    "### Polynomial Regression\n",
    "- Polynomial Regression is one of the linear regression model\n",
    "- If the change between Independent and Dependent variables is non-uniform, then we go for polynomial regression\n",
    "\n",
    "#### Polynomial Equation\n",
    "- Y = C + C1*X + C2X^2 + C3X^3+ ..... + CnX^n\n",
    "    - Y = Target or Dependent variable\n",
    "    - X = Independent variable\n",
    "    - C1, C2, ..., Cn = (C is Bias) Weight of regression equation"
   ]
  },
  {
   "cell_type": "code",
   "execution_count": 1,
   "metadata": {},
   "outputs": [],
   "source": [
    "import numpy as np\n",
    "import pandas as pd\n",
    "import matplotlib.pyplot as plt"
   ]
  },
  {
   "cell_type": "markdown",
   "metadata": {},
   "source": [
    "- Underfitting: Model is not able to recognize the pattern\n",
    "- Best fit: Model recognize the pattern and giving best performance in both training and testing\n",
    "- Over Fitting: Model captures all the data points but failed in testing."
   ]
  },
  {
   "cell_type": "code",
   "execution_count": 2,
   "metadata": {},
   "outputs": [],
   "source": [
    "X = np.linspace(0,10,100)\n",
    "r = np.random.randn(100) * 100\n",
    "Y = X**3 + r + 100"
   ]
  },
  {
   "cell_type": "code",
   "execution_count": 3,
   "metadata": {
    "collapsed": true
   },
   "outputs": [
    {
     "data": {
      "text/plain": [
       "array([ 0.        ,  0.1010101 ,  0.2020202 ,  0.3030303 ,  0.4040404 ,\n",
       "        0.50505051,  0.60606061,  0.70707071,  0.80808081,  0.90909091,\n",
       "        1.01010101,  1.11111111,  1.21212121,  1.31313131,  1.41414141,\n",
       "        1.51515152,  1.61616162,  1.71717172,  1.81818182,  1.91919192,\n",
       "        2.02020202,  2.12121212,  2.22222222,  2.32323232,  2.42424242,\n",
       "        2.52525253,  2.62626263,  2.72727273,  2.82828283,  2.92929293,\n",
       "        3.03030303,  3.13131313,  3.23232323,  3.33333333,  3.43434343,\n",
       "        3.53535354,  3.63636364,  3.73737374,  3.83838384,  3.93939394,\n",
       "        4.04040404,  4.14141414,  4.24242424,  4.34343434,  4.44444444,\n",
       "        4.54545455,  4.64646465,  4.74747475,  4.84848485,  4.94949495,\n",
       "        5.05050505,  5.15151515,  5.25252525,  5.35353535,  5.45454545,\n",
       "        5.55555556,  5.65656566,  5.75757576,  5.85858586,  5.95959596,\n",
       "        6.06060606,  6.16161616,  6.26262626,  6.36363636,  6.46464646,\n",
       "        6.56565657,  6.66666667,  6.76767677,  6.86868687,  6.96969697,\n",
       "        7.07070707,  7.17171717,  7.27272727,  7.37373737,  7.47474747,\n",
       "        7.57575758,  7.67676768,  7.77777778,  7.87878788,  7.97979798,\n",
       "        8.08080808,  8.18181818,  8.28282828,  8.38383838,  8.48484848,\n",
       "        8.58585859,  8.68686869,  8.78787879,  8.88888889,  8.98989899,\n",
       "        9.09090909,  9.19191919,  9.29292929,  9.39393939,  9.49494949,\n",
       "        9.5959596 ,  9.6969697 ,  9.7979798 ,  9.8989899 , 10.        ])"
      ]
     },
     "execution_count": 3,
     "metadata": {},
     "output_type": "execute_result"
    }
   ],
   "source": [
    "X"
   ]
  },
  {
   "cell_type": "code",
   "execution_count": 4,
   "metadata": {
    "collapsed": true
   },
   "outputs": [
    {
     "data": {
      "text/plain": [
       "array([  17.15476413,   23.0205495 ,  100.11859643,  179.3101093 ,\n",
       "        117.37631438,   21.4022174 ,   77.45076013,  110.74593062,\n",
       "       -189.23172861,   90.95999307,   62.8978662 ,  141.8185592 ,\n",
       "        107.04897119,   67.67552744,   47.78596755,   43.45030972,\n",
       "         95.67969852,   52.35999054,  210.46319407,  181.12628151,\n",
       "        118.31623378,  227.15236882,   72.72832644,  237.99283002,\n",
       "        151.19783019,   43.22987909,    9.37635338,   47.31274503,\n",
       "         59.6409565 ,  201.15409391,  -37.85162977,  174.35621648,\n",
       "        123.60366032,  252.75955463,   53.04298321,  260.09002609,\n",
       "        142.20132452,  113.80005837,   30.46705964,  120.60129275,\n",
       "        124.55010919,  126.24124073,  184.30865137,  419.63708769,\n",
       "        107.27252271,  363.962411  ,  159.31190332,  441.61055529,\n",
       "        103.9462949 ,  170.78975602,  188.0188064 ,   62.88232669,\n",
       "        155.03306067,  308.57320868,  197.78578288,  202.04622768,\n",
       "        200.10281695,  419.09079136,  263.3399357 ,  445.43782836,\n",
       "        357.21277077,  285.37003071,  268.38684964,  304.35928152,\n",
       "        270.58282313,  257.47362923,  367.49124486,  223.00132499,\n",
       "        503.686492  ,  283.14653252,  372.46248135,  442.79842375,\n",
       "        448.16183662,  349.41698304,  556.68296864,  456.83512109,\n",
       "        509.53858601,  543.82597075,  544.33070873,  490.66376967,\n",
       "        672.83779737,  790.49143433,  644.60930815,  541.98692663,\n",
       "        534.76997926,  785.34888521,  778.1842207 ,  657.3825859 ,\n",
       "        761.93056632,  783.51312349,  783.29390493,  884.95756234,\n",
       "        811.44545015,  939.52234665,  936.4385802 , 1147.46746146,\n",
       "       1062.46557591, 1018.27196981, 1089.66188351, 1123.35440493])"
      ]
     },
     "execution_count": 4,
     "metadata": {},
     "output_type": "execute_result"
    }
   ],
   "source": [
    "Y"
   ]
  },
  {
   "cell_type": "code",
   "execution_count": 5,
   "metadata": {
    "collapsed": true
   },
   "outputs": [
    {
     "data": {
      "text/plain": [
       "<matplotlib.collections.PathCollection at 0x2900966d198>"
      ]
     },
     "execution_count": 5,
     "metadata": {},
     "output_type": "execute_result"
    },
    {
     "data": {
      "image/png": "[encoded data removed]",
      "text/plain": [
       "<Figure size 432x288 with 1 Axes>"
      ]
     },
     "metadata": {
      "needs_background": "light"
     },
     "output_type": "display_data"
    }
   ],
   "source": [
    "plt.scatter(X,Y)"
   ]
  },
  {
   "cell_type": "code",
   "execution_count": 7,
   "metadata": {},
   "outputs": [],
   "source": [
    "l = len(X)\n",
    "X = X.reshape(l,1)"
   ]
  },
  {
   "cell_type": "code",
   "execution_count": 8,
   "metadata": {
    "collapsed": true
   },
   "outputs": [
    {
     "data": {
      "text/plain": [
       "array([[ 0.        ],\n",
       "       [ 0.1010101 ],\n",
       "       [ 0.2020202 ],\n",
       "       [ 0.3030303 ],\n",
       "       [ 0.4040404 ],\n",
       "       [ 0.50505051],\n",
       "       [ 0.60606061],\n",
       "       [ 0.70707071],\n",
       "       [ 0.80808081],\n",
       "       [ 0.90909091],\n",
       "       [ 1.01010101],\n",
       "       [ 1.11111111],\n",
       "       [ 1.21212121],\n",
       "       [ 1.31313131],\n",
       "       [ 1.41414141],\n",
       "       [ 1.51515152],\n",
       "       [ 1.61616162],\n",
       "       [ 1.71717172],\n",
       "       [ 1.81818182],\n",
       "       [ 1.91919192],\n",
       "       [ 2.02020202],\n",
       "       [ 2.12121212],\n",
       "       [ 2.22222222],\n",
       "       [ 2.32323232],\n",
       "       [ 2.42424242],\n",
       "       [ 2.52525253],\n",
       "       [ 2.62626263],\n",
       "       [ 2.72727273],\n",
       "       [ 2.82828283],\n",
       "       [ 2.92929293],\n",
       "       [ 3.03030303],\n",
       "       [ 3.13131313],\n",
       "       [ 3.23232323],\n",
       "       [ 3.33333333],\n",
       "       [ 3.43434343],\n",
       "       [ 3.53535354],\n",
       "       [ 3.63636364],\n",
       "       [ 3.73737374],\n",
       "       [ 3.83838384],\n",
       "       [ 3.93939394],\n",
       "       [ 4.04040404],\n",
       "       [ 4.14141414],\n",
       "       [ 4.24242424],\n",
       "       [ 4.34343434],\n",
       "       [ 4.44444444],\n",
       "       [ 4.54545455],\n",
       "       [ 4.64646465],\n",
       "       [ 4.74747475],\n",
       "       [ 4.84848485],\n",
       "       [ 4.94949495],\n",
       "       [ 5.05050505],\n",
       "       [ 5.15151515],\n",
       "       [ 5.25252525],\n",
       "       [ 5.35353535],\n",
       "       [ 5.45454545],\n",
       "       [ 5.55555556],\n",
       "       [ 5.65656566],\n",
       "       [ 5.75757576],\n",
       "       [ 5.85858586],\n",
       "       [ 5.95959596],\n",
       "       [ 6.06060606],\n",
       "       [ 6.16161616],\n",
       "       [ 6.26262626],\n",
       "       [ 6.36363636],\n",
       "       [ 6.46464646],\n",
       "       [ 6.56565657],\n",
       "       [ 6.66666667],\n",
       "       [ 6.76767677],\n",
       "       [ 6.86868687],\n",
       "       [ 6.96969697],\n",
       "       [ 7.07070707],\n",
       "       [ 7.17171717],\n",
       "       [ 7.27272727],\n",
       "       [ 7.37373737],\n",
       "       [ 7.47474747],\n",
       "       [ 7.57575758],\n",
       "       [ 7.67676768],\n",
       "       [ 7.77777778],\n",
       "       [ 7.87878788],\n",
       "       [ 7.97979798],\n",
       "       [ 8.08080808],\n",
       "       [ 8.18181818],\n",
       "       [ 8.28282828],\n",
       "       [ 8.38383838],\n",
       "       [ 8.48484848],\n",
       "       [ 8.58585859],\n",
       "       [ 8.68686869],\n",
       "       [ 8.78787879],\n",
       "       [ 8.88888889],\n",
       "       [ 8.98989899],\n",
       "       [ 9.09090909],\n",
       "       [ 9.19191919],\n",
       "       [ 9.29292929],\n",
       "       [ 9.39393939],\n",
       "       [ 9.49494949],\n",
       "       [ 9.5959596 ],\n",
       "       [ 9.6969697 ],\n",
       "       [ 9.7979798 ],\n",
       "       [ 9.8989899 ],\n",
       "       [10.        ]])"
      ]
     },
     "execution_count": 8,
     "metadata": {},
     "output_type": "execute_result"
    }
   ],
   "source": [
    "X"
   ]
  },
  {
   "cell_type": "code",
   "execution_count": 9,
   "metadata": {},
   "outputs": [],
   "source": [
    "### Apply linera regression model for above data\n",
    "from sklearn.linear_model import LinearRegression\n",
    "linear = LinearRegression()"
   ]
  },
  {
   "cell_type": "code",
   "execution_count": 10,
   "metadata": {
    "collapsed": true
   },
   "outputs": [
    {
     "data": {
      "text/plain": [
       "LinearRegression(copy_X=True, fit_intercept=True, n_jobs=None, normalize=False)"
      ]
     },
     "execution_count": 10,
     "metadata": {},
     "output_type": "execute_result"
    }
   ],
   "source": [
    "linear.fit(X,Y)"
   ]
  },
  {
   "cell_type": "code",
   "execution_count": 11,
   "metadata": {
    "collapsed": true
   },
   "outputs": [
    {
     "data": {
      "text/plain": [
       "array([-113.90569993, -104.90011222,  -95.89452452,  -86.88893681,\n",
       "        -77.88334911,  -68.8777614 ,  -59.87217369,  -50.86658599,\n",
       "        -41.86099828,  -32.85541058,  -23.84982287,  -14.84423517,\n",
       "         -5.83864746,    3.16694024,   12.17252795,   21.17811566,\n",
       "         30.18370336,   39.18929107,   48.19487877,   57.20046648,\n",
       "         66.20605418,   75.21164189,   84.21722959,   93.2228173 ,\n",
       "        102.22840501,  111.23399271,  120.23958042,  129.24516812,\n",
       "        138.25075583,  147.25634353,  156.26193124,  165.26751894,\n",
       "        174.27310665,  183.27869435,  192.28428206,  201.28986977,\n",
       "        210.29545747,  219.30104518,  228.30663288,  237.31222059,\n",
       "        246.31780829,  255.323396  ,  264.3289837 ,  273.33457141,\n",
       "        282.34015912,  291.34574682,  300.35133453,  309.35692223,\n",
       "        318.36250994,  327.36809764,  336.37368535,  345.37927305,\n",
       "        354.38486076,  363.39044846,  372.39603617,  381.40162388,\n",
       "        390.40721158,  399.41279929,  408.41838699,  417.4239747 ,\n",
       "        426.4295624 ,  435.43515011,  444.44073781,  453.44632552,\n",
       "        462.45191323,  471.45750093,  480.46308864,  489.46867634,\n",
       "        498.47426405,  507.47985175,  516.48543946,  525.49102716,\n",
       "        534.49661487,  543.50220258,  552.50779028,  561.51337799,\n",
       "        570.51896569,  579.5245534 ,  588.5301411 ,  597.53572881,\n",
       "        606.54131651,  615.54690422,  624.55249192,  633.55807963,\n",
       "        642.56366734,  651.56925504,  660.57484275,  669.58043045,\n",
       "        678.58601816,  687.59160586,  696.59719357,  705.60278127,\n",
       "        714.60836898,  723.61395669,  732.61954439,  741.6251321 ,\n",
       "        750.6307198 ,  759.63630751,  768.64189521,  777.64748292])"
      ]
     },
     "execution_count": 11,
     "metadata": {},
     "output_type": "execute_result"
    }
   ],
   "source": [
    "y_predict = linear.predict(X)\n",
    "y_predict"
   ]
  },
  {
   "cell_type": "code",
   "execution_count": 15,
   "metadata": {},
   "outputs": [
    {
     "data": {
      "text/plain": [
       "[<matplotlib.lines.Line2D at 0x2900cd4e438>]"
      ]
     },
     "execution_count": 15,
     "metadata": {},
     "output_type": "execute_result"
    },
    {
     "data": {
      "image/png": "[encoded data removed]",
      "text/plain": [
       "<Figure size 432x288 with 1 Axes>"
      ]
     },
     "metadata": {
      "needs_background": "light"
     },
     "output_type": "display_data"
    }
   ],
   "source": [
    "plt.scatter(X,Y, c = 'm')\n",
    "plt.plot(X, y_predict, c = 'y')"
   ]
  },
  {
   "cell_type": "markdown",
   "metadata": {},
   "source": [
    "- Linear regression is underfit for given data \n",
    "- In this case, polynomial regression"
   ]
  },
  {
   "cell_type": "code",
   "execution_count": 16,
   "metadata": {},
   "outputs": [],
   "source": [
    "from sklearn.preprocessing import PolynomialFeatures"
   ]
  },
  {
   "cell_type": "code",
   "execution_count": 20,
   "metadata": {
    "collapsed": true
   },
   "outputs": [
    {
     "data": {
      "text/plain": [
       "array([[ 0.        ],\n",
       "       [ 0.1010101 ],\n",
       "       [ 0.2020202 ],\n",
       "       [ 0.3030303 ],\n",
       "       [ 0.4040404 ],\n",
       "       [ 0.50505051],\n",
       "       [ 0.60606061],\n",
       "       [ 0.70707071],\n",
       "       [ 0.80808081],\n",
       "       [ 0.90909091],\n",
       "       [ 1.01010101],\n",
       "       [ 1.11111111],\n",
       "       [ 1.21212121],\n",
       "       [ 1.31313131],\n",
       "       [ 1.41414141],\n",
       "       [ 1.51515152],\n",
       "       [ 1.61616162],\n",
       "       [ 1.71717172],\n",
       "       [ 1.81818182],\n",
       "       [ 1.91919192],\n",
       "       [ 2.02020202],\n",
       "       [ 2.12121212],\n",
       "       [ 2.22222222],\n",
       "       [ 2.32323232],\n",
       "       [ 2.42424242],\n",
       "       [ 2.52525253],\n",
       "       [ 2.62626263],\n",
       "       [ 2.72727273],\n",
       "       [ 2.82828283],\n",
       "       [ 2.92929293],\n",
       "       [ 3.03030303],\n",
       "       [ 3.13131313],\n",
       "       [ 3.23232323],\n",
       "       [ 3.33333333],\n",
       "       [ 3.43434343],\n",
       "       [ 3.53535354],\n",
       "       [ 3.63636364],\n",
       "       [ 3.73737374],\n",
       "       [ 3.83838384],\n",
       "       [ 3.93939394],\n",
       "       [ 4.04040404],\n",
       "       [ 4.14141414],\n",
       "       [ 4.24242424],\n",
       "       [ 4.34343434],\n",
       "       [ 4.44444444],\n",
       "       [ 4.54545455],\n",
       "       [ 4.64646465],\n",
       "       [ 4.74747475],\n",
       "       [ 4.84848485],\n",
       "       [ 4.94949495],\n",
       "       [ 5.05050505],\n",
       "       [ 5.15151515],\n",
       "       [ 5.25252525],\n",
       "       [ 5.35353535],\n",
       "       [ 5.45454545],\n",
       "       [ 5.55555556],\n",
       "       [ 5.65656566],\n",
       "       [ 5.75757576],\n",
       "       [ 5.85858586],\n",
       "       [ 5.95959596],\n",
       "       [ 6.06060606],\n",
       "       [ 6.16161616],\n",
       "       [ 6.26262626],\n",
       "       [ 6.36363636],\n",
       "       [ 6.46464646],\n",
       "       [ 6.56565657],\n",
       "       [ 6.66666667],\n",
       "       [ 6.76767677],\n",
       "       [ 6.86868687],\n",
       "       [ 6.96969697],\n",
       "       [ 7.07070707],\n",
       "       [ 7.17171717],\n",
       "       [ 7.27272727],\n",
       "       [ 7.37373737],\n",
       "       [ 7.47474747],\n",
       "       [ 7.57575758],\n",
       "       [ 7.67676768],\n",
       "       [ 7.77777778],\n",
       "       [ 7.87878788],\n",
       "       [ 7.97979798],\n",
       "       [ 8.08080808],\n",
       "       [ 8.18181818],\n",
       "       [ 8.28282828],\n",
       "       [ 8.38383838],\n",
       "       [ 8.48484848],\n",
       "       [ 8.58585859],\n",
       "       [ 8.68686869],\n",
       "       [ 8.78787879],\n",
       "       [ 8.88888889],\n",
       "       [ 8.98989899],\n",
       "       [ 9.09090909],\n",
       "       [ 9.19191919],\n",
       "       [ 9.29292929],\n",
       "       [ 9.39393939],\n",
       "       [ 9.49494949],\n",
       "       [ 9.5959596 ],\n",
       "       [ 9.6969697 ],\n",
       "       [ 9.7979798 ],\n",
       "       [ 9.8989899 ],\n",
       "       [10.        ]])"
      ]
     },
     "execution_count": 20,
     "metadata": {},
     "output_type": "execute_result"
    }
   ],
   "source": [
    "X"
   ]
  },
  {
   "cell_type": "code",
   "execution_count": 18,
   "metadata": {
    "collapsed": true
   },
   "outputs": [
    {
     "data": {
      "text/plain": [
       "PolynomialFeatures(degree=2, include_bias=True, interaction_only=False,\n",
       "                   order='C')"
      ]
     },
     "execution_count": 18,
     "metadata": {},
     "output_type": "execute_result"
    }
   ],
   "source": [
    "poly = PolynomialFeatures(degree = 3)\n",
    "poly\n",
    "## degree = 2 --> X**0, X**1, X**2"
   ]
  },
  {
   "cell_type": "code",
   "execution_count": 19,
   "metadata": {
    "collapsed": true
   },
   "outputs": [
    {
     "data": {
      "text/plain": [
       "array([[1.00000000e+00, 0.00000000e+00, 0.00000000e+00],\n",
       "       [1.00000000e+00, 1.01010101e-01, 1.02030405e-02],\n",
       "       [1.00000000e+00, 2.02020202e-01, 4.08121620e-02],\n",
       "       [1.00000000e+00, 3.03030303e-01, 9.18273646e-02],\n",
       "       [1.00000000e+00, 4.04040404e-01, 1.63248648e-01],\n",
       "       [1.00000000e+00, 5.05050505e-01, 2.55076013e-01],\n",
       "       [1.00000000e+00, 6.06060606e-01, 3.67309458e-01],\n",
       "       [1.00000000e+00, 7.07070707e-01, 4.99948985e-01],\n",
       "       [1.00000000e+00, 8.08080808e-01, 6.52994592e-01],\n",
       "       [1.00000000e+00, 9.09090909e-01, 8.26446281e-01],\n",
       "       [1.00000000e+00, 1.01010101e+00, 1.02030405e+00],\n",
       "       [1.00000000e+00, 1.11111111e+00, 1.23456790e+00],\n",
       "       [1.00000000e+00, 1.21212121e+00, 1.46923783e+00],\n",
       "       [1.00000000e+00, 1.31313131e+00, 1.72431385e+00],\n",
       "       [1.00000000e+00, 1.41414141e+00, 1.99979594e+00],\n",
       "       [1.00000000e+00, 1.51515152e+00, 2.29568411e+00],\n",
       "       [1.00000000e+00, 1.61616162e+00, 2.61197837e+00],\n",
       "       [1.00000000e+00, 1.71717172e+00, 2.94867871e+00],\n",
       "       [1.00000000e+00, 1.81818182e+00, 3.30578512e+00],\n",
       "       [1.00000000e+00, 1.91919192e+00, 3.68329762e+00],\n",
       "       [1.00000000e+00, 2.02020202e+00, 4.08121620e+00],\n",
       "       [1.00000000e+00, 2.12121212e+00, 4.49954086e+00],\n",
       "       [1.00000000e+00, 2.22222222e+00, 4.93827160e+00],\n",
       "       [1.00000000e+00, 2.32323232e+00, 5.39740843e+00],\n",
       "       [1.00000000e+00, 2.42424242e+00, 5.87695133e+00],\n",
       "       [1.00000000e+00, 2.52525253e+00, 6.37690032e+00],\n",
       "       [1.00000000e+00, 2.62626263e+00, 6.89725538e+00],\n",
       "       [1.00000000e+00, 2.72727273e+00, 7.43801653e+00],\n",
       "       [1.00000000e+00, 2.82828283e+00, 7.99918376e+00],\n",
       "       [1.00000000e+00, 2.92929293e+00, 8.58075707e+00],\n",
       "       [1.00000000e+00, 3.03030303e+00, 9.18273646e+00],\n",
       "       [1.00000000e+00, 3.13131313e+00, 9.80512193e+00],\n",
       "       [1.00000000e+00, 3.23232323e+00, 1.04479135e+01],\n",
       "       [1.00000000e+00, 3.33333333e+00, 1.11111111e+01],\n",
       "       [1.00000000e+00, 3.43434343e+00, 1.17947148e+01],\n",
       "       [1.00000000e+00, 3.53535354e+00, 1.24987246e+01],\n",
       "       [1.00000000e+00, 3.63636364e+00, 1.32231405e+01],\n",
       "       [1.00000000e+00, 3.73737374e+00, 1.39679625e+01],\n",
       "       [1.00000000e+00, 3.83838384e+00, 1.47331905e+01],\n",
       "       [1.00000000e+00, 3.93939394e+00, 1.55188246e+01],\n",
       "       [1.00000000e+00, 4.04040404e+00, 1.63248648e+01],\n",
       "       [1.00000000e+00, 4.14141414e+00, 1.71513111e+01],\n",
       "       [1.00000000e+00, 4.24242424e+00, 1.79981635e+01],\n",
       "       [1.00000000e+00, 4.34343434e+00, 1.88654219e+01],\n",
       "       [1.00000000e+00, 4.44444444e+00, 1.97530864e+01],\n",
       "       [1.00000000e+00, 4.54545455e+00, 2.06611570e+01],\n",
       "       [1.00000000e+00, 4.64646465e+00, 2.15896337e+01],\n",
       "       [1.00000000e+00, 4.74747475e+00, 2.25385165e+01],\n",
       "       [1.00000000e+00, 4.84848485e+00, 2.35078053e+01],\n",
       "       [1.00000000e+00, 4.94949495e+00, 2.44975003e+01],\n",
       "       [1.00000000e+00, 5.05050505e+00, 2.55076013e+01],\n",
       "       [1.00000000e+00, 5.15151515e+00, 2.65381084e+01],\n",
       "       [1.00000000e+00, 5.25252525e+00, 2.75890215e+01],\n",
       "       [1.00000000e+00, 5.35353535e+00, 2.86603408e+01],\n",
       "       [1.00000000e+00, 5.45454545e+00, 2.97520661e+01],\n",
       "       [1.00000000e+00, 5.55555556e+00, 3.08641975e+01],\n",
       "       [1.00000000e+00, 5.65656566e+00, 3.19967350e+01],\n",
       "       [1.00000000e+00, 5.75757576e+00, 3.31496786e+01],\n",
       "       [1.00000000e+00, 5.85858586e+00, 3.43230283e+01],\n",
       "       [1.00000000e+00, 5.95959596e+00, 3.55167840e+01],\n",
       "       [1.00000000e+00, 6.06060606e+00, 3.67309458e+01],\n",
       "       [1.00000000e+00, 6.16161616e+00, 3.79655137e+01],\n",
       "       [1.00000000e+00, 6.26262626e+00, 3.92204877e+01],\n",
       "       [1.00000000e+00, 6.36363636e+00, 4.04958678e+01],\n",
       "       [1.00000000e+00, 6.46464646e+00, 4.17916539e+01],\n",
       "       [1.00000000e+00, 6.56565657e+00, 4.31078461e+01],\n",
       "       [1.00000000e+00, 6.66666667e+00, 4.44444444e+01],\n",
       "       [1.00000000e+00, 6.76767677e+00, 4.58014488e+01],\n",
       "       [1.00000000e+00, 6.86868687e+00, 4.71788593e+01],\n",
       "       [1.00000000e+00, 6.96969697e+00, 4.85766758e+01],\n",
       "       [1.00000000e+00, 7.07070707e+00, 4.99948985e+01],\n",
       "       [1.00000000e+00, 7.17171717e+00, 5.14335272e+01],\n",
       "       [1.00000000e+00, 7.27272727e+00, 5.28925620e+01],\n",
       "       [1.00000000e+00, 7.37373737e+00, 5.43720029e+01],\n",
       "       [1.00000000e+00, 7.47474747e+00, 5.58718498e+01],\n",
       "       [1.00000000e+00, 7.57575758e+00, 5.73921028e+01],\n",
       "       [1.00000000e+00, 7.67676768e+00, 5.89327620e+01],\n",
       "       [1.00000000e+00, 7.77777778e+00, 6.04938272e+01],\n",
       "       [1.00000000e+00, 7.87878788e+00, 6.20752984e+01],\n",
       "       [1.00000000e+00, 7.97979798e+00, 6.36771758e+01],\n",
       "       [1.00000000e+00, 8.08080808e+00, 6.52994592e+01],\n",
       "       [1.00000000e+00, 8.18181818e+00, 6.69421488e+01],\n",
       "       [1.00000000e+00, 8.28282828e+00, 6.86052444e+01],\n",
       "       [1.00000000e+00, 8.38383838e+00, 7.02887460e+01],\n",
       "       [1.00000000e+00, 8.48484848e+00, 7.19926538e+01],\n",
       "       [1.00000000e+00, 8.58585859e+00, 7.37169677e+01],\n",
       "       [1.00000000e+00, 8.68686869e+00, 7.54616876e+01],\n",
       "       [1.00000000e+00, 8.78787879e+00, 7.72268136e+01],\n",
       "       [1.00000000e+00, 8.88888889e+00, 7.90123457e+01],\n",
       "       [1.00000000e+00, 8.98989899e+00, 8.08182838e+01],\n",
       "       [1.00000000e+00, 9.09090909e+00, 8.26446281e+01],\n",
       "       [1.00000000e+00, 9.19191919e+00, 8.44913784e+01],\n",
       "       [1.00000000e+00, 9.29292929e+00, 8.63585348e+01],\n",
       "       [1.00000000e+00, 9.39393939e+00, 8.82460973e+01],\n",
       "       [1.00000000e+00, 9.49494949e+00, 9.01540659e+01],\n",
       "       [1.00000000e+00, 9.59595960e+00, 9.20824406e+01],\n",
       "       [1.00000000e+00, 9.69696970e+00, 9.40312213e+01],\n",
       "       [1.00000000e+00, 9.79797980e+00, 9.60004081e+01],\n",
       "       [1.00000000e+00, 9.89898990e+00, 9.79900010e+01],\n",
       "       [1.00000000e+00, 1.00000000e+01, 1.00000000e+02]])"
      ]
     },
     "execution_count": 19,
     "metadata": {},
     "output_type": "execute_result"
    }
   ],
   "source": [
    "X_poly = poly.fit_transform(X)\n",
    "X_poly"
   ]
  },
  {
   "cell_type": "code",
   "execution_count": 21,
   "metadata": {
    "collapsed": true
   },
   "outputs": [
    {
     "data": {
      "text/plain": [
       "(1.0, 0.1010101, 0.01020304030201)"
      ]
     },
     "execution_count": 21,
     "metadata": {},
     "output_type": "execute_result"
    }
   ],
   "source": [
    "0.1010101**0, 0.1010101**1, 0.1010101**2"
   ]
  },
  {
   "cell_type": "code",
   "execution_count": 22,
   "metadata": {
    "collapsed": true
   },
   "outputs": [
    {
     "data": {
      "text/plain": [
       "LinearRegression(copy_X=True, fit_intercept=True, n_jobs=None, normalize=False)"
      ]
     },
     "execution_count": 22,
     "metadata": {},
     "output_type": "execute_result"
    }
   ],
   "source": [
    "linear2 = LinearRegression()\n",
    "linear2.fit(X_poly, Y)"
   ]
  },
  {
   "cell_type": "code",
   "execution_count": 23,
   "metadata": {
    "collapsed": true
   },
   "outputs": [
    {
     "data": {
      "text/plain": [
       "array([ 135.43529725,  129.32930937,  123.53172099,  118.04253211,\n",
       "        112.86174273,  107.98935286,  103.42536249,   99.16977162,\n",
       "         95.22258025,   91.58378838,   88.25339602,   85.23140315,\n",
       "         82.51780979,   80.11261593,   78.01582158,   76.22742672,\n",
       "         74.74743137,   73.57583551,   72.71263916,   72.15784231,\n",
       "         71.91144497,   71.97344712,   72.34384878,   73.02264993,\n",
       "         74.00985059,   75.30545076,   76.90945042,   78.82184958,\n",
       "         81.04264825,   83.57184642,   86.40944409,   89.55544126,\n",
       "         93.00983794,   96.77263411,  100.84382979,  105.22342497,\n",
       "        109.91141965,  114.90781383,  120.21260751,  125.8258007 ,\n",
       "        131.74739339,  137.97738558,  144.51577727,  151.36256846,\n",
       "        158.51775916,  165.98134935,  173.75333905,  181.83372825,\n",
       "        190.22251696,  198.91970516,  207.92529286,  217.23928007,\n",
       "        226.86166678,  236.79245299,  247.0316387 ,  257.57922392,\n",
       "        268.43520863,  279.59959285,  291.07237657,  302.85355979,\n",
       "        314.94314252,  327.34112474,  340.04750647,  353.0622877 ,\n",
       "        366.38546843,  380.01704866,  393.95702839,  408.20540763,\n",
       "        422.76218637,  437.6273646 ,  452.80094234,  468.28291959,\n",
       "        484.07329633,  500.17207258,  516.57924833,  533.29482358,\n",
       "        550.31879833,  567.65117258,  585.29194633,  603.24111959,\n",
       "        621.49869235,  640.06466461,  658.93903637,  678.12180763,\n",
       "        697.6129784 ,  717.41254867,  737.52051844,  757.93688771,\n",
       "        778.66165648,  799.69482475,  821.03639253,  842.68635981,\n",
       "        864.64472659,  886.91149287,  909.48665865,  932.37022394,\n",
       "        955.56218872,  979.06255301, 1002.8713168 , 1026.98848009])"
      ]
     },
     "execution_count": 23,
     "metadata": {},
     "output_type": "execute_result"
    }
   ],
   "source": [
    "y_predict2 = linear2.predict(X_poly)\n",
    "y_predict2"
   ]
  },
  {
   "cell_type": "code",
   "execution_count": 26,
   "metadata": {
    "collapsed": true
   },
   "outputs": [
    {
     "data": {
      "text/plain": [
       "[<matplotlib.lines.Line2D at 0x2900ccfa2b0>]"
      ]
     },
     "execution_count": 26,
     "metadata": {},
     "output_type": "execute_result"
    },
    {
     "data": {
      "image/png": "[encoded data removed]",
      "text/plain": [
       "<Figure size 432x288 with 1 Axes>"
      ]
     },
     "metadata": {
      "needs_background": "light"
     },
     "output_type": "display_data"
    }
   ],
   "source": [
    "plt.scatter(X,Y, c = 'purple')\n",
    "plt.plot(X,y_predict2, c = 'r')"
   ]
  },
  {
   "cell_type": "code",
   "execution_count": null,
   "metadata": {},
   "outputs": [],
   "source": []
  },
  {
   "cell_type": "code",
   "execution_count": null,
   "metadata": {},
   "outputs": [],
   "source": []
  },
  {
   "cell_type": "code",
   "execution_count": 27,
   "metadata": {
    "collapsed": true
   },
   "outputs": [
    {
     "data": {
      "text/html": [
       "<div>\n",
       "<style scoped>\n",
       "    .dataframe tbody tr th:only-of-type {\n",
       "        vertical-align: middle;\n",
       "    }\n",
       "\n",
       "    .dataframe tbody tr th {\n",
       "        vertical-align: top;\n",
       "    }\n",
       "\n",
       "    .dataframe thead th {\n",
       "        text-align: right;\n",
       "    }\n",
       "</style>\n",
       "<table border=\"1\" class=\"dataframe\">\n",
       "  <thead>\n",
       "    <tr style=\"text-align: right;\">\n",
       "      <th></th>\n",
       "      <th>Experience</th>\n",
       "      <th>Salary</th>\n",
       "    </tr>\n",
       "  </thead>\n",
       "  <tbody>\n",
       "    <tr>\n",
       "      <th>0</th>\n",
       "      <td>0</td>\n",
       "      <td>5000</td>\n",
       "    </tr>\n",
       "    <tr>\n",
       "      <th>1</th>\n",
       "      <td>1</td>\n",
       "      <td>6000</td>\n",
       "    </tr>\n",
       "    <tr>\n",
       "      <th>2</th>\n",
       "      <td>2</td>\n",
       "      <td>7000</td>\n",
       "    </tr>\n",
       "    <tr>\n",
       "      <th>3</th>\n",
       "      <td>3</td>\n",
       "      <td>8000</td>\n",
       "    </tr>\n",
       "    <tr>\n",
       "      <th>4</th>\n",
       "      <td>4</td>\n",
       "      <td>15000</td>\n",
       "    </tr>\n",
       "    <tr>\n",
       "      <th>5</th>\n",
       "      <td>5</td>\n",
       "      <td>25000</td>\n",
       "    </tr>\n",
       "    <tr>\n",
       "      <th>6</th>\n",
       "      <td>6</td>\n",
       "      <td>40000</td>\n",
       "    </tr>\n",
       "    <tr>\n",
       "      <th>7</th>\n",
       "      <td>7</td>\n",
       "      <td>55000</td>\n",
       "    </tr>\n",
       "    <tr>\n",
       "      <th>8</th>\n",
       "      <td>8</td>\n",
       "      <td>70000</td>\n",
       "    </tr>\n",
       "  </tbody>\n",
       "</table>\n",
       "</div>"
      ],
      "text/plain": [
       "   Experience  Salary\n",
       "0           0    5000\n",
       "1           1    6000\n",
       "2           2    7000\n",
       "3           3    8000\n",
       "4           4   15000\n",
       "5           5   25000\n",
       "6           6   40000\n",
       "7           7   55000\n",
       "8           8   70000"
      ]
     },
     "execution_count": 27,
     "metadata": {},
     "output_type": "execute_result"
    }
   ],
   "source": [
    "Experience = [0,1,2,3,4,5,6,7,8]\n",
    "Salary = [5000,6000,7000,8000,15000,25000,40000,55000,70000]\n",
    "\n",
    "df = pd.DataFrame({'Experience':Experience, 'Salary':Salary})\n",
    "df"
   ]
  },
  {
   "cell_type": "markdown",
   "metadata": {},
   "source": [
    "#### Task:1\n",
    "- Apply Linear Regression model for above dataset\n",
    "- Check whether the model is underfit or bestfit.\n",
    "- Check Accuray and plot the graph\n",
    "\n",
    "#### Task:2\n",
    "- Apply Polynomial Regression model for above dataset\n",
    "- Check whether the model is underfit or bestfit.\n",
    "- Check Accuray and plot the graph"
   ]
  },
  {
   "cell_type": "code",
   "execution_count": null,
   "metadata": {},
   "outputs": [],
   "source": []
  }
 ],
 "metadata": {
  "kernelspec": {
   "display_name": "Python 3",
   "language": "python",
   "name": "python3"
  },
  "language_info": {
   "codemirror_mode": {
    "name": "ipython",
    "version": 3
   },
   "file_extension": ".py",
   "mimetype": "text/x-python",
   "name": "python",
   "nbconvert_exporter": "python",
   "pygments_lexer": "ipython3",
   "version": "3.7.3"
  }
 },
 "nbformat": 4,
 "nbformat_minor": 2
}
