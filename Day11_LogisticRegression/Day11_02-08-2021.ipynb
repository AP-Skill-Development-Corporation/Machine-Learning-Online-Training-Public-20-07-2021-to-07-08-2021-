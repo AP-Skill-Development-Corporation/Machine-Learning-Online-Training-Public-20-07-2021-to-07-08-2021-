{
 "cells": [
  {
   "attachments": {
    "D.png": {
     "image/png": "[encoded data removed]"
    },
    "norm.png": {
     "image/png": "[encoded data removed]"
    }
   },
   "cell_type": "markdown",
   "metadata": {},
   "source": [
    "\n",
    "![](logo.png)\n",
    "\n",
    "## Day Objectives\n",
    "\n",
    "# Logistic Regression\n",
    "\n",
    "* classification algorithm\n",
    "* it forms the relation between features and target\n",
    "* it's having some similar propertities related to Linear Regression\n",
    "\n",
    "\n",
    "* The max value of linear regression is infinite \n",
    "* The max value of Logistic regression is 1\n",
    "\n",
    "$$ log(P[1|0] / 1 + P[1|0]) = z$$\n",
    "\n",
    "[Logistic Regression Official Link](https://scikit-learn.org/stable/modules/generated/sklearn.linear_model.LogisticRegression.html#)\n",
    "\n",
    "![D.png](attachment:D.png)\n",
    "\n",
    "#### Types of Logistic regression:\n",
    "\n",
    "* Binomial regression --- only two categories will be considered\n",
    "* Multinomial Regression --- more than 3 unordered categories\n",
    "* Ordinal Regression --- more than 3 ordered categories.\n",
    "\n",
    "###  Normalizing Data\n",
    "\n",
    "\n",
    "\n",
    "* Want to scale the individual data observations (i.e. rows)\n",
    "* Used in classification Problems and data mining \n",
    "\n",
    "* when clustering data we need to apply L2 normalization to each row\n",
    "* L2 normalization applied to a particular row of a data array \n",
    "* L2 norm of a row is just the square root of the sum of squared values for the row\n",
    "\n",
    "![norm.png](attachment:norm.png)\n"
   ]
  },
  {
   "cell_type": "code",
   "execution_count": 1,
   "metadata": {},
   "outputs": [],
   "source": [
    "import pandas as pd\n",
    "import numpy as np\n",
    "import matplotlib.pyplot as plt"
   ]
  },
  {
   "cell_type": "code",
   "execution_count": 2,
   "metadata": {},
   "outputs": [
    {
     "data": {
      "text/html": [
       "<div>\n",
       "<style scoped>\n",
       "    .dataframe tbody tr th:only-of-type {\n",
       "        vertical-align: middle;\n",
       "    }\n",
       "\n",
       "    .dataframe tbody tr th {\n",
       "        vertical-align: top;\n",
       "    }\n",
       "\n",
       "    .dataframe thead th {\n",
       "        text-align: right;\n",
       "    }\n",
       "</style>\n",
       "<table border=\"1\" class=\"dataframe\">\n",
       "  <thead>\n",
       "    <tr style=\"text-align: right;\">\n",
       "      <th></th>\n",
       "      <th>Height</th>\n",
       "      <th>Weight</th>\n",
       "      <th>Size</th>\n",
       "    </tr>\n",
       "  </thead>\n",
       "  <tbody>\n",
       "    <tr>\n",
       "      <th>0</th>\n",
       "      <td>158</td>\n",
       "      <td>58</td>\n",
       "      <td>M</td>\n",
       "    </tr>\n",
       "    <tr>\n",
       "      <th>1</th>\n",
       "      <td>158</td>\n",
       "      <td>59</td>\n",
       "      <td>M</td>\n",
       "    </tr>\n",
       "    <tr>\n",
       "      <th>2</th>\n",
       "      <td>158</td>\n",
       "      <td>63</td>\n",
       "      <td>M</td>\n",
       "    </tr>\n",
       "    <tr>\n",
       "      <th>3</th>\n",
       "      <td>160</td>\n",
       "      <td>59</td>\n",
       "      <td>M</td>\n",
       "    </tr>\n",
       "    <tr>\n",
       "      <th>4</th>\n",
       "      <td>160</td>\n",
       "      <td>60</td>\n",
       "      <td>M</td>\n",
       "    </tr>\n",
       "    <tr>\n",
       "      <th>5</th>\n",
       "      <td>163</td>\n",
       "      <td>60</td>\n",
       "      <td>M</td>\n",
       "    </tr>\n",
       "    <tr>\n",
       "      <th>6</th>\n",
       "      <td>163</td>\n",
       "      <td>61</td>\n",
       "      <td>M</td>\n",
       "    </tr>\n",
       "    <tr>\n",
       "      <th>7</th>\n",
       "      <td>160</td>\n",
       "      <td>64</td>\n",
       "      <td>L</td>\n",
       "    </tr>\n",
       "    <tr>\n",
       "      <th>8</th>\n",
       "      <td>163</td>\n",
       "      <td>64</td>\n",
       "      <td>L</td>\n",
       "    </tr>\n",
       "    <tr>\n",
       "      <th>9</th>\n",
       "      <td>165</td>\n",
       "      <td>61</td>\n",
       "      <td>L</td>\n",
       "    </tr>\n",
       "    <tr>\n",
       "      <th>10</th>\n",
       "      <td>165</td>\n",
       "      <td>61</td>\n",
       "      <td>L</td>\n",
       "    </tr>\n",
       "    <tr>\n",
       "      <th>11</th>\n",
       "      <td>165</td>\n",
       "      <td>62</td>\n",
       "      <td>L</td>\n",
       "    </tr>\n",
       "    <tr>\n",
       "      <th>12</th>\n",
       "      <td>168</td>\n",
       "      <td>62</td>\n",
       "      <td>L</td>\n",
       "    </tr>\n",
       "    <tr>\n",
       "      <th>13</th>\n",
       "      <td>168</td>\n",
       "      <td>63</td>\n",
       "      <td>L</td>\n",
       "    </tr>\n",
       "    <tr>\n",
       "      <th>14</th>\n",
       "      <td>168</td>\n",
       "      <td>66</td>\n",
       "      <td>L</td>\n",
       "    </tr>\n",
       "    <tr>\n",
       "      <th>15</th>\n",
       "      <td>170</td>\n",
       "      <td>63</td>\n",
       "      <td>L</td>\n",
       "    </tr>\n",
       "    <tr>\n",
       "      <th>16</th>\n",
       "      <td>170</td>\n",
       "      <td>64</td>\n",
       "      <td>L</td>\n",
       "    </tr>\n",
       "    <tr>\n",
       "      <th>17</th>\n",
       "      <td>170</td>\n",
       "      <td>68</td>\n",
       "      <td>L</td>\n",
       "    </tr>\n",
       "  </tbody>\n",
       "</table>\n",
       "</div>"
      ],
      "text/plain": [
       "    Height  Weight Size\n",
       "0      158      58    M\n",
       "1      158      59    M\n",
       "2      158      63    M\n",
       "3      160      59    M\n",
       "4      160      60    M\n",
       "5      163      60    M\n",
       "6      163      61    M\n",
       "7      160      64    L\n",
       "8      163      64    L\n",
       "9      165      61    L\n",
       "10     165      61    L\n",
       "11     165      62    L\n",
       "12     168      62    L\n",
       "13     168      63    L\n",
       "14     168      66    L\n",
       "15     170      63    L\n",
       "16     170      64    L\n",
       "17     170      68    L"
      ]
     },
     "execution_count": 2,
     "metadata": {},
     "output_type": "execute_result"
    }
   ],
   "source": [
    "shirt = pd.read_csv(\"https://raw.githubusercontent.com/LavanyaPolamarasetty/Datasets/master/Classification/shirt.csv\")\n",
    "shirt"
   ]
  },
  {
   "cell_type": "code",
   "execution_count": 5,
   "metadata": {},
   "outputs": [
    {
     "data": {
      "text/html": [
       "<div>\n",
       "<style scoped>\n",
       "    .dataframe tbody tr th:only-of-type {\n",
       "        vertical-align: middle;\n",
       "    }\n",
       "\n",
       "    .dataframe tbody tr th {\n",
       "        vertical-align: top;\n",
       "    }\n",
       "\n",
       "    .dataframe thead th {\n",
       "        text-align: right;\n",
       "    }\n",
       "</style>\n",
       "<table border=\"1\" class=\"dataframe\">\n",
       "  <thead>\n",
       "    <tr style=\"text-align: right;\">\n",
       "      <th></th>\n",
       "      <th>Height</th>\n",
       "      <th>Weight</th>\n",
       "      <th>Size</th>\n",
       "    </tr>\n",
       "  </thead>\n",
       "  <tbody>\n",
       "    <tr>\n",
       "      <th>0</th>\n",
       "      <td>158</td>\n",
       "      <td>58</td>\n",
       "      <td>M</td>\n",
       "    </tr>\n",
       "    <tr>\n",
       "      <th>1</th>\n",
       "      <td>158</td>\n",
       "      <td>59</td>\n",
       "      <td>M</td>\n",
       "    </tr>\n",
       "    <tr>\n",
       "      <th>2</th>\n",
       "      <td>158</td>\n",
       "      <td>63</td>\n",
       "      <td>M</td>\n",
       "    </tr>\n",
       "    <tr>\n",
       "      <th>3</th>\n",
       "      <td>160</td>\n",
       "      <td>59</td>\n",
       "      <td>M</td>\n",
       "    </tr>\n",
       "    <tr>\n",
       "      <th>4</th>\n",
       "      <td>160</td>\n",
       "      <td>60</td>\n",
       "      <td>M</td>\n",
       "    </tr>\n",
       "    <tr>\n",
       "      <th>5</th>\n",
       "      <td>163</td>\n",
       "      <td>60</td>\n",
       "      <td>M</td>\n",
       "    </tr>\n",
       "    <tr>\n",
       "      <th>6</th>\n",
       "      <td>163</td>\n",
       "      <td>61</td>\n",
       "      <td>M</td>\n",
       "    </tr>\n",
       "  </tbody>\n",
       "</table>\n",
       "</div>"
      ],
      "text/plain": [
       "   Height  Weight Size\n",
       "0     158      58    M\n",
       "1     158      59    M\n",
       "2     158      63    M\n",
       "3     160      59    M\n",
       "4     160      60    M\n",
       "5     163      60    M\n",
       "6     163      61    M"
      ]
     },
     "execution_count": 5,
     "metadata": {},
     "output_type": "execute_result"
    }
   ],
   "source": [
    "shirt[shirt[\"Size\"]== \"M\"] # data masking"
   ]
  },
  {
   "cell_type": "code",
   "execution_count": 8,
   "metadata": {
    "collapsed": true
   },
   "outputs": [
    {
     "data": {
      "text/html": [
       "<div>\n",
       "<style scoped>\n",
       "    .dataframe tbody tr th:only-of-type {\n",
       "        vertical-align: middle;\n",
       "    }\n",
       "\n",
       "    .dataframe tbody tr th {\n",
       "        vertical-align: top;\n",
       "    }\n",
       "\n",
       "    .dataframe thead th {\n",
       "        text-align: right;\n",
       "    }\n",
       "</style>\n",
       "<table border=\"1\" class=\"dataframe\">\n",
       "  <thead>\n",
       "    <tr style=\"text-align: right;\">\n",
       "      <th></th>\n",
       "      <th>Height</th>\n",
       "      <th>Weight</th>\n",
       "      <th>Size</th>\n",
       "    </tr>\n",
       "  </thead>\n",
       "  <tbody>\n",
       "    <tr>\n",
       "      <th>7</th>\n",
       "      <td>160</td>\n",
       "      <td>64</td>\n",
       "      <td>L</td>\n",
       "    </tr>\n",
       "    <tr>\n",
       "      <th>8</th>\n",
       "      <td>163</td>\n",
       "      <td>64</td>\n",
       "      <td>L</td>\n",
       "    </tr>\n",
       "    <tr>\n",
       "      <th>9</th>\n",
       "      <td>165</td>\n",
       "      <td>61</td>\n",
       "      <td>L</td>\n",
       "    </tr>\n",
       "    <tr>\n",
       "      <th>10</th>\n",
       "      <td>165</td>\n",
       "      <td>61</td>\n",
       "      <td>L</td>\n",
       "    </tr>\n",
       "    <tr>\n",
       "      <th>11</th>\n",
       "      <td>165</td>\n",
       "      <td>62</td>\n",
       "      <td>L</td>\n",
       "    </tr>\n",
       "    <tr>\n",
       "      <th>12</th>\n",
       "      <td>168</td>\n",
       "      <td>62</td>\n",
       "      <td>L</td>\n",
       "    </tr>\n",
       "    <tr>\n",
       "      <th>13</th>\n",
       "      <td>168</td>\n",
       "      <td>63</td>\n",
       "      <td>L</td>\n",
       "    </tr>\n",
       "    <tr>\n",
       "      <th>14</th>\n",
       "      <td>168</td>\n",
       "      <td>66</td>\n",
       "      <td>L</td>\n",
       "    </tr>\n",
       "    <tr>\n",
       "      <th>15</th>\n",
       "      <td>170</td>\n",
       "      <td>63</td>\n",
       "      <td>L</td>\n",
       "    </tr>\n",
       "    <tr>\n",
       "      <th>16</th>\n",
       "      <td>170</td>\n",
       "      <td>64</td>\n",
       "      <td>L</td>\n",
       "    </tr>\n",
       "    <tr>\n",
       "      <th>17</th>\n",
       "      <td>170</td>\n",
       "      <td>68</td>\n",
       "      <td>L</td>\n",
       "    </tr>\n",
       "  </tbody>\n",
       "</table>\n",
       "</div>"
      ],
      "text/plain": [
       "    Height  Weight Size\n",
       "7      160      64    L\n",
       "8      163      64    L\n",
       "9      165      61    L\n",
       "10     165      61    L\n",
       "11     165      62    L\n",
       "12     168      62    L\n",
       "13     168      63    L\n",
       "14     168      66    L\n",
       "15     170      63    L\n",
       "16     170      64    L\n",
       "17     170      68    L"
      ]
     },
     "execution_count": 8,
     "metadata": {},
     "output_type": "execute_result"
    }
   ],
   "source": [
    "g_data = shirt.groupby(\"Size\")\n",
    "g_data.get_group(\"L\")"
   ]
  },
  {
   "cell_type": "code",
   "execution_count": 58,
   "metadata": {},
   "outputs": [
    {
     "data": {
      "image/png": "[encoded data removed]",
      "text/plain": [
       "<Figure size 432x288 with 1 Axes>"
      ]
     },
     "metadata": {
      "needs_background": "light"
     },
     "output_type": "display_data"
    }
   ],
   "source": [
    "plt.scatter(g_data.get_group(\"L\")[\"Height\"],g_data.get_group(\"L\")[\"Weight\"], label = \"L Size shirts\", c = \"c\", marker = \"*\")\n",
    "plt.scatter(g_data.get_group(\"M\")[\"Height\"],g_data.get_group(\"M\")[\"Weight\"], label = \"M size shirt\", c = \"r\", marker = \"d\")\n",
    "plt.scatter(162,80, c = \"black\", label= \"Praveen\")\n",
    "plt.legend()\n",
    "\n",
    "plt.show()"
   ]
  },
  {
   "cell_type": "code",
   "execution_count": 18,
   "metadata": {},
   "outputs": [],
   "source": [
    "X = shirt[[\"Height\", \"Weight\"]]"
   ]
  },
  {
   "cell_type": "code",
   "execution_count": 19,
   "metadata": {},
   "outputs": [],
   "source": [
    "y =shirt[\"Size\"]"
   ]
  },
  {
   "cell_type": "code",
   "execution_count": 20,
   "metadata": {},
   "outputs": [],
   "source": [
    "from sklearn.linear_model import LogisticRegression"
   ]
  },
  {
   "cell_type": "code",
   "execution_count": 21,
   "metadata": {},
   "outputs": [],
   "source": [
    "lreg = LogisticRegression()"
   ]
  },
  {
   "cell_type": "code",
   "execution_count": 22,
   "metadata": {},
   "outputs": [
    {
     "data": {
      "text/plain": [
       "LogisticRegression()"
      ]
     },
     "execution_count": 22,
     "metadata": {},
     "output_type": "execute_result"
    }
   ],
   "source": [
    "lreg.fit(X,y)"
   ]
  },
  {
   "cell_type": "code",
   "execution_count": 23,
   "metadata": {
    "collapsed": true
   },
   "outputs": [
    {
     "ename": "ValueError",
     "evalue": "could not convert string to float: 'M'",
     "output_type": "error",
     "traceback": [
      "\u001b[1;31m---------------------------------------------------------------------------\u001b[0m",
      "\u001b[1;31mValueError\u001b[0m                                Traceback (most recent call last)",
      "\u001b[1;32m<ipython-input-23-72eb51d6bda6>\u001b[0m in \u001b[0;36m<module>\u001b[1;34m\u001b[0m\n\u001b[1;32m----> 1\u001b[1;33m \u001b[0mlreg\u001b[0m\u001b[1;33m.\u001b[0m\u001b[0mpredict\u001b[0m\u001b[1;33m(\u001b[0m\u001b[0my\u001b[0m\u001b[1;33m)\u001b[0m\u001b[1;33m\u001b[0m\u001b[1;33m\u001b[0m\u001b[0m\n\u001b[0m",
      "\u001b[1;32m~\\anaconda3\\lib\\site-packages\\sklearn\\linear_model\\_base.py\u001b[0m in \u001b[0;36mpredict\u001b[1;34m(self, X)\u001b[0m\n\u001b[0;32m    305\u001b[0m             \u001b[0mPredicted\u001b[0m \u001b[1;32mclass\u001b[0m \u001b[0mlabel\u001b[0m \u001b[0mper\u001b[0m \u001b[0msample\u001b[0m\u001b[1;33m.\u001b[0m\u001b[1;33m\u001b[0m\u001b[1;33m\u001b[0m\u001b[0m\n\u001b[0;32m    306\u001b[0m         \"\"\"\n\u001b[1;32m--> 307\u001b[1;33m         \u001b[0mscores\u001b[0m \u001b[1;33m=\u001b[0m \u001b[0mself\u001b[0m\u001b[1;33m.\u001b[0m\u001b[0mdecision_function\u001b[0m\u001b[1;33m(\u001b[0m\u001b[0mX\u001b[0m\u001b[1;33m)\u001b[0m\u001b[1;33m\u001b[0m\u001b[1;33m\u001b[0m\u001b[0m\n\u001b[0m\u001b[0;32m    308\u001b[0m         \u001b[1;32mif\u001b[0m \u001b[0mlen\u001b[0m\u001b[1;33m(\u001b[0m\u001b[0mscores\u001b[0m\u001b[1;33m.\u001b[0m\u001b[0mshape\u001b[0m\u001b[1;33m)\u001b[0m \u001b[1;33m==\u001b[0m \u001b[1;36m1\u001b[0m\u001b[1;33m:\u001b[0m\u001b[1;33m\u001b[0m\u001b[1;33m\u001b[0m\u001b[0m\n\u001b[0;32m    309\u001b[0m             \u001b[0mindices\u001b[0m \u001b[1;33m=\u001b[0m \u001b[1;33m(\u001b[0m\u001b[0mscores\u001b[0m \u001b[1;33m>\u001b[0m \u001b[1;36m0\u001b[0m\u001b[1;33m)\u001b[0m\u001b[1;33m.\u001b[0m\u001b[0mastype\u001b[0m\u001b[1;33m(\u001b[0m\u001b[0mnp\u001b[0m\u001b[1;33m.\u001b[0m\u001b[0mint\u001b[0m\u001b[1;33m)\u001b[0m\u001b[1;33m\u001b[0m\u001b[1;33m\u001b[0m\u001b[0m\n",
      "\u001b[1;32m~\\anaconda3\\lib\\site-packages\\sklearn\\linear_model\\_base.py\u001b[0m in \u001b[0;36mdecision_function\u001b[1;34m(self, X)\u001b[0m\n\u001b[0;32m    280\u001b[0m         \u001b[0mcheck_is_fitted\u001b[0m\u001b[1;33m(\u001b[0m\u001b[0mself\u001b[0m\u001b[1;33m)\u001b[0m\u001b[1;33m\u001b[0m\u001b[1;33m\u001b[0m\u001b[0m\n\u001b[0;32m    281\u001b[0m \u001b[1;33m\u001b[0m\u001b[0m\n\u001b[1;32m--> 282\u001b[1;33m         \u001b[0mX\u001b[0m \u001b[1;33m=\u001b[0m \u001b[0mcheck_array\u001b[0m\u001b[1;33m(\u001b[0m\u001b[0mX\u001b[0m\u001b[1;33m,\u001b[0m \u001b[0maccept_sparse\u001b[0m\u001b[1;33m=\u001b[0m\u001b[1;34m'csr'\u001b[0m\u001b[1;33m)\u001b[0m\u001b[1;33m\u001b[0m\u001b[1;33m\u001b[0m\u001b[0m\n\u001b[0m\u001b[0;32m    283\u001b[0m \u001b[1;33m\u001b[0m\u001b[0m\n\u001b[0;32m    284\u001b[0m         \u001b[0mn_features\u001b[0m \u001b[1;33m=\u001b[0m \u001b[0mself\u001b[0m\u001b[1;33m.\u001b[0m\u001b[0mcoef_\u001b[0m\u001b[1;33m.\u001b[0m\u001b[0mshape\u001b[0m\u001b[1;33m[\u001b[0m\u001b[1;36m1\u001b[0m\u001b[1;33m]\u001b[0m\u001b[1;33m\u001b[0m\u001b[1;33m\u001b[0m\u001b[0m\n",
      "\u001b[1;32m~\\anaconda3\\lib\\site-packages\\sklearn\\utils\\validation.py\u001b[0m in \u001b[0;36minner_f\u001b[1;34m(*args, **kwargs)\u001b[0m\n\u001b[0;32m     71\u001b[0m                           FutureWarning)\n\u001b[0;32m     72\u001b[0m         \u001b[0mkwargs\u001b[0m\u001b[1;33m.\u001b[0m\u001b[0mupdate\u001b[0m\u001b[1;33m(\u001b[0m\u001b[1;33m{\u001b[0m\u001b[0mk\u001b[0m\u001b[1;33m:\u001b[0m \u001b[0marg\u001b[0m \u001b[1;32mfor\u001b[0m \u001b[0mk\u001b[0m\u001b[1;33m,\u001b[0m \u001b[0marg\u001b[0m \u001b[1;32min\u001b[0m \u001b[0mzip\u001b[0m\u001b[1;33m(\u001b[0m\u001b[0msig\u001b[0m\u001b[1;33m.\u001b[0m\u001b[0mparameters\u001b[0m\u001b[1;33m,\u001b[0m \u001b[0margs\u001b[0m\u001b[1;33m)\u001b[0m\u001b[1;33m}\u001b[0m\u001b[1;33m)\u001b[0m\u001b[1;33m\u001b[0m\u001b[1;33m\u001b[0m\u001b[0m\n\u001b[1;32m---> 73\u001b[1;33m         \u001b[1;32mreturn\u001b[0m \u001b[0mf\u001b[0m\u001b[1;33m(\u001b[0m\u001b[1;33m**\u001b[0m\u001b[0mkwargs\u001b[0m\u001b[1;33m)\u001b[0m\u001b[1;33m\u001b[0m\u001b[1;33m\u001b[0m\u001b[0m\n\u001b[0m\u001b[0;32m     74\u001b[0m     \u001b[1;32mreturn\u001b[0m \u001b[0minner_f\u001b[0m\u001b[1;33m\u001b[0m\u001b[1;33m\u001b[0m\u001b[0m\n\u001b[0;32m     75\u001b[0m \u001b[1;33m\u001b[0m\u001b[0m\n",
      "\u001b[1;32m~\\anaconda3\\lib\\site-packages\\sklearn\\utils\\validation.py\u001b[0m in \u001b[0;36mcheck_array\u001b[1;34m(array, accept_sparse, accept_large_sparse, dtype, order, copy, force_all_finite, ensure_2d, allow_nd, ensure_min_samples, ensure_min_features, estimator)\u001b[0m\n\u001b[0;32m    597\u001b[0m                     \u001b[0marray\u001b[0m \u001b[1;33m=\u001b[0m \u001b[0marray\u001b[0m\u001b[1;33m.\u001b[0m\u001b[0mastype\u001b[0m\u001b[1;33m(\u001b[0m\u001b[0mdtype\u001b[0m\u001b[1;33m,\u001b[0m \u001b[0mcasting\u001b[0m\u001b[1;33m=\u001b[0m\u001b[1;34m\"unsafe\"\u001b[0m\u001b[1;33m,\u001b[0m \u001b[0mcopy\u001b[0m\u001b[1;33m=\u001b[0m\u001b[1;32mFalse\u001b[0m\u001b[1;33m)\u001b[0m\u001b[1;33m\u001b[0m\u001b[1;33m\u001b[0m\u001b[0m\n\u001b[0;32m    598\u001b[0m                 \u001b[1;32melse\u001b[0m\u001b[1;33m:\u001b[0m\u001b[1;33m\u001b[0m\u001b[1;33m\u001b[0m\u001b[0m\n\u001b[1;32m--> 599\u001b[1;33m                     \u001b[0marray\u001b[0m \u001b[1;33m=\u001b[0m \u001b[0mnp\u001b[0m\u001b[1;33m.\u001b[0m\u001b[0masarray\u001b[0m\u001b[1;33m(\u001b[0m\u001b[0marray\u001b[0m\u001b[1;33m,\u001b[0m \u001b[0morder\u001b[0m\u001b[1;33m=\u001b[0m\u001b[0morder\u001b[0m\u001b[1;33m,\u001b[0m \u001b[0mdtype\u001b[0m\u001b[1;33m=\u001b[0m\u001b[0mdtype\u001b[0m\u001b[1;33m)\u001b[0m\u001b[1;33m\u001b[0m\u001b[1;33m\u001b[0m\u001b[0m\n\u001b[0m\u001b[0;32m    600\u001b[0m             \u001b[1;32mexcept\u001b[0m \u001b[0mComplexWarning\u001b[0m\u001b[1;33m:\u001b[0m\u001b[1;33m\u001b[0m\u001b[1;33m\u001b[0m\u001b[0m\n\u001b[0;32m    601\u001b[0m                 raise ValueError(\"Complex data not supported\\n\"\n",
      "\u001b[1;32m~\\anaconda3\\lib\\site-packages\\numpy\\core\\_asarray.py\u001b[0m in \u001b[0;36masarray\u001b[1;34m(a, dtype, order)\u001b[0m\n\u001b[0;32m     83\u001b[0m \u001b[1;33m\u001b[0m\u001b[0m\n\u001b[0;32m     84\u001b[0m     \"\"\"\n\u001b[1;32m---> 85\u001b[1;33m     \u001b[1;32mreturn\u001b[0m \u001b[0marray\u001b[0m\u001b[1;33m(\u001b[0m\u001b[0ma\u001b[0m\u001b[1;33m,\u001b[0m \u001b[0mdtype\u001b[0m\u001b[1;33m,\u001b[0m \u001b[0mcopy\u001b[0m\u001b[1;33m=\u001b[0m\u001b[1;32mFalse\u001b[0m\u001b[1;33m,\u001b[0m \u001b[0morder\u001b[0m\u001b[1;33m=\u001b[0m\u001b[0morder\u001b[0m\u001b[1;33m)\u001b[0m\u001b[1;33m\u001b[0m\u001b[1;33m\u001b[0m\u001b[0m\n\u001b[0m\u001b[0;32m     86\u001b[0m \u001b[1;33m\u001b[0m\u001b[0m\n\u001b[0;32m     87\u001b[0m \u001b[1;33m\u001b[0m\u001b[0m\n",
      "\u001b[1;32m~\\anaconda3\\lib\\site-packages\\pandas\\core\\series.py\u001b[0m in \u001b[0;36m__array__\u001b[1;34m(self, dtype)\u001b[0m\n\u001b[0;32m    752\u001b[0m               dtype='datetime64[ns]')\n\u001b[0;32m    753\u001b[0m         \"\"\"\n\u001b[1;32m--> 754\u001b[1;33m         \u001b[1;32mreturn\u001b[0m \u001b[0mnp\u001b[0m\u001b[1;33m.\u001b[0m\u001b[0masarray\u001b[0m\u001b[1;33m(\u001b[0m\u001b[0mself\u001b[0m\u001b[1;33m.\u001b[0m\u001b[0marray\u001b[0m\u001b[1;33m,\u001b[0m \u001b[0mdtype\u001b[0m\u001b[1;33m)\u001b[0m\u001b[1;33m\u001b[0m\u001b[1;33m\u001b[0m\u001b[0m\n\u001b[0m\u001b[0;32m    755\u001b[0m \u001b[1;33m\u001b[0m\u001b[0m\n\u001b[0;32m    756\u001b[0m     \u001b[1;31m# ----------------------------------------------------------------------\u001b[0m\u001b[1;33m\u001b[0m\u001b[1;33m\u001b[0m\u001b[1;33m\u001b[0m\u001b[0m\n",
      "\u001b[1;32m~\\anaconda3\\lib\\site-packages\\numpy\\core\\_asarray.py\u001b[0m in \u001b[0;36masarray\u001b[1;34m(a, dtype, order)\u001b[0m\n\u001b[0;32m     83\u001b[0m \u001b[1;33m\u001b[0m\u001b[0m\n\u001b[0;32m     84\u001b[0m     \"\"\"\n\u001b[1;32m---> 85\u001b[1;33m     \u001b[1;32mreturn\u001b[0m \u001b[0marray\u001b[0m\u001b[1;33m(\u001b[0m\u001b[0ma\u001b[0m\u001b[1;33m,\u001b[0m \u001b[0mdtype\u001b[0m\u001b[1;33m,\u001b[0m \u001b[0mcopy\u001b[0m\u001b[1;33m=\u001b[0m\u001b[1;32mFalse\u001b[0m\u001b[1;33m,\u001b[0m \u001b[0morder\u001b[0m\u001b[1;33m=\u001b[0m\u001b[0morder\u001b[0m\u001b[1;33m)\u001b[0m\u001b[1;33m\u001b[0m\u001b[1;33m\u001b[0m\u001b[0m\n\u001b[0m\u001b[0;32m     86\u001b[0m \u001b[1;33m\u001b[0m\u001b[0m\n\u001b[0;32m     87\u001b[0m \u001b[1;33m\u001b[0m\u001b[0m\n",
      "\u001b[1;32m~\\anaconda3\\lib\\site-packages\\pandas\\core\\arrays\\numpy_.py\u001b[0m in \u001b[0;36m__array__\u001b[1;34m(self, dtype)\u001b[0m\n\u001b[0;32m    182\u001b[0m \u001b[1;33m\u001b[0m\u001b[0m\n\u001b[0;32m    183\u001b[0m     \u001b[1;32mdef\u001b[0m \u001b[0m__array__\u001b[0m\u001b[1;33m(\u001b[0m\u001b[0mself\u001b[0m\u001b[1;33m,\u001b[0m \u001b[0mdtype\u001b[0m\u001b[1;33m=\u001b[0m\u001b[1;32mNone\u001b[0m\u001b[1;33m)\u001b[0m \u001b[1;33m->\u001b[0m \u001b[0mnp\u001b[0m\u001b[1;33m.\u001b[0m\u001b[0mndarray\u001b[0m\u001b[1;33m:\u001b[0m\u001b[1;33m\u001b[0m\u001b[1;33m\u001b[0m\u001b[0m\n\u001b[1;32m--> 184\u001b[1;33m         \u001b[1;32mreturn\u001b[0m \u001b[0mnp\u001b[0m\u001b[1;33m.\u001b[0m\u001b[0masarray\u001b[0m\u001b[1;33m(\u001b[0m\u001b[0mself\u001b[0m\u001b[1;33m.\u001b[0m\u001b[0m_ndarray\u001b[0m\u001b[1;33m,\u001b[0m \u001b[0mdtype\u001b[0m\u001b[1;33m=\u001b[0m\u001b[0mdtype\u001b[0m\u001b[1;33m)\u001b[0m\u001b[1;33m\u001b[0m\u001b[1;33m\u001b[0m\u001b[0m\n\u001b[0m\u001b[0;32m    185\u001b[0m \u001b[1;33m\u001b[0m\u001b[0m\n\u001b[0;32m    186\u001b[0m     \u001b[0m_HANDLED_TYPES\u001b[0m \u001b[1;33m=\u001b[0m \u001b[1;33m(\u001b[0m\u001b[0mnp\u001b[0m\u001b[1;33m.\u001b[0m\u001b[0mndarray\u001b[0m\u001b[1;33m,\u001b[0m \u001b[0mnumbers\u001b[0m\u001b[1;33m.\u001b[0m\u001b[0mNumber\u001b[0m\u001b[1;33m)\u001b[0m\u001b[1;33m\u001b[0m\u001b[1;33m\u001b[0m\u001b[0m\n",
      "\u001b[1;32m~\\anaconda3\\lib\\site-packages\\numpy\\core\\_asarray.py\u001b[0m in \u001b[0;36masarray\u001b[1;34m(a, dtype, order)\u001b[0m\n\u001b[0;32m     83\u001b[0m \u001b[1;33m\u001b[0m\u001b[0m\n\u001b[0;32m     84\u001b[0m     \"\"\"\n\u001b[1;32m---> 85\u001b[1;33m     \u001b[1;32mreturn\u001b[0m \u001b[0marray\u001b[0m\u001b[1;33m(\u001b[0m\u001b[0ma\u001b[0m\u001b[1;33m,\u001b[0m \u001b[0mdtype\u001b[0m\u001b[1;33m,\u001b[0m \u001b[0mcopy\u001b[0m\u001b[1;33m=\u001b[0m\u001b[1;32mFalse\u001b[0m\u001b[1;33m,\u001b[0m \u001b[0morder\u001b[0m\u001b[1;33m=\u001b[0m\u001b[0morder\u001b[0m\u001b[1;33m)\u001b[0m\u001b[1;33m\u001b[0m\u001b[1;33m\u001b[0m\u001b[0m\n\u001b[0m\u001b[0;32m     86\u001b[0m \u001b[1;33m\u001b[0m\u001b[0m\n\u001b[0;32m     87\u001b[0m \u001b[1;33m\u001b[0m\u001b[0m\n",
      "\u001b[1;31mValueError\u001b[0m: could not convert string to float: 'M'"
     ]
    }
   ],
   "source": [
    "lreg.predict(y)"
   ]
  },
  {
   "cell_type": "code",
   "execution_count": 24,
   "metadata": {
    "collapsed": true
   },
   "outputs": [
    {
     "data": {
      "text/plain": [
       "0     M\n",
       "1     M\n",
       "2     M\n",
       "3     M\n",
       "4     M\n",
       "5     M\n",
       "6     M\n",
       "7     L\n",
       "8     L\n",
       "9     L\n",
       "10    L\n",
       "11    L\n",
       "12    L\n",
       "13    L\n",
       "14    L\n",
       "15    L\n",
       "16    L\n",
       "17    L\n",
       "Name: Size, dtype: object"
      ]
     },
     "execution_count": 24,
     "metadata": {},
     "output_type": "execute_result"
    }
   ],
   "source": [
    "y"
   ]
  },
  {
   "cell_type": "code",
   "execution_count": 26,
   "metadata": {},
   "outputs": [],
   "source": [
    "from sklearn.preprocessing import LabelBinarizer\n",
    "# it is preprocessing technique\n",
    "# used to convert cetegorial type into numerical type data"
   ]
  },
  {
   "cell_type": "code",
   "execution_count": 27,
   "metadata": {},
   "outputs": [],
   "source": [
    "lb = LabelBinarizer()"
   ]
  },
  {
   "cell_type": "code",
   "execution_count": 30,
   "metadata": {},
   "outputs": [],
   "source": [
    "shirt[\"size\"] = lb.fit_transform(shirt[\"Size\"])\n",
    "#m == 1\n",
    "#l == 0"
   ]
  },
  {
   "cell_type": "code",
   "execution_count": 31,
   "metadata": {},
   "outputs": [],
   "source": [
    "y = shirt[\"size\"]"
   ]
  },
  {
   "cell_type": "code",
   "execution_count": 32,
   "metadata": {},
   "outputs": [
    {
     "data": {
      "text/plain": [
       "LogisticRegression()"
      ]
     },
     "execution_count": 32,
     "metadata": {},
     "output_type": "execute_result"
    }
   ],
   "source": [
    "lreg.fit(X,y)"
   ]
  },
  {
   "cell_type": "code",
   "execution_count": 38,
   "metadata": {
    "scrolled": true
   },
   "outputs": [
    {
     "data": {
      "text/plain": [
       "array([1])"
      ]
     },
     "execution_count": 38,
     "metadata": {},
     "output_type": "execute_result"
    }
   ],
   "source": [
    "lreg.predict([[158,58]])"
   ]
  },
  {
   "cell_type": "code",
   "execution_count": 39,
   "metadata": {},
   "outputs": [
    {
     "data": {
      "text/plain": [
       "array([0])"
      ]
     },
     "execution_count": 39,
     "metadata": {},
     "output_type": "execute_result"
    }
   ],
   "source": [
    "lreg.predict([[162,80]]) # 5.11 , 80 "
   ]
  },
  {
   "cell_type": "code",
   "execution_count": 44,
   "metadata": {
    "scrolled": true
   },
   "outputs": [
    {
     "data": {
      "text/html": [
       "<div>\n",
       "<style scoped>\n",
       "    .dataframe tbody tr th:only-of-type {\n",
       "        vertical-align: middle;\n",
       "    }\n",
       "\n",
       "    .dataframe tbody tr th {\n",
       "        vertical-align: top;\n",
       "    }\n",
       "\n",
       "    .dataframe thead th {\n",
       "        text-align: right;\n",
       "    }\n",
       "</style>\n",
       "<table border=\"1\" class=\"dataframe\">\n",
       "  <thead>\n",
       "    <tr style=\"text-align: right;\">\n",
       "      <th></th>\n",
       "      <th>Height</th>\n",
       "      <th>Weight</th>\n",
       "    </tr>\n",
       "  </thead>\n",
       "  <tbody>\n",
       "    <tr>\n",
       "      <th>0</th>\n",
       "      <td>158</td>\n",
       "      <td>58</td>\n",
       "    </tr>\n",
       "    <tr>\n",
       "      <th>1</th>\n",
       "      <td>158</td>\n",
       "      <td>59</td>\n",
       "    </tr>\n",
       "    <tr>\n",
       "      <th>2</th>\n",
       "      <td>158</td>\n",
       "      <td>63</td>\n",
       "    </tr>\n",
       "    <tr>\n",
       "      <th>3</th>\n",
       "      <td>160</td>\n",
       "      <td>59</td>\n",
       "    </tr>\n",
       "    <tr>\n",
       "      <th>4</th>\n",
       "      <td>160</td>\n",
       "      <td>60</td>\n",
       "    </tr>\n",
       "    <tr>\n",
       "      <th>5</th>\n",
       "      <td>163</td>\n",
       "      <td>60</td>\n",
       "    </tr>\n",
       "    <tr>\n",
       "      <th>6</th>\n",
       "      <td>163</td>\n",
       "      <td>61</td>\n",
       "    </tr>\n",
       "    <tr>\n",
       "      <th>7</th>\n",
       "      <td>160</td>\n",
       "      <td>64</td>\n",
       "    </tr>\n",
       "    <tr>\n",
       "      <th>8</th>\n",
       "      <td>163</td>\n",
       "      <td>64</td>\n",
       "    </tr>\n",
       "    <tr>\n",
       "      <th>9</th>\n",
       "      <td>165</td>\n",
       "      <td>61</td>\n",
       "    </tr>\n",
       "    <tr>\n",
       "      <th>10</th>\n",
       "      <td>165</td>\n",
       "      <td>61</td>\n",
       "    </tr>\n",
       "    <tr>\n",
       "      <th>11</th>\n",
       "      <td>165</td>\n",
       "      <td>62</td>\n",
       "    </tr>\n",
       "    <tr>\n",
       "      <th>12</th>\n",
       "      <td>168</td>\n",
       "      <td>62</td>\n",
       "    </tr>\n",
       "    <tr>\n",
       "      <th>13</th>\n",
       "      <td>168</td>\n",
       "      <td>63</td>\n",
       "    </tr>\n",
       "    <tr>\n",
       "      <th>14</th>\n",
       "      <td>168</td>\n",
       "      <td>66</td>\n",
       "    </tr>\n",
       "    <tr>\n",
       "      <th>15</th>\n",
       "      <td>170</td>\n",
       "      <td>63</td>\n",
       "    </tr>\n",
       "    <tr>\n",
       "      <th>16</th>\n",
       "      <td>170</td>\n",
       "      <td>64</td>\n",
       "    </tr>\n",
       "    <tr>\n",
       "      <th>17</th>\n",
       "      <td>170</td>\n",
       "      <td>68</td>\n",
       "    </tr>\n",
       "  </tbody>\n",
       "</table>\n",
       "</div>"
      ],
      "text/plain": [
       "    Height  Weight\n",
       "0      158      58\n",
       "1      158      59\n",
       "2      158      63\n",
       "3      160      59\n",
       "4      160      60\n",
       "5      163      60\n",
       "6      163      61\n",
       "7      160      64\n",
       "8      163      64\n",
       "9      165      61\n",
       "10     165      61\n",
       "11     165      62\n",
       "12     168      62\n",
       "13     168      63\n",
       "14     168      66\n",
       "15     170      63\n",
       "16     170      64\n",
       "17     170      68"
      ]
     },
     "execution_count": 44,
     "metadata": {},
     "output_type": "execute_result"
    }
   ],
   "source": [
    "y = shirt[[\"size\"]]\n",
    "X"
   ]
  },
  {
   "cell_type": "code",
   "execution_count": 47,
   "metadata": {},
   "outputs": [],
   "source": [
    "shirt[\"pred_values\"] = lreg.predict(X)"
   ]
  },
  {
   "cell_type": "code",
   "execution_count": 48,
   "metadata": {},
   "outputs": [
    {
     "data": {
      "text/html": [
       "<div>\n",
       "<style scoped>\n",
       "    .dataframe tbody tr th:only-of-type {\n",
       "        vertical-align: middle;\n",
       "    }\n",
       "\n",
       "    .dataframe tbody tr th {\n",
       "        vertical-align: top;\n",
       "    }\n",
       "\n",
       "    .dataframe thead th {\n",
       "        text-align: right;\n",
       "    }\n",
       "</style>\n",
       "<table border=\"1\" class=\"dataframe\">\n",
       "  <thead>\n",
       "    <tr style=\"text-align: right;\">\n",
       "      <th></th>\n",
       "      <th>Height</th>\n",
       "      <th>Weight</th>\n",
       "      <th>Size</th>\n",
       "      <th>size</th>\n",
       "      <th>pred_values</th>\n",
       "    </tr>\n",
       "  </thead>\n",
       "  <tbody>\n",
       "    <tr>\n",
       "      <th>0</th>\n",
       "      <td>158</td>\n",
       "      <td>58</td>\n",
       "      <td>M</td>\n",
       "      <td>1</td>\n",
       "      <td>1</td>\n",
       "    </tr>\n",
       "    <tr>\n",
       "      <th>1</th>\n",
       "      <td>158</td>\n",
       "      <td>59</td>\n",
       "      <td>M</td>\n",
       "      <td>1</td>\n",
       "      <td>1</td>\n",
       "    </tr>\n",
       "    <tr>\n",
       "      <th>2</th>\n",
       "      <td>158</td>\n",
       "      <td>63</td>\n",
       "      <td>M</td>\n",
       "      <td>1</td>\n",
       "      <td>1</td>\n",
       "    </tr>\n",
       "    <tr>\n",
       "      <th>3</th>\n",
       "      <td>160</td>\n",
       "      <td>59</td>\n",
       "      <td>M</td>\n",
       "      <td>1</td>\n",
       "      <td>1</td>\n",
       "    </tr>\n",
       "    <tr>\n",
       "      <th>4</th>\n",
       "      <td>160</td>\n",
       "      <td>60</td>\n",
       "      <td>M</td>\n",
       "      <td>1</td>\n",
       "      <td>1</td>\n",
       "    </tr>\n",
       "    <tr>\n",
       "      <th>5</th>\n",
       "      <td>163</td>\n",
       "      <td>60</td>\n",
       "      <td>M</td>\n",
       "      <td>1</td>\n",
       "      <td>1</td>\n",
       "    </tr>\n",
       "    <tr>\n",
       "      <th>6</th>\n",
       "      <td>163</td>\n",
       "      <td>61</td>\n",
       "      <td>M</td>\n",
       "      <td>1</td>\n",
       "      <td>1</td>\n",
       "    </tr>\n",
       "    <tr>\n",
       "      <th>7</th>\n",
       "      <td>160</td>\n",
       "      <td>64</td>\n",
       "      <td>L</td>\n",
       "      <td>0</td>\n",
       "      <td>0</td>\n",
       "    </tr>\n",
       "    <tr>\n",
       "      <th>8</th>\n",
       "      <td>163</td>\n",
       "      <td>64</td>\n",
       "      <td>L</td>\n",
       "      <td>0</td>\n",
       "      <td>0</td>\n",
       "    </tr>\n",
       "    <tr>\n",
       "      <th>9</th>\n",
       "      <td>165</td>\n",
       "      <td>61</td>\n",
       "      <td>L</td>\n",
       "      <td>0</td>\n",
       "      <td>0</td>\n",
       "    </tr>\n",
       "    <tr>\n",
       "      <th>10</th>\n",
       "      <td>165</td>\n",
       "      <td>61</td>\n",
       "      <td>L</td>\n",
       "      <td>0</td>\n",
       "      <td>0</td>\n",
       "    </tr>\n",
       "    <tr>\n",
       "      <th>11</th>\n",
       "      <td>165</td>\n",
       "      <td>62</td>\n",
       "      <td>L</td>\n",
       "      <td>0</td>\n",
       "      <td>0</td>\n",
       "    </tr>\n",
       "    <tr>\n",
       "      <th>12</th>\n",
       "      <td>168</td>\n",
       "      <td>62</td>\n",
       "      <td>L</td>\n",
       "      <td>0</td>\n",
       "      <td>0</td>\n",
       "    </tr>\n",
       "    <tr>\n",
       "      <th>13</th>\n",
       "      <td>168</td>\n",
       "      <td>63</td>\n",
       "      <td>L</td>\n",
       "      <td>0</td>\n",
       "      <td>0</td>\n",
       "    </tr>\n",
       "    <tr>\n",
       "      <th>14</th>\n",
       "      <td>168</td>\n",
       "      <td>66</td>\n",
       "      <td>L</td>\n",
       "      <td>0</td>\n",
       "      <td>0</td>\n",
       "    </tr>\n",
       "    <tr>\n",
       "      <th>15</th>\n",
       "      <td>170</td>\n",
       "      <td>63</td>\n",
       "      <td>L</td>\n",
       "      <td>0</td>\n",
       "      <td>0</td>\n",
       "    </tr>\n",
       "    <tr>\n",
       "      <th>16</th>\n",
       "      <td>170</td>\n",
       "      <td>64</td>\n",
       "      <td>L</td>\n",
       "      <td>0</td>\n",
       "      <td>0</td>\n",
       "    </tr>\n",
       "    <tr>\n",
       "      <th>17</th>\n",
       "      <td>170</td>\n",
       "      <td>68</td>\n",
       "      <td>L</td>\n",
       "      <td>0</td>\n",
       "      <td>0</td>\n",
       "    </tr>\n",
       "  </tbody>\n",
       "</table>\n",
       "</div>"
      ],
      "text/plain": [
       "    Height  Weight Size  size  pred_values\n",
       "0      158      58    M     1            1\n",
       "1      158      59    M     1            1\n",
       "2      158      63    M     1            1\n",
       "3      160      59    M     1            1\n",
       "4      160      60    M     1            1\n",
       "5      163      60    M     1            1\n",
       "6      163      61    M     1            1\n",
       "7      160      64    L     0            0\n",
       "8      163      64    L     0            0\n",
       "9      165      61    L     0            0\n",
       "10     165      61    L     0            0\n",
       "11     165      62    L     0            0\n",
       "12     168      62    L     0            0\n",
       "13     168      63    L     0            0\n",
       "14     168      66    L     0            0\n",
       "15     170      63    L     0            0\n",
       "16     170      64    L     0            0\n",
       "17     170      68    L     0            0"
      ]
     },
     "execution_count": 48,
     "metadata": {},
     "output_type": "execute_result"
    }
   ],
   "source": [
    "shirt"
   ]
  },
  {
   "cell_type": "code",
   "execution_count": 49,
   "metadata": {},
   "outputs": [],
   "source": [
    "from sklearn.metrics import accuracy_score, confusion_matrix"
   ]
  },
  {
   "cell_type": "code",
   "execution_count": 53,
   "metadata": {},
   "outputs": [
    {
     "data": {
      "text/plain": [
       "100.0"
      ]
     },
     "execution_count": 53,
     "metadata": {},
     "output_type": "execute_result"
    }
   ],
   "source": [
    "accuracy_score(y,shirt[\"pred_values\"])*100"
   ]
  },
  {
   "cell_type": "code",
   "execution_count": 54,
   "metadata": {},
   "outputs": [
    {
     "data": {
      "text/plain": [
       "array([[11,  0],\n",
       "       [ 0,  7]], dtype=int64)"
      ]
     },
     "execution_count": 54,
     "metadata": {},
     "output_type": "execute_result"
    }
   ],
   "source": [
    "confusion_matrix(y,shirt[\"pred_values\"])"
   ]
  },
  {
   "cell_type": "code",
   "execution_count": 59,
   "metadata": {},
   "outputs": [
    {
     "data": {
      "text/html": [
       "<div>\n",
       "<style scoped>\n",
       "    .dataframe tbody tr th:only-of-type {\n",
       "        vertical-align: middle;\n",
       "    }\n",
       "\n",
       "    .dataframe tbody tr th {\n",
       "        vertical-align: top;\n",
       "    }\n",
       "\n",
       "    .dataframe thead th {\n",
       "        text-align: right;\n",
       "    }\n",
       "</style>\n",
       "<table border=\"1\" class=\"dataframe\">\n",
       "  <thead>\n",
       "    <tr style=\"text-align: right;\">\n",
       "      <th></th>\n",
       "      <th>Age</th>\n",
       "      <th>EstimatedSalary</th>\n",
       "      <th>Purchased</th>\n",
       "    </tr>\n",
       "  </thead>\n",
       "  <tbody>\n",
       "    <tr>\n",
       "      <th>0</th>\n",
       "      <td>19</td>\n",
       "      <td>19000</td>\n",
       "      <td>0</td>\n",
       "    </tr>\n",
       "    <tr>\n",
       "      <th>1</th>\n",
       "      <td>35</td>\n",
       "      <td>20000</td>\n",
       "      <td>0</td>\n",
       "    </tr>\n",
       "    <tr>\n",
       "      <th>2</th>\n",
       "      <td>26</td>\n",
       "      <td>43000</td>\n",
       "      <td>0</td>\n",
       "    </tr>\n",
       "    <tr>\n",
       "      <th>3</th>\n",
       "      <td>27</td>\n",
       "      <td>57000</td>\n",
       "      <td>0</td>\n",
       "    </tr>\n",
       "    <tr>\n",
       "      <th>4</th>\n",
       "      <td>19</td>\n",
       "      <td>76000</td>\n",
       "      <td>0</td>\n",
       "    </tr>\n",
       "  </tbody>\n",
       "</table>\n",
       "</div>"
      ],
      "text/plain": [
       "   Age  EstimatedSalary  Purchased\n",
       "0   19            19000          0\n",
       "1   35            20000          0\n",
       "2   26            43000          0\n",
       "3   27            57000          0\n",
       "4   19            76000          0"
      ]
     },
     "execution_count": 59,
     "metadata": {},
     "output_type": "execute_result"
    }
   ],
   "source": [
    "homebuy = pd.read_csv(\"https://raw.githubusercontent.com/LavanyaPolamarasetty/Datasets/master/Classification/HomeBuyer.csv\")\n",
    "homebuy.head()"
   ]
  },
  {
   "cell_type": "code",
   "execution_count": 60,
   "metadata": {},
   "outputs": [
    {
     "data": {
      "text/plain": [
       "(400, 3)"
      ]
     },
     "execution_count": 60,
     "metadata": {},
     "output_type": "execute_result"
    }
   ],
   "source": [
    "homebuy.shape"
   ]
  },
  {
   "cell_type": "code",
   "execution_count": 64,
   "metadata": {},
   "outputs": [
    {
     "data": {
      "text/plain": [
       "0    257\n",
       "1    143\n",
       "Name: Purchased, dtype: int64"
      ]
     },
     "execution_count": 64,
     "metadata": {},
     "output_type": "execute_result"
    }
   ],
   "source": [
    "homebuy[\"Purchased\"].value_counts()"
   ]
  },
  {
   "cell_type": "code",
   "execution_count": 65,
   "metadata": {},
   "outputs": [],
   "source": [
    "X = homebuy[[\"Age\", \"EstimatedSalary\"]]"
   ]
  },
  {
   "cell_type": "code",
   "execution_count": 66,
   "metadata": {},
   "outputs": [],
   "source": [
    "y = homebuy[\"Purchased\"]"
   ]
  },
  {
   "cell_type": "code",
   "execution_count": 67,
   "metadata": {},
   "outputs": [
    {
     "data": {
      "text/plain": [
       "18"
      ]
     },
     "execution_count": 67,
     "metadata": {},
     "output_type": "execute_result"
    }
   ],
   "source": [
    "X[\"Age\"].min()"
   ]
  },
  {
   "cell_type": "code",
   "execution_count": 68,
   "metadata": {},
   "outputs": [
    {
     "data": {
      "text/plain": [
       "60"
      ]
     },
     "execution_count": 68,
     "metadata": {},
     "output_type": "execute_result"
    }
   ],
   "source": [
    "X[\"Age\"].max()"
   ]
  },
  {
   "cell_type": "code",
   "execution_count": 69,
   "metadata": {},
   "outputs": [
    {
     "data": {
      "text/plain": [
       "15000"
      ]
     },
     "execution_count": 69,
     "metadata": {},
     "output_type": "execute_result"
    }
   ],
   "source": [
    "X[\"EstimatedSalary\"].min()"
   ]
  },
  {
   "cell_type": "code",
   "execution_count": 70,
   "metadata": {},
   "outputs": [
    {
     "data": {
      "text/plain": [
       "150000"
      ]
     },
     "execution_count": 70,
     "metadata": {},
     "output_type": "execute_result"
    }
   ],
   "source": [
    "X[\"EstimatedSalary\"].max()"
   ]
  },
  {
   "cell_type": "markdown",
   "metadata": {},
   "source": [
    "# Data Preprocessing\n",
    "- Getting the dataset\n",
    "- Importing libraries\n",
    "- Importing datasets\n",
    "- Finding Missing Data\n",
    "- Encoding Categorical Data\n",
    "- Splitting dataset into training and test set\n",
    "- Feature scaling\n"
   ]
  },
  {
   "cell_type": "code",
   "execution_count": 71,
   "metadata": {},
   "outputs": [],
   "source": [
    "from sklearn.preprocessing import Normalizer"
   ]
  },
  {
   "cell_type": "code",
   "execution_count": 72,
   "metadata": {},
   "outputs": [],
   "source": [
    "n = Normalizer()"
   ]
  },
  {
   "cell_type": "code",
   "execution_count": 100,
   "metadata": {},
   "outputs": [
    {
     "data": {
      "text/plain": [
       "Normalizer()"
      ]
     },
     "execution_count": 100,
     "metadata": {},
     "output_type": "execute_result"
    }
   ],
   "source": [
    "n.fit(X)"
   ]
  },
  {
   "cell_type": "code",
   "execution_count": 101,
   "metadata": {},
   "outputs": [],
   "source": [
    "n_data = n.transform(X)"
   ]
  },
  {
   "cell_type": "code",
   "execution_count": 102,
   "metadata": {
    "collapsed": true
   },
   "outputs": [
    {
     "data": {
      "text/plain": [
       "array([[9.99999500e-04, 9.99999500e-01],\n",
       "       [1.74999732e-03, 9.99998469e-01],\n",
       "       [6.04651052e-04, 9.99999817e-01],\n",
       "       [4.73684157e-04, 9.99999888e-01],\n",
       "       [2.49999992e-04, 9.99999969e-01],\n",
       "       [4.65517191e-04, 9.99999892e-01],\n",
       "       [3.21428555e-04, 9.99999948e-01],\n",
       "       [2.13333328e-04, 9.99999977e-01],\n",
       "       [7.57575540e-04, 9.99999713e-01],\n",
       "       [5.38461460e-04, 9.99999855e-01],\n",
       "       [3.24999983e-04, 9.99999947e-01],\n",
       "       [4.99999938e-04, 9.99999875e-01],\n",
       "       [2.32558133e-04, 9.99999973e-01],\n",
       "       [1.77777497e-03, 9.99998420e-01],\n",
       "       [2.19512190e-04, 9.99999976e-01],\n",
       "       [3.62499976e-04, 9.99999934e-01],\n",
       "       [1.87999668e-03, 9.99998233e-01],\n",
       "       [1.73076664e-03, 9.99998502e-01],\n",
       "       [1.64285493e-03, 9.99998651e-01],\n",
       "       [1.65517015e-03, 9.99998630e-01],\n",
       "       [2.04545027e-03, 9.99997908e-01],\n",
       "       [9.59183232e-04, 9.99999540e-01],\n",
       "       [1.17073091e-03, 9.99999315e-01],\n",
       "       [2.04545027e-03, 9.99997908e-01],\n",
       "       [1.99999600e-03, 9.99998000e-01],\n",
       "       [2.34999351e-03, 9.99997239e-01],\n",
       "       [1.74999732e-03, 9.99998469e-01],\n",
       "       [1.56666474e-03, 9.99998773e-01],\n",
       "       [6.74418451e-04, 9.99999773e-01],\n",
       "       [1.72221967e-03, 9.99998517e-01],\n",
       "       [4.18918882e-04, 9.99999912e-01],\n",
       "       [1.97080288e-04, 9.99999981e-01],\n",
       "       [1.31249887e-03, 9.99999139e-01],\n",
       "       [6.36363508e-04, 9.99999798e-01],\n",
       "       [2.99999987e-04, 9.99999955e-01],\n",
       "       [1.29629521e-03, 9.99999160e-01],\n",
       "       [1.17857061e-03, 9.99999305e-01],\n",
       "       [6.12244783e-04, 9.99999813e-01],\n",
       "       [3.61111088e-04, 9.99999935e-01],\n",
       "       [8.70967412e-04, 9.99999621e-01],\n",
       "       [1.58823329e-03, 9.99998739e-01],\n",
       "       [6.47058688e-04, 9.99999791e-01],\n",
       "       [3.24074057e-04, 9.99999947e-01],\n",
       "       [1.99999600e-03, 9.99998000e-01],\n",
       "       [3.33333315e-04, 9.99999944e-01],\n",
       "       [1.14999924e-03, 9.99999339e-01],\n",
       "       [3.16455680e-04, 9.99999950e-01],\n",
       "       [4.99999938e-04, 9.99999875e-01],\n",
       "       [2.22222217e-04, 9.99999975e-01],\n",
       "       [3.48314586e-04, 9.99999939e-01],\n",
       "       [7.49999789e-04, 9.99999719e-01],\n",
       "       [4.09090875e-04, 9.99999916e-01],\n",
       "       [3.49397569e-04, 9.99999939e-01],\n",
       "       [1.52173737e-03, 9.99998842e-01],\n",
       "       [4.65517191e-04, 9.99999892e-01],\n",
       "       [4.36363595e-04, 9.99999905e-01],\n",
       "       [4.79166612e-04, 9.99999885e-01],\n",
       "       [3.54430357e-04, 9.99999937e-01],\n",
       "       [1.22222131e-03, 9.99999253e-01],\n",
       "       [2.73504263e-04, 9.99999963e-01],\n",
       "       [1.34999877e-03, 9.99999089e-01],\n",
       "       [2.87356310e-04, 9.99999959e-01],\n",
       "       [3.48484827e-04, 9.99999939e-01],\n",
       "       [2.66666657e-04, 9.99999964e-01],\n",
       "       [7.10843194e-04, 9.99999747e-01],\n",
       "       [4.13793068e-04, 9.99999914e-01],\n",
       "       [1.26315689e-03, 9.99999202e-01],\n",
       "       [2.80487794e-04, 9.99999961e-01],\n",
       "       [3.49206328e-04, 9.99999939e-01],\n",
       "       [4.55882306e-04, 9.99999896e-01],\n",
       "       [3.12499985e-04, 9.99999951e-01],\n",
       "       [8.88888538e-04, 9.99999605e-01],\n",
       "       [8.69564889e-04, 9.99999622e-01],\n",
       "       [2.92035386e-04, 9.99999957e-01],\n",
       "       [1.77777497e-03, 9.99998420e-01],\n",
       "       [3.03571415e-04, 9.99999954e-01],\n",
       "       [3.46153825e-04, 9.99999940e-01],\n",
       "       [8.14814544e-04, 9.99999668e-01],\n",
       "       [3.21839064e-04, 9.99999948e-01],\n",
       "       [1.52940998e-03, 9.99998830e-01],\n",
       "       [3.74999974e-04, 9.99999930e-01],\n",
       "       [9.28571028e-04, 9.99999569e-01],\n",
       "       [4.08163231e-04, 9.99999917e-01],\n",
       "       [3.97727241e-04, 9.99999921e-01],\n",
       "       [4.83870911e-04, 9.99999883e-01],\n",
       "       [2.62711855e-04, 9.99999965e-01],\n",
       "       [4.36363595e-04, 9.99999905e-01],\n",
       "       [3.29411747e-04, 9.99999946e-01],\n",
       "       [3.20987638e-04, 9.99999948e-01],\n",
       "       [6.99999829e-04, 9.99999755e-01],\n",
       "       [2.71604928e-04, 9.99999963e-01],\n",
       "       [2.58620681e-04, 9.99999967e-01],\n",
       "       [1.73333073e-03, 9.99998498e-01],\n",
       "       [1.03571373e-03, 9.99999464e-01],\n",
       "       [3.49397569e-04, 9.99999939e-01],\n",
       "       [7.95454294e-04, 9.99999684e-01],\n",
       "       [1.39999863e-03, 9.99999020e-01],\n",
       "       [2.27642271e-04, 9.99999974e-01],\n",
       "       [4.79452000e-04, 9.99999885e-01],\n",
       "       [7.56756540e-04, 9.99999714e-01],\n",
       "       [3.06818167e-04, 9.99999953e-01],\n",
       "       [4.74576218e-04, 9.99999887e-01],\n",
       "       [3.72092997e-04, 9.99999931e-01],\n",
       "       [2.21476505e-04, 9.99999975e-01],\n",
       "       [9.04761534e-04, 9.99999591e-01],\n",
       "       [2.91666654e-04, 9.99999957e-01],\n",
       "       [7.42856938e-04, 9.99999724e-01],\n",
       "       [3.03370773e-04, 9.99999954e-01],\n",
       "       [3.02325568e-04, 9.99999954e-01],\n",
       "       [4.74999946e-04, 9.99999887e-01],\n",
       "       [5.49295692e-04, 9.99999849e-01],\n",
       "       [5.21126690e-04, 9.99999864e-01],\n",
       "       [6.22950699e-04, 9.99999806e-01],\n",
       "       [6.72727121e-04, 9.99999774e-01],\n",
       "       [5.24999928e-04, 9.99999862e-01],\n",
       "       [7.01754213e-04, 9.99999754e-01],\n",
       "       [4.66666616e-04, 9.99999891e-01],\n",
       "       [6.92307526e-04, 9.99999760e-01],\n",
       "       [6.77965946e-04, 9.99999770e-01],\n",
       "       [6.94915086e-04, 9.99999759e-01],\n",
       "       [4.79999945e-04, 9.99999885e-01],\n",
       "       [5.13888821e-04, 9.99999868e-01],\n",
       "       [5.33333257e-04, 9.99999858e-01],\n",
       "       [6.60377214e-04, 9.99999782e-01],\n",
       "       [8.03921309e-04, 9.99999677e-01],\n",
       "       [6.39344132e-04, 9.99999796e-01],\n",
       "       [6.46153711e-04, 9.99999791e-01],\n",
       "       [8.12499732e-04, 9.99999670e-01],\n",
       "       [1.76470313e-03, 9.99998443e-01],\n",
       "       [3.09523795e-04, 9.99999952e-01],\n",
       "       [5.34482682e-04, 9.99999857e-01],\n",
       "       [1.06451553e-03, 9.99999433e-01],\n",
       "       [3.44827566e-04, 9.99999941e-01],\n",
       "       [3.08823515e-04, 9.99999952e-01],\n",
       "       [5.09090843e-04, 9.99999870e-01],\n",
       "       [3.65079341e-04, 9.99999933e-01],\n",
       "       [2.43902432e-04, 9.99999970e-01],\n",
       "       [2.80373821e-04, 9.99999961e-01],\n",
       "       [4.74576218e-04, 9.99999887e-01],\n",
       "       [7.59999781e-04, 9.99999711e-01],\n",
       "       [2.23529406e-04, 9.99999975e-01],\n",
       "       [2.64705873e-04, 9.99999965e-01],\n",
       "       [5.93220235e-04, 9.99999824e-01],\n",
       "       [3.37078633e-04, 9.99999943e-01],\n",
       "       [1.35999874e-03, 9.99999075e-01],\n",
       "       [2.69662912e-04, 9.99999964e-01],\n",
       "       [2.81249989e-04, 9.99999960e-01],\n",
       "       [1.36666539e-03, 9.99999066e-01],\n",
       "       [4.75409782e-04, 9.99999887e-01],\n",
       "       [2.70270260e-04, 9.99999963e-01],\n",
       "       [1.73333073e-03, 9.99998498e-01],\n",
       "       [9.11110733e-04, 9.99999585e-01],\n",
       "       [4.07894703e-04, 9.99999917e-01],\n",
       "       [7.19999813e-04, 9.99999741e-01],\n",
       "       [8.51063522e-04, 9.99999638e-01],\n",
       "       [2.06666225e-03, 9.99997864e-01],\n",
       "       [7.79660780e-04, 9.99999696e-01],\n",
       "       [3.86666638e-04, 9.99999925e-01],\n",
       "       [8.66666341e-04, 9.99999624e-01],\n",
       "       [2.37037030e-04, 9.99999972e-01],\n",
       "       [3.19999984e-04, 9.99999949e-01],\n",
       "       [2.77777767e-04, 9.99999961e-01],\n",
       "       [1.12121142e-03, 9.99999371e-01],\n",
       "       [9.21052241e-04, 9.99999576e-01],\n",
       "       [4.78260815e-04, 9.99999886e-01],\n",
       "       [2.09302321e-04, 9.99999978e-01],\n",
       "       [3.99999968e-04, 9.99999920e-01],\n",
       "       [4.92957687e-04, 9.99999878e-01],\n",
       "       [1.95945942e-04, 9.99999981e-01],\n",
       "       [6.17021159e-04, 9.99999810e-01],\n",
       "       [2.38636357e-04, 9.99999972e-01],\n",
       "       [2.95652161e-04, 9.99999956e-01],\n",
       "       [2.20338978e-04, 9.99999976e-01],\n",
       "       [7.90697427e-04, 9.99999687e-01],\n",
       "       [4.72222170e-04, 9.99999889e-01],\n",
       "       [8.21428294e-04, 9.99999663e-01],\n",
       "       [7.44680645e-04, 9.99999723e-01],\n",
       "       [1.13636290e-03, 9.99999354e-01],\n",
       "       [1.04347769e-03, 9.99999456e-01],\n",
       "       [9.11764327e-04, 9.99999584e-01],\n",
       "       [1.62499785e-03, 9.99998680e-01],\n",
       "       [4.36619677e-04, 9.99999905e-01],\n",
       "       [2.73504263e-04, 9.99999963e-01],\n",
       "       [7.67441634e-04, 9.99999706e-01],\n",
       "       [5.49999917e-04, 9.99999849e-01],\n",
       "       [4.69696918e-04, 9.99999890e-01],\n",
       "       [2.43902432e-04, 9.99999970e-01],\n",
       "       [8.04877788e-04, 9.99999676e-01],\n",
       "       [4.86111054e-04, 9.99999882e-01],\n",
       "       [8.74999665e-04, 9.99999617e-01],\n",
       "       [2.85714274e-04, 9.99999959e-01],\n",
       "       [7.30769036e-04, 9.99999733e-01],\n",
       "       [6.74418451e-04, 9.99999773e-01],\n",
       "       [2.71428561e-04, 9.99999963e-01],\n",
       "       [3.14606726e-04, 9.99999951e-01],\n",
       "       [7.90697427e-04, 9.99999687e-01],\n",
       "       [3.79746808e-04, 9.99999928e-01],\n",
       "       [5.55555470e-04, 9.99999846e-01],\n",
       "       [3.24999983e-04, 9.99999947e-01],\n",
       "       [1.59090708e-03, 9.99998735e-01],\n",
       "       [8.97435536e-04, 9.99999597e-01],\n",
       "       [6.62162017e-04, 9.99999781e-01],\n",
       "       [2.91044764e-04, 9.99999958e-01],\n",
       "       [5.77464692e-04, 9.99999833e-01],\n",
       "       [5.74257331e-04, 9.99999835e-01],\n",
       "       [9.99999500e-04, 9.99999500e-01],\n",
       "       [4.23076885e-04, 9.99999911e-01],\n",
       "       [4.56140303e-04, 9.99999896e-01],\n",
       "       [2.81690130e-04, 9.99999960e-01],\n",
       "       [2.09090452e-03, 9.99997814e-01],\n",
       "       [4.99999938e-04, 9.99999875e-01],\n",
       "       [3.46666646e-04, 9.99999940e-01],\n",
       "       [1.40476052e-03, 9.99999013e-01],\n",
       "       [6.03448166e-04, 9.99999818e-01],\n",
       "       [1.09302260e-03, 9.99999403e-01],\n",
       "       [5.55555470e-04, 9.99999846e-01],\n",
       "       [7.53845940e-04, 9.99999716e-01],\n",
       "       [5.12820445e-04, 9.99999869e-01],\n",
       "       [4.79166612e-04, 9.99999885e-01],\n",
       "       [4.12587377e-04, 9.99999915e-01],\n",
       "       [5.12499933e-04, 9.99999869e-01],\n",
       "       [3.84615356e-04, 9.99999926e-01],\n",
       "       [2.56944436e-04, 9.99999967e-01],\n",
       "       [5.88235192e-04, 9.99999827e-01],\n",
       "       [5.83333234e-04, 9.99999830e-01],\n",
       "       [6.98113037e-04, 9.99999756e-01],\n",
       "       [2.85714274e-04, 9.99999959e-01],\n",
       "       [4.21052594e-04, 9.99999911e-01],\n",
       "       [5.55555470e-04, 9.99999846e-01],\n",
       "       [5.24999928e-04, 9.99999862e-01],\n",
       "       [2.38095231e-04, 9.99999972e-01],\n",
       "       [9.28571028e-04, 9.99999569e-01],\n",
       "       [3.73831750e-04, 9.99999930e-01],\n",
       "       [5.69767349e-04, 9.99999838e-01],\n",
       "       [3.39285695e-04, 9.99999942e-01],\n",
       "       [5.82278382e-04, 9.99999830e-01],\n",
       "       [7.01754213e-04, 9.99999754e-01],\n",
       "       [4.62499951e-04, 9.99999893e-01],\n",
       "       [5.60975521e-04, 9.99999843e-01],\n",
       "       [3.70629345e-04, 9.99999931e-01],\n",
       "       [2.81879183e-04, 9.99999960e-01],\n",
       "       [6.44067663e-04, 9.99999793e-01],\n",
       "       [5.68181726e-04, 9.99999839e-01],\n",
       "       [5.38461460e-04, 9.99999855e-01],\n",
       "       [5.69444352e-04, 9.99999838e-01],\n",
       "       [3.49315047e-04, 9.99999939e-01],\n",
       "       [6.99999829e-04, 9.99999755e-01],\n",
       "       [4.67213064e-04, 9.99999891e-01],\n",
       "       [7.88461293e-04, 9.99999689e-01],\n",
       "       [3.60824719e-04, 9.99999935e-01],\n",
       "       [1.12820441e-03, 9.99999364e-01],\n",
       "       [7.11538281e-04, 9.99999747e-01],\n",
       "       [3.58208932e-04, 9.99999936e-01],\n",
       "       [2.53424649e-04, 9.99999968e-01],\n",
       "       [1.13636290e-03, 9.99999354e-01],\n",
       "       [5.77777681e-04, 9.99999833e-01],\n",
       "       [5.69444352e-04, 9.99999838e-01],\n",
       "       [7.01754213e-04, 9.99999754e-01],\n",
       "       [6.10526202e-04, 9.99999814e-01],\n",
       "       [3.43511430e-04, 9.99999941e-01],\n",
       "       [4.54545408e-04, 9.99999897e-01],\n",
       "       [2.49999992e-04, 9.99999969e-01],\n",
       "       [4.39999957e-04, 9.99999903e-01],\n",
       "       [4.86111054e-04, 9.99999882e-01],\n",
       "       [5.33333257e-04, 9.99999858e-01],\n",
       "       [3.88888859e-04, 9.99999924e-01],\n",
       "       [5.33333257e-04, 9.99999858e-01],\n",
       "       [4.99999938e-04, 9.99999875e-01],\n",
       "       [3.26388872e-04, 9.99999947e-01],\n",
       "       [6.55737564e-04, 9.99999785e-01],\n",
       "       [3.23308254e-04, 9.99999948e-01],\n",
       "       [7.76315556e-04, 9.99999699e-01],\n",
       "       [1.42856997e-03, 9.99998980e-01],\n",
       "       [3.67924503e-04, 9.99999932e-01],\n",
       "       [2.19230242e-03, 9.99997597e-01],\n",
       "       [7.70270042e-04, 9.99999703e-01],\n",
       "       [5.35211191e-04, 9.99999857e-01],\n",
       "       [5.56818095e-04, 9.99999845e-01],\n",
       "       [1.36841977e-03, 9.99999064e-01],\n",
       "       [1.38888755e-03, 9.99999035e-01],\n",
       "       [6.70454395e-04, 9.99999775e-01],\n",
       "       [5.73770397e-04, 9.99999835e-01],\n",
       "       [5.28571355e-04, 9.99999860e-01],\n",
       "       [2.47618288e-03, 9.99996934e-01],\n",
       "       [3.40425512e-04, 9.99999942e-01],\n",
       "       [3.97849431e-04, 9.99999921e-01],\n",
       "       [5.96774087e-04, 9.99999822e-01],\n",
       "       [3.47826066e-04, 9.99999940e-01],\n",
       "       [5.18987272e-04, 9.99999865e-01],\n",
       "       [4.74358921e-04, 9.99999887e-01],\n",
       "       [2.91044764e-04, 9.99999958e-01],\n",
       "       [5.50561714e-04, 9.99999848e-01],\n",
       "       [1.41025501e-03, 9.99999006e-01],\n",
       "       [4.80519425e-04, 9.99999885e-01],\n",
       "       [6.14034972e-04, 9.99999811e-01],\n",
       "       [5.71428478e-04, 9.99999837e-01],\n",
       "       [5.75342371e-04, 9.99999834e-01],\n",
       "       [3.83928543e-04, 9.99999926e-01],\n",
       "       [5.69620161e-04, 9.99999838e-01],\n",
       "       [3.93162363e-04, 9.99999923e-01],\n",
       "       [1.52631401e-03, 9.99998835e-01],\n",
       "       [6.48648512e-04, 9.99999790e-01],\n",
       "       [2.70072983e-04, 9.99999964e-01],\n",
       "       [4.68354379e-04, 9.99999890e-01],\n",
       "       [6.66666519e-04, 9.99999778e-01],\n",
       "       [7.77777543e-04, 9.99999698e-01],\n",
       "       [3.80596987e-04, 9.99999928e-01],\n",
       "       [4.15929168e-04, 9.99999914e-01],\n",
       "       [2.87999988e-04, 9.99999959e-01],\n",
       "       [7.59999781e-04, 9.99999711e-01],\n",
       "       [5.99999892e-04, 9.99999820e-01],\n",
       "       [4.06249966e-04, 9.99999917e-01],\n",
       "       [7.59999781e-04, 9.99999711e-01],\n",
       "       [3.47517710e-04, 9.99999940e-01],\n",
       "       [4.93670826e-04, 9.99999878e-01],\n",
       "       [5.19999930e-04, 9.99999865e-01],\n",
       "       [5.19230699e-04, 9.99999865e-01],\n",
       "       [6.36363508e-04, 9.99999798e-01],\n",
       "       [1.40624861e-03, 9.99999011e-01],\n",
       "       [5.99999892e-04, 9.99999820e-01],\n",
       "       [3.76811567e-04, 9.99999929e-01],\n",
       "       [6.46341328e-04, 9.99999791e-01],\n",
       "       [7.88461293e-04, 9.99999689e-01],\n",
       "       [1.59999795e-03, 9.99998720e-01],\n",
       "       [3.66412189e-04, 9.99999933e-01],\n",
       "       [6.83333174e-04, 9.99999767e-01],\n",
       "       [5.69444352e-04, 9.99999838e-01],\n",
       "       [5.59999912e-04, 9.99999843e-01],\n",
       "       [3.05084732e-04, 9.99999953e-01],\n",
       "       [4.39252294e-04, 9.99999904e-01],\n",
       "       [7.45097832e-04, 9.99999722e-01],\n",
       "       [4.03361312e-04, 9.99999919e-01],\n",
       "       [6.46153711e-04, 9.99999791e-01],\n",
       "       [6.15384499e-04, 9.99999811e-01],\n",
       "       [9.49999571e-04, 9.99999549e-01],\n",
       "       [6.66666519e-04, 9.99999778e-01],\n",
       "       [4.02777745e-04, 9.99999919e-01],\n",
       "       [4.43037931e-04, 9.99999902e-01],\n",
       "       [6.90908926e-04, 9.99999761e-01],\n",
       "       [3.19672115e-04, 9.99999949e-01],\n",
       "       [5.09615318e-04, 9.99999870e-01],\n",
       "       [4.66666616e-04, 9.99999891e-01],\n",
       "       [5.84615285e-04, 9.99999829e-01],\n",
       "       [9.21568236e-04, 9.99999575e-01],\n",
       "       [4.47619003e-04, 9.99999900e-01],\n",
       "       [6.50793513e-04, 9.99999788e-01],\n",
       "       [7.36110912e-04, 9.99999729e-01],\n",
       "       [4.99999938e-04, 9.99999875e-01],\n",
       "       [5.06493442e-04, 9.99999872e-01],\n",
       "       [6.22950699e-04, 9.99999806e-01],\n",
       "       [3.36283167e-04, 9.99999943e-01],\n",
       "       [4.93333273e-04, 9.99999878e-01],\n",
       "       [4.66666616e-04, 9.99999891e-01],\n",
       "       [6.49122670e-04, 9.99999789e-01],\n",
       "       [3.63636340e-04, 9.99999934e-01],\n",
       "       [1.76470313e-03, 9.99998443e-01],\n",
       "       [7.71428342e-04, 9.99999702e-01],\n",
       "       [5.69444352e-04, 9.99999838e-01],\n",
       "       [5.63380192e-04, 9.99999841e-01],\n",
       "       [7.77777543e-04, 9.99999698e-01],\n",
       "       [3.33333315e-04, 9.99999944e-01],\n",
       "       [1.55882164e-03, 9.99998785e-01],\n",
       "       [9.39999585e-04, 9.99999558e-01],\n",
       "       [5.31645494e-04, 9.99999859e-01],\n",
       "       [4.03846121e-04, 9.99999918e-01],\n",
       "       [2.03447855e-03, 9.99997930e-01],\n",
       "       [1.23404161e-03, 9.99999239e-01],\n",
       "       [5.22727201e-04, 9.99999863e-01],\n",
       "       [5.35211191e-04, 9.99999857e-01],\n",
       "       [2.07691860e-03, 9.99997843e-01],\n",
       "       [1.30434672e-03, 9.99999149e-01],\n",
       "       [7.22891377e-04, 9.99999739e-01],\n",
       "       [5.34246499e-04, 9.99999857e-01],\n",
       "       [4.53846107e-04, 9.99999897e-01],\n",
       "       [4.62499951e-04, 9.99999893e-01],\n",
       "       [1.43749851e-03, 9.99998967e-01],\n",
       "       [6.21621502e-04, 9.99999807e-01],\n",
       "       [7.92452581e-04, 9.99999686e-01],\n",
       "       [4.71264315e-04, 9.99999889e-01],\n",
       "       [2.52173111e-03, 9.99996820e-01],\n",
       "       [6.56249859e-04, 9.99999785e-01],\n",
       "       [1.45454392e-03, 9.99998942e-01],\n",
       "       [3.16546747e-04, 9.99999950e-01],\n",
       "       [1.74999732e-03, 9.99998469e-01],\n",
       "       [1.72727015e-03, 9.99998508e-01],\n",
       "       [9.33332927e-04, 9.99999564e-01],\n",
       "       [1.25640926e-03, 9.99999211e-01],\n",
       "       [5.49295692e-04, 9.99999849e-01],\n",
       "       [1.38235162e-03, 9.99999045e-01],\n",
       "       [1.37142728e-03, 9.99999060e-01],\n",
       "       [1.45454392e-03, 9.99998942e-01],\n",
       "       [2.04347399e-03, 9.99997912e-01],\n",
       "       [9.99999500e-04, 9.99999500e-01],\n",
       "       [1.42856997e-03, 9.99998980e-01],\n",
       "       [6.61016805e-04, 9.99999782e-01],\n",
       "       [1.12195051e-03, 9.99999371e-01],\n",
       "       [2.21738585e-03, 9.99997542e-01],\n",
       "       [2.49999219e-03, 9.99996875e-01],\n",
       "       [1.09090844e-03, 9.99999405e-01],\n",
       "       [1.36110985e-03, 9.99999074e-01]])"
      ]
     },
     "execution_count": 102,
     "metadata": {},
     "output_type": "execute_result"
    }
   ],
   "source": [
    "n_data"
   ]
  },
  {
   "cell_type": "code",
   "execution_count": 107,
   "metadata": {},
   "outputs": [],
   "source": [
    "n_purchesed = n.fit_transform(homebuy[[\"Purchased\"]])"
   ]
  },
  {
   "cell_type": "code",
   "execution_count": 108,
   "metadata": {},
   "outputs": [],
   "source": [
    "model = LogisticRegression()"
   ]
  },
  {
   "cell_type": "code",
   "execution_count": 109,
   "metadata": {},
   "outputs": [
    {
     "name": "stderr",
     "output_type": "stream",
     "text": [
      "C:\\Users\\lavan\\anaconda3\\lib\\site-packages\\sklearn\\utils\\validation.py:73: DataConversionWarning: A column-vector y was passed when a 1d array was expected. Please change the shape of y to (n_samples, ), for example using ravel().\n",
      "  return f(**kwargs)\n"
     ]
    },
    {
     "data": {
      "text/plain": [
       "LogisticRegression()"
      ]
     },
     "execution_count": 109,
     "metadata": {},
     "output_type": "execute_result"
    }
   ],
   "source": [
    "model.fit(n_data, n_purchesed)"
   ]
  },
  {
   "cell_type": "code",
   "execution_count": 114,
   "metadata": {},
   "outputs": [],
   "source": [
    "y_pred  = model.predict(n_data)"
   ]
  },
  {
   "cell_type": "code",
   "execution_count": 115,
   "metadata": {
    "collapsed": true
   },
   "outputs": [
    {
     "data": {
      "text/plain": [
       "0      0\n",
       "1      0\n",
       "2      0\n",
       "3      0\n",
       "4      0\n",
       "      ..\n",
       "395    1\n",
       "396    1\n",
       "397    1\n",
       "398    0\n",
       "399    1\n",
       "Name: Purchased, Length: 400, dtype: int64"
      ]
     },
     "execution_count": 115,
     "metadata": {},
     "output_type": "execute_result"
    }
   ],
   "source": [
    "y"
   ]
  },
  {
   "cell_type": "code",
   "execution_count": 112,
   "metadata": {},
   "outputs": [
    {
     "data": {
      "text/plain": [
       "64.25"
      ]
     },
     "execution_count": 112,
     "metadata": {},
     "output_type": "execute_result"
    }
   ],
   "source": [
    "accuracy_score(n_purchesed,y_pred)*100"
   ]
  },
  {
   "cell_type": "code",
   "execution_count": 113,
   "metadata": {},
   "outputs": [
    {
     "data": {
      "text/plain": [
       "array([[257,   0],\n",
       "       [143,   0]], dtype=int64)"
      ]
     },
     "execution_count": 113,
     "metadata": {},
     "output_type": "execute_result"
    }
   ],
   "source": [
    "confusion_matrix(y,y_pred)"
   ]
  },
  {
   "cell_type": "code",
   "execution_count": 116,
   "metadata": {},
   "outputs": [],
   "source": [
    "lreg_model = LogisticRegression()"
   ]
  },
  {
   "cell_type": "code",
   "execution_count": 117,
   "metadata": {},
   "outputs": [
    {
     "data": {
      "text/plain": [
       "LogisticRegression()"
      ]
     },
     "execution_count": 117,
     "metadata": {},
     "output_type": "execute_result"
    }
   ],
   "source": [
    "lreg_model.fit(X,y)"
   ]
  },
  {
   "cell_type": "code",
   "execution_count": 119,
   "metadata": {
    "collapsed": true
   },
   "outputs": [
    {
     "data": {
      "text/plain": [
       "0      0\n",
       "1      0\n",
       "2      0\n",
       "3      0\n",
       "4      0\n",
       "      ..\n",
       "395    1\n",
       "396    1\n",
       "397    1\n",
       "398    0\n",
       "399    1\n",
       "Name: Purchased, Length: 400, dtype: int64"
      ]
     },
     "execution_count": 119,
     "metadata": {},
     "output_type": "execute_result"
    }
   ],
   "source": [
    "y"
   ]
  },
  {
   "cell_type": "code",
   "execution_count": 122,
   "metadata": {},
   "outputs": [],
   "source": [
    "yPred = lreg_model.predict(X)"
   ]
  },
  {
   "cell_type": "code",
   "execution_count": 124,
   "metadata": {},
   "outputs": [
    {
     "data": {
      "text/plain": [
       "64.25"
      ]
     },
     "execution_count": 124,
     "metadata": {},
     "output_type": "execute_result"
    }
   ],
   "source": [
    "accuracy_score(y,yPred)*100"
   ]
  },
  {
   "cell_type": "markdown",
   "metadata": {},
   "source": [
    "# Task\n",
    "- take titanic dataset\n",
    "- apply Logistic regression \n",
    "\n",
    "\n"
   ]
  },
  {
   "cell_type": "code",
   "execution_count": null,
   "metadata": {},
   "outputs": [],
   "source": []
  }
 ],
 "metadata": {
  "kernelspec": {
   "display_name": "Python 3",
   "language": "python",
   "name": "python3"
  },
  "language_info": {
   "codemirror_mode": {
    "name": "ipython",
    "version": 3
   },
   "file_extension": ".py",
   "mimetype": "text/x-python",
   "name": "python",
   "nbconvert_exporter": "python",
   "pygments_lexer": "ipython3",
   "version": "3.8.3"
  }
 },
 "nbformat": 4,
 "nbformat_minor": 4
}
