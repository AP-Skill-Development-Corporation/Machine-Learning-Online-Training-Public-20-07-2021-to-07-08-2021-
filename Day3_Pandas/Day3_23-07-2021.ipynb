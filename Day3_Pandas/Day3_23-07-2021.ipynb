{
 "cells": [
  {
   "cell_type": "markdown",
   "metadata": {},
   "source": [
    "![](logo.png)\n",
    "## Day Objectives\n",
    "# Pandas\n",
    "- Pandas is a built in library using for data analysis. You'll be using Pandas heavily for data manipulation, visualisation, building machine learning models, etc.\n",
    "- Pandas implements a number of powerful data operations familiar to users of both database frameworks and spreadsheet programs.\n",
    "- There are two main data structures in Pandas - Series and Dataframes. The default way to store data is dataframes, and thus manipulating dataframes quickly is probably the most important skill set for data analysis.\n",
    "- Source: https://pandas.pydata.org/pandas-docs/stable/overview.html\n",
    "## Pandas Series\n",
    "- A series is similar to a 1-D numpy array, and contains values of the same type (numeric, character, datetime  etc.). A dataframe is simply a table where each column is a pandas series.\n",
    "\n",
    "## creating series\n",
    "- List\n",
    "- Tuple\n",
    "- Dictionary\n",
    "- Numpy\n",
    "- Date_Range\n",
    "- Series Indexing\n",
    "\n",
    "## Data Analysis with Pandas\n",
    "* Pandas DataFrame\n",
    "* Combining & Merging\n",
    "* File I/O\n",
    "* Indexing\n",
    "* Grouping\n",
    "* Features\n",
    "* Filtering\n",
    "* Sorting\n",
    "* Statistical\n",
    "* Plotting\n",
    "* Saving\n",
    "\n",
    "|S.No |Name |Gender|\n",
    "|--|--|--|\n",
    "|1 | Mercy | Female|\n",
    "|2 | Cherry | Male |\n",
    "|3 | Raju | Male |\n",
    "\n"
   ]
  },
  {
   "cell_type": "code",
   "execution_count": 1,
   "metadata": {},
   "outputs": [
    {
     "name": "stdout",
     "output_type": "stream",
     "text": [
      "Requirement already satisfied: pandas in c:\\users\\lavan\\anaconda3\\lib\\site-packages (1.0.5)\n",
      "Requirement already satisfied: pytz>=2017.2 in c:\\users\\lavan\\anaconda3\\lib\\site-packages (from pandas) (2020.1)\n",
      "Requirement already satisfied: numpy>=1.13.3 in c:\\users\\lavan\\anaconda3\\lib\\site-packages (from pandas) (1.18.5)\n",
      "Requirement already satisfied: python-dateutil>=2.6.1 in c:\\users\\lavan\\anaconda3\\lib\\site-packages (from pandas) (2.8.1)\n",
      "Requirement already satisfied: six>=1.5 in c:\\users\\lavan\\anaconda3\\lib\\site-packages (from python-dateutil>=2.6.1->pandas) (1.15.0)\n",
      "Note: you may need to restart the kernel to use updated packages.\n"
     ]
    }
   ],
   "source": [
    "pip install pandas"
   ]
  },
  {
   "cell_type": "code",
   "execution_count": 4,
   "metadata": {},
   "outputs": [],
   "source": [
    "import pandas as pd"
   ]
  },
  {
   "cell_type": "markdown",
   "metadata": {},
   "source": [
    "# Pandas Series "
   ]
  },
  {
   "cell_type": "code",
   "execution_count": 5,
   "metadata": {},
   "outputs": [
    {
     "data": {
      "text/plain": [
       "0     12\n",
       "1    343\n",
       "2    445\n",
       "3    656\n",
       "4      7\n",
       "dtype: int64"
      ]
     },
     "execution_count": 5,
     "metadata": {},
     "output_type": "execute_result"
    }
   ],
   "source": [
    "# creating pandas series using list\n",
    "li = [12,343,445,656,7]\n",
    "s1 = pd.Series(li)\n",
    "s1"
   ]
  },
  {
   "cell_type": "code",
   "execution_count": 6,
   "metadata": {},
   "outputs": [
    {
     "data": {
      "text/plain": [
       "pandas.core.series.Series"
      ]
     },
     "execution_count": 6,
     "metadata": {},
     "output_type": "execute_result"
    }
   ],
   "source": [
    "type(s1)"
   ]
  },
  {
   "cell_type": "code",
   "execution_count": 7,
   "metadata": {
    "collapsed": true
   },
   "outputs": [
    {
     "data": {
      "text/plain": [
       "0         1\n",
       "1         2\n",
       "2         3\n",
       "3         4\n",
       "4    string\n",
       "5     34.45\n",
       "dtype: object"
      ]
     },
     "execution_count": 7,
     "metadata": {},
     "output_type": "execute_result"
    }
   ],
   "source": [
    "t = (1,2,3,4,\"string\",34.45)\n",
    "s2 = pd.Series(t)\n",
    "s2"
   ]
  },
  {
   "cell_type": "code",
   "execution_count": 12,
   "metadata": {
    "collapsed": true
   },
   "outputs": [
    {
     "data": {
      "text/plain": [
       "A    123.0\n",
       "B    456.0\n",
       "C    789.0\n",
       "D      NaN\n",
       "dtype: float64"
      ]
     },
     "execution_count": 12,
     "metadata": {},
     "output_type": "execute_result"
    }
   ],
   "source": [
    "import numpy as np\n",
    "di = {\"A\":123,\"B\":456,\"C\":789,\"D\": np.nan}\n",
    "s3 = pd.Series(di)\n",
    "s3\n",
    "# NaN = not a number , special type float"
   ]
  },
  {
   "cell_type": "code",
   "execution_count": 15,
   "metadata": {
    "collapsed": true
   },
   "outputs": [
    {
     "name": "stdout",
     "output_type": "stream",
     "text": [
      "[ 12 343 445 656   7]\n"
     ]
    },
    {
     "data": {
      "text/plain": [
       "0     12\n",
       "1    343\n",
       "2    445\n",
       "3    656\n",
       "4      7\n",
       "dtype: int32"
      ]
     },
     "execution_count": 15,
     "metadata": {},
     "output_type": "execute_result"
    }
   ],
   "source": [
    "n = np.array(li)\n",
    "print(n)\n",
    "s4 = pd.Series(n)\n",
    "s4"
   ]
  },
  {
   "cell_type": "code",
   "execution_count": 17,
   "metadata": {},
   "outputs": [
    {
     "data": {
      "text/plain": [
       "0     12\n",
       "1    343\n",
       "2    445\n",
       "3    656\n",
       "4      7\n",
       "dtype: int32"
      ]
     },
     "execution_count": 17,
     "metadata": {},
     "output_type": "execute_result"
    }
   ],
   "source": [
    "s4"
   ]
  },
  {
   "cell_type": "markdown",
   "metadata": {},
   "source": [
    "# Slicing & Indexing"
   ]
  },
  {
   "cell_type": "code",
   "execution_count": 18,
   "metadata": {},
   "outputs": [
    {
     "data": {
      "text/plain": [
       "445"
      ]
     },
     "execution_count": 18,
     "metadata": {},
     "output_type": "execute_result"
    }
   ],
   "source": [
    "s4[2]"
   ]
  },
  {
   "cell_type": "code",
   "execution_count": 20,
   "metadata": {},
   "outputs": [
    {
     "data": {
      "text/plain": [
       "12"
      ]
     },
     "execution_count": 20,
     "metadata": {},
     "output_type": "execute_result"
    }
   ],
   "source": [
    "s4[0]"
   ]
  },
  {
   "cell_type": "code",
   "execution_count": 21,
   "metadata": {},
   "outputs": [
    {
     "data": {
      "text/plain": [
       "0     12\n",
       "1    343\n",
       "2    445\n",
       "dtype: int32"
      ]
     },
     "execution_count": 21,
     "metadata": {},
     "output_type": "execute_result"
    }
   ],
   "source": [
    "s4[:3]"
   ]
  },
  {
   "cell_type": "code",
   "execution_count": 22,
   "metadata": {},
   "outputs": [
    {
     "data": {
      "text/plain": [
       "2    445\n",
       "3    656\n",
       "4      7\n",
       "dtype: int32"
      ]
     },
     "execution_count": 22,
     "metadata": {},
     "output_type": "execute_result"
    }
   ],
   "source": [
    "s4[2:]"
   ]
  },
  {
   "cell_type": "code",
   "execution_count": 23,
   "metadata": {},
   "outputs": [
    {
     "data": {
      "text/plain": [
       "A    123.0\n",
       "B    456.0\n",
       "C    789.0\n",
       "D      NaN\n",
       "dtype: float64"
      ]
     },
     "execution_count": 23,
     "metadata": {},
     "output_type": "execute_result"
    }
   ],
   "source": [
    "s3"
   ]
  },
  {
   "cell_type": "code",
   "execution_count": 26,
   "metadata": {},
   "outputs": [
    {
     "data": {
      "text/plain": [
       "123.0"
      ]
     },
     "execution_count": 26,
     "metadata": {},
     "output_type": "execute_result"
    }
   ],
   "source": [
    "s3[\"A\"]"
   ]
  },
  {
   "cell_type": "code",
   "execution_count": 27,
   "metadata": {},
   "outputs": [
    {
     "data": {
      "text/plain": [
       "nan"
      ]
     },
     "execution_count": 27,
     "metadata": {},
     "output_type": "execute_result"
    }
   ],
   "source": [
    "s3[\"D\"]"
   ]
  },
  {
   "cell_type": "code",
   "execution_count": 29,
   "metadata": {},
   "outputs": [
    {
     "data": {
      "text/plain": [
       "A    123.0\n",
       "B    456.0\n",
       "C    789.0\n",
       "dtype: float64"
      ]
     },
     "execution_count": 29,
     "metadata": {},
     "output_type": "execute_result"
    }
   ],
   "source": [
    "s3[\"A\":\"C\"] # explicit slicing"
   ]
  },
  {
   "cell_type": "code",
   "execution_count": 31,
   "metadata": {},
   "outputs": [
    {
     "data": {
      "text/plain": [
       "(456.0, 456.0)"
      ]
     },
     "execution_count": 31,
     "metadata": {},
     "output_type": "execute_result"
    }
   ],
   "source": [
    "s3[1], s3[\"B\"]"
   ]
  },
  {
   "cell_type": "code",
   "execution_count": 32,
   "metadata": {},
   "outputs": [
    {
     "data": {
      "text/plain": [
       "A    123.0\n",
       "C    789.0\n",
       "dtype: float64"
      ]
     },
     "execution_count": 32,
     "metadata": {},
     "output_type": "execute_result"
    }
   ],
   "source": [
    "# 0,2 from s3\n",
    "s3[0::2]"
   ]
  },
  {
   "cell_type": "code",
   "execution_count": 33,
   "metadata": {},
   "outputs": [
    {
     "data": {
      "text/plain": [
       "A    123.0\n",
       "D      NaN\n",
       "B    456.0\n",
       "dtype: float64"
      ]
     },
     "execution_count": 33,
     "metadata": {},
     "output_type": "execute_result"
    }
   ],
   "source": [
    "# Fancy Slicing\n",
    "# 0,3,1\n",
    "s3[[0,3,1]]"
   ]
  },
  {
   "cell_type": "code",
   "execution_count": 34,
   "metadata": {},
   "outputs": [
    {
     "data": {
      "text/plain": [
       "Index(['A', 'B', 'C', 'D'], dtype='object')"
      ]
     },
     "execution_count": 34,
     "metadata": {},
     "output_type": "execute_result"
    }
   ],
   "source": [
    "s3.index"
   ]
  },
  {
   "cell_type": "code",
   "execution_count": 35,
   "metadata": {},
   "outputs": [
    {
     "data": {
      "text/plain": [
       "array([123., 456., 789.,  nan])"
      ]
     },
     "execution_count": 35,
     "metadata": {},
     "output_type": "execute_result"
    }
   ],
   "source": [
    "s3.values"
   ]
  },
  {
   "cell_type": "code",
   "execution_count": 37,
   "metadata": {},
   "outputs": [
    {
     "data": {
      "text/plain": [
       "DatetimeIndex(['2021-07-21', '2021-07-22', '2021-07-23', '2021-07-24',\n",
       "               '2021-07-25', '2021-07-26', '2021-07-27', '2021-07-28',\n",
       "               '2021-07-29', '2021-07-30', '2021-07-31', '2021-08-01',\n",
       "               '2021-08-02', '2021-08-03', '2021-08-04', '2021-08-05',\n",
       "               '2021-08-06', '2021-08-07'],\n",
       "              dtype='datetime64[ns]', freq='D')"
      ]
     },
     "execution_count": 37,
     "metadata": {},
     "output_type": "execute_result"
    }
   ],
   "source": [
    "s5 = pd.date_range(start= \"2021-07-21\", end = \"2021-08-07\")\n",
    "s5"
   ]
  },
  {
   "cell_type": "code",
   "execution_count": 38,
   "metadata": {},
   "outputs": [
    {
     "data": {
      "text/plain": [
       "dtype('float64')"
      ]
     },
     "execution_count": 38,
     "metadata": {},
     "output_type": "execute_result"
    }
   ],
   "source": [
    "s3.dtype"
   ]
  },
  {
   "cell_type": "code",
   "execution_count": 39,
   "metadata": {},
   "outputs": [
    {
     "data": {
      "text/plain": [
       "Index(['A', 'B', 'C', 'D'], dtype='object')"
      ]
     },
     "execution_count": 39,
     "metadata": {},
     "output_type": "execute_result"
    }
   ],
   "source": [
    "s3.index"
   ]
  },
  {
   "cell_type": "code",
   "execution_count": 40,
   "metadata": {},
   "outputs": [
    {
     "data": {
      "text/plain": [
       "x    123.0\n",
       "y    456.0\n",
       "z    789.0\n",
       "q      NaN\n",
       "dtype: float64"
      ]
     },
     "execution_count": 40,
     "metadata": {},
     "output_type": "execute_result"
    }
   ],
   "source": [
    "s3.index = [\"x\",\"y\",\"z\",\"q\"]\n",
    "s3"
   ]
  },
  {
   "cell_type": "markdown",
   "metadata": {},
   "source": [
    "# Task :\n",
    "- Create one series having index values start from 0 to 15 and values are mul by 5 with index "
   ]
  },
  {
   "cell_type": "code",
   "execution_count": 42,
   "metadata": {
    "scrolled": true
   },
   "outputs": [
    {
     "ename": "ValueError",
     "evalue": "Length of passed values is 15, index implies 16.",
     "output_type": "error",
     "traceback": [
      "\u001b[1;31m---------------------------------------------------------------------------\u001b[0m",
      "\u001b[1;31mValueError\u001b[0m                                Traceback (most recent call last)",
      "\u001b[1;32m<ipython-input-42-d62bb18ad94d>\u001b[0m in \u001b[0;36m<module>\u001b[1;34m\u001b[0m\n\u001b[1;32m----> 1\u001b[1;33m \u001b[0ms\u001b[0m \u001b[1;33m=\u001b[0m \u001b[0mpd\u001b[0m\u001b[1;33m.\u001b[0m\u001b[0mSeries\u001b[0m\u001b[1;33m(\u001b[0m\u001b[0mnp\u001b[0m\u001b[1;33m.\u001b[0m\u001b[0marange\u001b[0m\u001b[1;33m(\u001b[0m\u001b[1;36m0\u001b[0m\u001b[1;33m,\u001b[0m\u001b[1;36m15\u001b[0m\u001b[1;33m)\u001b[0m\u001b[1;33m*\u001b[0m\u001b[1;36m5\u001b[0m\u001b[1;33m,\u001b[0m\u001b[0mindex\u001b[0m \u001b[1;33m=\u001b[0m \u001b[0mnp\u001b[0m\u001b[1;33m.\u001b[0m\u001b[0marange\u001b[0m\u001b[1;33m(\u001b[0m\u001b[1;36m0\u001b[0m\u001b[1;33m,\u001b[0m\u001b[1;36m16\u001b[0m\u001b[1;33m)\u001b[0m\u001b[1;33m)\u001b[0m\u001b[1;33m\u001b[0m\u001b[1;33m\u001b[0m\u001b[0m\n\u001b[0m\u001b[0;32m      2\u001b[0m \u001b[0ms\u001b[0m\u001b[1;33m\u001b[0m\u001b[1;33m\u001b[0m\u001b[0m\n",
      "\u001b[1;32m~\\anaconda3\\lib\\site-packages\\pandas\\core\\series.py\u001b[0m in \u001b[0;36m__init__\u001b[1;34m(self, data, index, dtype, name, copy, fastpath)\u001b[0m\n\u001b[0;32m    289\u001b[0m                 \u001b[1;32mtry\u001b[0m\u001b[1;33m:\u001b[0m\u001b[1;33m\u001b[0m\u001b[1;33m\u001b[0m\u001b[0m\n\u001b[0;32m    290\u001b[0m                     \u001b[1;32mif\u001b[0m \u001b[0mlen\u001b[0m\u001b[1;33m(\u001b[0m\u001b[0mindex\u001b[0m\u001b[1;33m)\u001b[0m \u001b[1;33m!=\u001b[0m \u001b[0mlen\u001b[0m\u001b[1;33m(\u001b[0m\u001b[0mdata\u001b[0m\u001b[1;33m)\u001b[0m\u001b[1;33m:\u001b[0m\u001b[1;33m\u001b[0m\u001b[1;33m\u001b[0m\u001b[0m\n\u001b[1;32m--> 291\u001b[1;33m                         raise ValueError(\n\u001b[0m\u001b[0;32m    292\u001b[0m                             \u001b[1;34mf\"Length of passed values is {len(data)}, \"\u001b[0m\u001b[1;33m\u001b[0m\u001b[1;33m\u001b[0m\u001b[0m\n\u001b[0;32m    293\u001b[0m                             \u001b[1;34mf\"index implies {len(index)}.\"\u001b[0m\u001b[1;33m\u001b[0m\u001b[1;33m\u001b[0m\u001b[0m\n",
      "\u001b[1;31mValueError\u001b[0m: Length of passed values is 15, index implies 16."
     ]
    }
   ],
   "source": [
    "s = pd.Series(np.arange(0,15)*5,index = np.arange(0,16))\n",
    "s"
   ]
  },
  {
   "cell_type": "code",
   "execution_count": 43,
   "metadata": {},
   "outputs": [
    {
     "data": {
      "text/plain": [
       "0      0\n",
       "1      5\n",
       "2     10\n",
       "3     15\n",
       "4     20\n",
       "5     25\n",
       "6     30\n",
       "7     35\n",
       "8     40\n",
       "9     45\n",
       "10    50\n",
       "11    55\n",
       "12    60\n",
       "13    65\n",
       "14    70\n",
       "15    75\n",
       "dtype: int32"
      ]
     },
     "execution_count": 43,
     "metadata": {},
     "output_type": "execute_result"
    }
   ],
   "source": [
    "s = pd.Series(np.arange(0,16)*5,index = np.arange(0,16))\n",
    "s"
   ]
  },
  {
   "cell_type": "markdown",
   "metadata": {},
   "source": [
    "# Pandas DataFrames"
   ]
  },
  {
   "cell_type": "code",
   "execution_count": 48,
   "metadata": {},
   "outputs": [
    {
     "data": {
      "text/html": [
       "<div>\n",
       "<style scoped>\n",
       "    .dataframe tbody tr th:only-of-type {\n",
       "        vertical-align: middle;\n",
       "    }\n",
       "\n",
       "    .dataframe tbody tr th {\n",
       "        vertical-align: top;\n",
       "    }\n",
       "\n",
       "    .dataframe thead th {\n",
       "        text-align: right;\n",
       "    }\n",
       "</style>\n",
       "<table border=\"1\" class=\"dataframe\">\n",
       "  <thead>\n",
       "    <tr style=\"text-align: right;\">\n",
       "      <th></th>\n",
       "      <th>0</th>\n",
       "      <th>1</th>\n",
       "      <th>2</th>\n",
       "    </tr>\n",
       "  </thead>\n",
       "  <tbody>\n",
       "    <tr>\n",
       "      <th>0</th>\n",
       "      <td>1</td>\n",
       "      <td>2</td>\n",
       "      <td>3</td>\n",
       "    </tr>\n",
       "    <tr>\n",
       "      <th>1</th>\n",
       "      <td>4</td>\n",
       "      <td>5</td>\n",
       "      <td>6</td>\n",
       "    </tr>\n",
       "    <tr>\n",
       "      <th>2</th>\n",
       "      <td>6</td>\n",
       "      <td>7</td>\n",
       "      <td>8</td>\n",
       "    </tr>\n",
       "  </tbody>\n",
       "</table>\n",
       "</div>"
      ],
      "text/plain": [
       "   0  1  2\n",
       "0  1  2  3\n",
       "1  4  5  6\n",
       "2  6  7  8"
      ]
     },
     "execution_count": 48,
     "metadata": {},
     "output_type": "execute_result"
    }
   ],
   "source": [
    "# creating Df using list\n",
    "a2 = [[1,2,3],[4,5,6],[6,7,8]]\n",
    "df1 = pd.DataFrame(a2)\n",
    "df1\n",
    "# default columns and rows starts from 0"
   ]
  },
  {
   "cell_type": "code",
   "execution_count": 50,
   "metadata": {},
   "outputs": [
    {
     "data": {
      "text/html": [
       "<div>\n",
       "<style scoped>\n",
       "    .dataframe tbody tr th:only-of-type {\n",
       "        vertical-align: middle;\n",
       "    }\n",
       "\n",
       "    .dataframe tbody tr th {\n",
       "        vertical-align: top;\n",
       "    }\n",
       "\n",
       "    .dataframe thead th {\n",
       "        text-align: right;\n",
       "    }\n",
       "</style>\n",
       "<table border=\"1\" class=\"dataframe\">\n",
       "  <thead>\n",
       "    <tr style=\"text-align: right;\">\n",
       "      <th></th>\n",
       "      <th>s</th>\n",
       "      <th>q</th>\n",
       "      <th>t</th>\n",
       "    </tr>\n",
       "  </thead>\n",
       "  <tbody>\n",
       "    <tr>\n",
       "      <th>0</th>\n",
       "      <td>1</td>\n",
       "      <td>2</td>\n",
       "      <td>3</td>\n",
       "    </tr>\n",
       "    <tr>\n",
       "      <th>1</th>\n",
       "      <td>4</td>\n",
       "      <td>5</td>\n",
       "      <td>6</td>\n",
       "    </tr>\n",
       "    <tr>\n",
       "      <th>2</th>\n",
       "      <td>6</td>\n",
       "      <td>7</td>\n",
       "      <td>8</td>\n",
       "    </tr>\n",
       "  </tbody>\n",
       "</table>\n",
       "</div>"
      ],
      "text/plain": [
       "   s  q  t\n",
       "0  1  2  3\n",
       "1  4  5  6\n",
       "2  6  7  8"
      ]
     },
     "execution_count": 50,
     "metadata": {},
     "output_type": "execute_result"
    }
   ],
   "source": [
    "df1.columns = [\"s\",\"q\",\"t\"]\n",
    "df1"
   ]
  },
  {
   "cell_type": "code",
   "execution_count": 52,
   "metadata": {
    "collapsed": true
   },
   "outputs": [
    {
     "data": {
      "text/html": [
       "<div>\n",
       "<style scoped>\n",
       "    .dataframe tbody tr th:only-of-type {\n",
       "        vertical-align: middle;\n",
       "    }\n",
       "\n",
       "    .dataframe tbody tr th {\n",
       "        vertical-align: top;\n",
       "    }\n",
       "\n",
       "    .dataframe thead th {\n",
       "        text-align: right;\n",
       "    }\n",
       "</style>\n",
       "<table border=\"1\" class=\"dataframe\">\n",
       "  <thead>\n",
       "    <tr style=\"text-align: right;\">\n",
       "      <th></th>\n",
       "      <th>s</th>\n",
       "      <th>q</th>\n",
       "      <th>t</th>\n",
       "    </tr>\n",
       "  </thead>\n",
       "  <tbody>\n",
       "    <tr>\n",
       "      <th>a</th>\n",
       "      <td>1</td>\n",
       "      <td>2</td>\n",
       "      <td>3</td>\n",
       "    </tr>\n",
       "    <tr>\n",
       "      <th>b</th>\n",
       "      <td>4</td>\n",
       "      <td>5</td>\n",
       "      <td>6</td>\n",
       "    </tr>\n",
       "    <tr>\n",
       "      <th>c</th>\n",
       "      <td>6</td>\n",
       "      <td>7</td>\n",
       "      <td>8</td>\n",
       "    </tr>\n",
       "  </tbody>\n",
       "</table>\n",
       "</div>"
      ],
      "text/plain": [
       "   s  q  t\n",
       "a  1  2  3\n",
       "b  4  5  6\n",
       "c  6  7  8"
      ]
     },
     "execution_count": 52,
     "metadata": {},
     "output_type": "execute_result"
    }
   ],
   "source": [
    "df1.index = [\"a\",\"b\",\"c\"]\n",
    "df1"
   ]
  },
  {
   "cell_type": "code",
   "execution_count": 59,
   "metadata": {
    "collapsed": true
   },
   "outputs": [
    {
     "data": {
      "text/html": [
       "<div>\n",
       "<style scoped>\n",
       "    .dataframe tbody tr th:only-of-type {\n",
       "        vertical-align: middle;\n",
       "    }\n",
       "\n",
       "    .dataframe tbody tr th {\n",
       "        vertical-align: top;\n",
       "    }\n",
       "\n",
       "    .dataframe thead th {\n",
       "        text-align: right;\n",
       "    }\n",
       "</style>\n",
       "<table border=\"1\" class=\"dataframe\">\n",
       "  <thead>\n",
       "    <tr style=\"text-align: right;\">\n",
       "      <th></th>\n",
       "      <th>Name</th>\n",
       "      <th>Fcolor</th>\n",
       "      <th>Gender</th>\n",
       "    </tr>\n",
       "  </thead>\n",
       "  <tbody>\n",
       "    <tr>\n",
       "      <th>0</th>\n",
       "      <td>Lavanya</td>\n",
       "      <td>White</td>\n",
       "      <td>f</td>\n",
       "    </tr>\n",
       "    <tr>\n",
       "      <th>1</th>\n",
       "      <td>Praveen</td>\n",
       "      <td>Black</td>\n",
       "      <td>m</td>\n",
       "    </tr>\n",
       "    <tr>\n",
       "      <th>2</th>\n",
       "      <td>Anurag</td>\n",
       "      <td>Red</td>\n",
       "      <td>m</td>\n",
       "    </tr>\n",
       "    <tr>\n",
       "      <th>3</th>\n",
       "      <td>Nagaraju</td>\n",
       "      <td>NaN</td>\n",
       "      <td>m</td>\n",
       "    </tr>\n",
       "  </tbody>\n",
       "</table>\n",
       "</div>"
      ],
      "text/plain": [
       "       Name Fcolor Gender\n",
       "0   Lavanya  White      f\n",
       "1   Praveen  Black      m\n",
       "2    Anurag    Red      m\n",
       "3  Nagaraju    NaN      m"
      ]
     },
     "execution_count": 59,
     "metadata": {},
     "output_type": "execute_result"
    }
   ],
   "source": [
    "di = {\n",
    "    \"Name\"  : [\"Lavanya\",\"Praveen\",\"Anurag\",\"Nagaraju\"],\n",
    "    \"Fcolor\":[\"White\",\"Black\",\"Red\",np.nan],\n",
    "    \"Gender\":[\"f\",\"m\",\"m\",\"m\"]\n",
    "}\n",
    "df2 = pd.DataFrame(di)\n",
    "# df2.index = np.arange(1,4)\n",
    "df2"
   ]
  },
  {
   "cell_type": "code",
   "execution_count": 60,
   "metadata": {},
   "outputs": [
    {
     "data": {
      "text/plain": [
       "RangeIndex(start=0, stop=4, step=1)"
      ]
     },
     "execution_count": 60,
     "metadata": {},
     "output_type": "execute_result"
    }
   ],
   "source": [
    "df2.index"
   ]
  },
  {
   "cell_type": "code",
   "execution_count": 61,
   "metadata": {},
   "outputs": [
    {
     "data": {
      "text/plain": [
       "Index(['Name', 'Fcolor', 'Gender'], dtype='object')"
      ]
     },
     "execution_count": 61,
     "metadata": {},
     "output_type": "execute_result"
    }
   ],
   "source": [
    "df2.columns"
   ]
  },
  {
   "cell_type": "code",
   "execution_count": 63,
   "metadata": {},
   "outputs": [
    {
     "data": {
      "text/plain": [
       "pandas.core.frame.DataFrame"
      ]
     },
     "execution_count": 63,
     "metadata": {},
     "output_type": "execute_result"
    }
   ],
   "source": [
    "type(df2)"
   ]
  },
  {
   "cell_type": "code",
   "execution_count": 64,
   "metadata": {},
   "outputs": [
    {
     "data": {
      "text/plain": [
       "(4, 3)"
      ]
     },
     "execution_count": 64,
     "metadata": {},
     "output_type": "execute_result"
    }
   ],
   "source": [
    "df2.shape # rows,columns"
   ]
  },
  {
   "cell_type": "code",
   "execution_count": 65,
   "metadata": {},
   "outputs": [
    {
     "data": {
      "text/plain": [
       "2"
      ]
     },
     "execution_count": 65,
     "metadata": {},
     "output_type": "execute_result"
    }
   ],
   "source": [
    "df2.ndim"
   ]
  },
  {
   "cell_type": "code",
   "execution_count": 67,
   "metadata": {},
   "outputs": [
    {
     "data": {
      "text/plain": [
       "pandas.core.series.Series"
      ]
     },
     "execution_count": 67,
     "metadata": {},
     "output_type": "execute_result"
    }
   ],
   "source": [
    "type(df2[\"Name\"])"
   ]
  },
  {
   "cell_type": "code",
   "execution_count": 68,
   "metadata": {
    "collapsed": true
   },
   "outputs": [
    {
     "data": {
      "text/plain": [
       "0     Lavanya\n",
       "1     Praveen\n",
       "2      Anurag\n",
       "3    Nagaraju\n",
       "Name: Name, dtype: object"
      ]
     },
     "execution_count": 68,
     "metadata": {},
     "output_type": "execute_result"
    }
   ],
   "source": [
    "df2[\"Name\"] # series"
   ]
  },
  {
   "cell_type": "code",
   "execution_count": 70,
   "metadata": {
    "collapsed": true
   },
   "outputs": [
    {
     "data": {
      "text/html": [
       "<div>\n",
       "<style scoped>\n",
       "    .dataframe tbody tr th:only-of-type {\n",
       "        vertical-align: middle;\n",
       "    }\n",
       "\n",
       "    .dataframe tbody tr th {\n",
       "        vertical-align: top;\n",
       "    }\n",
       "\n",
       "    .dataframe thead th {\n",
       "        text-align: right;\n",
       "    }\n",
       "</style>\n",
       "<table border=\"1\" class=\"dataframe\">\n",
       "  <thead>\n",
       "    <tr style=\"text-align: right;\">\n",
       "      <th></th>\n",
       "      <th>Name</th>\n",
       "      <th>Gender</th>\n",
       "    </tr>\n",
       "  </thead>\n",
       "  <tbody>\n",
       "    <tr>\n",
       "      <th>0</th>\n",
       "      <td>Lavanya</td>\n",
       "      <td>f</td>\n",
       "    </tr>\n",
       "    <tr>\n",
       "      <th>1</th>\n",
       "      <td>Praveen</td>\n",
       "      <td>m</td>\n",
       "    </tr>\n",
       "    <tr>\n",
       "      <th>2</th>\n",
       "      <td>Anurag</td>\n",
       "      <td>m</td>\n",
       "    </tr>\n",
       "    <tr>\n",
       "      <th>3</th>\n",
       "      <td>Nagaraju</td>\n",
       "      <td>m</td>\n",
       "    </tr>\n",
       "  </tbody>\n",
       "</table>\n",
       "</div>"
      ],
      "text/plain": [
       "       Name Gender\n",
       "0   Lavanya      f\n",
       "1   Praveen      m\n",
       "2    Anurag      m\n",
       "3  Nagaraju      m"
      ]
     },
     "execution_count": 70,
     "metadata": {},
     "output_type": "execute_result"
    }
   ],
   "source": [
    "df2[[\"Name\",\"Gender\"]] # df"
   ]
  },
  {
   "cell_type": "code",
   "execution_count": 72,
   "metadata": {
    "collapsed": true
   },
   "outputs": [
    {
     "ename": "KeyError",
     "evalue": "0",
     "output_type": "error",
     "traceback": [
      "\u001b[1;31m---------------------------------------------------------------------------\u001b[0m",
      "\u001b[1;31mKeyError\u001b[0m                                  Traceback (most recent call last)",
      "\u001b[1;32m~\\anaconda3\\lib\\site-packages\\pandas\\core\\indexes\\base.py\u001b[0m in \u001b[0;36mget_loc\u001b[1;34m(self, key, method, tolerance)\u001b[0m\n\u001b[0;32m   2645\u001b[0m             \u001b[1;32mtry\u001b[0m\u001b[1;33m:\u001b[0m\u001b[1;33m\u001b[0m\u001b[1;33m\u001b[0m\u001b[0m\n\u001b[1;32m-> 2646\u001b[1;33m                 \u001b[1;32mreturn\u001b[0m \u001b[0mself\u001b[0m\u001b[1;33m.\u001b[0m\u001b[0m_engine\u001b[0m\u001b[1;33m.\u001b[0m\u001b[0mget_loc\u001b[0m\u001b[1;33m(\u001b[0m\u001b[0mkey\u001b[0m\u001b[1;33m)\u001b[0m\u001b[1;33m\u001b[0m\u001b[1;33m\u001b[0m\u001b[0m\n\u001b[0m\u001b[0;32m   2647\u001b[0m             \u001b[1;32mexcept\u001b[0m \u001b[0mKeyError\u001b[0m\u001b[1;33m:\u001b[0m\u001b[1;33m\u001b[0m\u001b[1;33m\u001b[0m\u001b[0m\n",
      "\u001b[1;32mpandas\\_libs\\index.pyx\u001b[0m in \u001b[0;36mpandas._libs.index.IndexEngine.get_loc\u001b[1;34m()\u001b[0m\n",
      "\u001b[1;32mpandas\\_libs\\index.pyx\u001b[0m in \u001b[0;36mpandas._libs.index.IndexEngine.get_loc\u001b[1;34m()\u001b[0m\n",
      "\u001b[1;32mpandas\\_libs\\hashtable_class_helper.pxi\u001b[0m in \u001b[0;36mpandas._libs.hashtable.PyObjectHashTable.get_item\u001b[1;34m()\u001b[0m\n",
      "\u001b[1;32mpandas\\_libs\\hashtable_class_helper.pxi\u001b[0m in \u001b[0;36mpandas._libs.hashtable.PyObjectHashTable.get_item\u001b[1;34m()\u001b[0m\n",
      "\u001b[1;31mKeyError\u001b[0m: 0",
      "\nDuring handling of the above exception, another exception occurred:\n",
      "\u001b[1;31mKeyError\u001b[0m                                  Traceback (most recent call last)",
      "\u001b[1;32m<ipython-input-72-b9d84e2cef5a>\u001b[0m in \u001b[0;36m<module>\u001b[1;34m\u001b[0m\n\u001b[1;32m----> 1\u001b[1;33m \u001b[0mdf2\u001b[0m\u001b[1;33m[\u001b[0m\u001b[1;36m0\u001b[0m\u001b[1;33m]\u001b[0m\u001b[1;33m\u001b[0m\u001b[1;33m\u001b[0m\u001b[0m\n\u001b[0m",
      "\u001b[1;32m~\\anaconda3\\lib\\site-packages\\pandas\\core\\frame.py\u001b[0m in \u001b[0;36m__getitem__\u001b[1;34m(self, key)\u001b[0m\n\u001b[0;32m   2798\u001b[0m             \u001b[1;32mif\u001b[0m \u001b[0mself\u001b[0m\u001b[1;33m.\u001b[0m\u001b[0mcolumns\u001b[0m\u001b[1;33m.\u001b[0m\u001b[0mnlevels\u001b[0m \u001b[1;33m>\u001b[0m \u001b[1;36m1\u001b[0m\u001b[1;33m:\u001b[0m\u001b[1;33m\u001b[0m\u001b[1;33m\u001b[0m\u001b[0m\n\u001b[0;32m   2799\u001b[0m                 \u001b[1;32mreturn\u001b[0m \u001b[0mself\u001b[0m\u001b[1;33m.\u001b[0m\u001b[0m_getitem_multilevel\u001b[0m\u001b[1;33m(\u001b[0m\u001b[0mkey\u001b[0m\u001b[1;33m)\u001b[0m\u001b[1;33m\u001b[0m\u001b[1;33m\u001b[0m\u001b[0m\n\u001b[1;32m-> 2800\u001b[1;33m             \u001b[0mindexer\u001b[0m \u001b[1;33m=\u001b[0m \u001b[0mself\u001b[0m\u001b[1;33m.\u001b[0m\u001b[0mcolumns\u001b[0m\u001b[1;33m.\u001b[0m\u001b[0mget_loc\u001b[0m\u001b[1;33m(\u001b[0m\u001b[0mkey\u001b[0m\u001b[1;33m)\u001b[0m\u001b[1;33m\u001b[0m\u001b[1;33m\u001b[0m\u001b[0m\n\u001b[0m\u001b[0;32m   2801\u001b[0m             \u001b[1;32mif\u001b[0m \u001b[0mis_integer\u001b[0m\u001b[1;33m(\u001b[0m\u001b[0mindexer\u001b[0m\u001b[1;33m)\u001b[0m\u001b[1;33m:\u001b[0m\u001b[1;33m\u001b[0m\u001b[1;33m\u001b[0m\u001b[0m\n\u001b[0;32m   2802\u001b[0m                 \u001b[0mindexer\u001b[0m \u001b[1;33m=\u001b[0m \u001b[1;33m[\u001b[0m\u001b[0mindexer\u001b[0m\u001b[1;33m]\u001b[0m\u001b[1;33m\u001b[0m\u001b[1;33m\u001b[0m\u001b[0m\n",
      "\u001b[1;32m~\\anaconda3\\lib\\site-packages\\pandas\\core\\indexes\\base.py\u001b[0m in \u001b[0;36mget_loc\u001b[1;34m(self, key, method, tolerance)\u001b[0m\n\u001b[0;32m   2646\u001b[0m                 \u001b[1;32mreturn\u001b[0m \u001b[0mself\u001b[0m\u001b[1;33m.\u001b[0m\u001b[0m_engine\u001b[0m\u001b[1;33m.\u001b[0m\u001b[0mget_loc\u001b[0m\u001b[1;33m(\u001b[0m\u001b[0mkey\u001b[0m\u001b[1;33m)\u001b[0m\u001b[1;33m\u001b[0m\u001b[1;33m\u001b[0m\u001b[0m\n\u001b[0;32m   2647\u001b[0m             \u001b[1;32mexcept\u001b[0m \u001b[0mKeyError\u001b[0m\u001b[1;33m:\u001b[0m\u001b[1;33m\u001b[0m\u001b[1;33m\u001b[0m\u001b[0m\n\u001b[1;32m-> 2648\u001b[1;33m                 \u001b[1;32mreturn\u001b[0m \u001b[0mself\u001b[0m\u001b[1;33m.\u001b[0m\u001b[0m_engine\u001b[0m\u001b[1;33m.\u001b[0m\u001b[0mget_loc\u001b[0m\u001b[1;33m(\u001b[0m\u001b[0mself\u001b[0m\u001b[1;33m.\u001b[0m\u001b[0m_maybe_cast_indexer\u001b[0m\u001b[1;33m(\u001b[0m\u001b[0mkey\u001b[0m\u001b[1;33m)\u001b[0m\u001b[1;33m)\u001b[0m\u001b[1;33m\u001b[0m\u001b[1;33m\u001b[0m\u001b[0m\n\u001b[0m\u001b[0;32m   2649\u001b[0m         \u001b[0mindexer\u001b[0m \u001b[1;33m=\u001b[0m \u001b[0mself\u001b[0m\u001b[1;33m.\u001b[0m\u001b[0mget_indexer\u001b[0m\u001b[1;33m(\u001b[0m\u001b[1;33m[\u001b[0m\u001b[0mkey\u001b[0m\u001b[1;33m]\u001b[0m\u001b[1;33m,\u001b[0m \u001b[0mmethod\u001b[0m\u001b[1;33m=\u001b[0m\u001b[0mmethod\u001b[0m\u001b[1;33m,\u001b[0m \u001b[0mtolerance\u001b[0m\u001b[1;33m=\u001b[0m\u001b[0mtolerance\u001b[0m\u001b[1;33m)\u001b[0m\u001b[1;33m\u001b[0m\u001b[1;33m\u001b[0m\u001b[0m\n\u001b[0;32m   2650\u001b[0m         \u001b[1;32mif\u001b[0m \u001b[0mindexer\u001b[0m\u001b[1;33m.\u001b[0m\u001b[0mndim\u001b[0m \u001b[1;33m>\u001b[0m \u001b[1;36m1\u001b[0m \u001b[1;32mor\u001b[0m \u001b[0mindexer\u001b[0m\u001b[1;33m.\u001b[0m\u001b[0msize\u001b[0m \u001b[1;33m>\u001b[0m \u001b[1;36m1\u001b[0m\u001b[1;33m:\u001b[0m\u001b[1;33m\u001b[0m\u001b[1;33m\u001b[0m\u001b[0m\n",
      "\u001b[1;32mpandas\\_libs\\index.pyx\u001b[0m in \u001b[0;36mpandas._libs.index.IndexEngine.get_loc\u001b[1;34m()\u001b[0m\n",
      "\u001b[1;32mpandas\\_libs\\index.pyx\u001b[0m in \u001b[0;36mpandas._libs.index.IndexEngine.get_loc\u001b[1;34m()\u001b[0m\n",
      "\u001b[1;32mpandas\\_libs\\hashtable_class_helper.pxi\u001b[0m in \u001b[0;36mpandas._libs.hashtable.PyObjectHashTable.get_item\u001b[1;34m()\u001b[0m\n",
      "\u001b[1;32mpandas\\_libs\\hashtable_class_helper.pxi\u001b[0m in \u001b[0;36mpandas._libs.hashtable.PyObjectHashTable.get_item\u001b[1;34m()\u001b[0m\n",
      "\u001b[1;31mKeyError\u001b[0m: 0"
     ]
    }
   ],
   "source": [
    "df2[0]"
   ]
  },
  {
   "cell_type": "code",
   "execution_count": 73,
   "metadata": {},
   "outputs": [
    {
     "data": {
      "text/html": [
       "<div>\n",
       "<style scoped>\n",
       "    .dataframe tbody tr th:only-of-type {\n",
       "        vertical-align: middle;\n",
       "    }\n",
       "\n",
       "    .dataframe tbody tr th {\n",
       "        vertical-align: top;\n",
       "    }\n",
       "\n",
       "    .dataframe thead th {\n",
       "        text-align: right;\n",
       "    }\n",
       "</style>\n",
       "<table border=\"1\" class=\"dataframe\">\n",
       "  <thead>\n",
       "    <tr style=\"text-align: right;\">\n",
       "      <th></th>\n",
       "      <th>Name</th>\n",
       "      <th>Fcolor</th>\n",
       "      <th>Gender</th>\n",
       "    </tr>\n",
       "  </thead>\n",
       "  <tbody>\n",
       "    <tr>\n",
       "      <th>0</th>\n",
       "      <td>Lavanya</td>\n",
       "      <td>White</td>\n",
       "      <td>f</td>\n",
       "    </tr>\n",
       "  </tbody>\n",
       "</table>\n",
       "</div>"
      ],
      "text/plain": [
       "      Name Fcolor Gender\n",
       "0  Lavanya  White      f"
      ]
     },
     "execution_count": 73,
     "metadata": {},
     "output_type": "execute_result"
    }
   ],
   "source": [
    "df2[0:1]"
   ]
  },
  {
   "cell_type": "code",
   "execution_count": 75,
   "metadata": {},
   "outputs": [
    {
     "data": {
      "text/html": [
       "<div>\n",
       "<style scoped>\n",
       "    .dataframe tbody tr th:only-of-type {\n",
       "        vertical-align: middle;\n",
       "    }\n",
       "\n",
       "    .dataframe tbody tr th {\n",
       "        vertical-align: top;\n",
       "    }\n",
       "\n",
       "    .dataframe thead th {\n",
       "        text-align: right;\n",
       "    }\n",
       "</style>\n",
       "<table border=\"1\" class=\"dataframe\">\n",
       "  <thead>\n",
       "    <tr style=\"text-align: right;\">\n",
       "      <th></th>\n",
       "      <th>Name</th>\n",
       "      <th>Fcolor</th>\n",
       "      <th>Gender</th>\n",
       "    </tr>\n",
       "  </thead>\n",
       "  <tbody>\n",
       "    <tr>\n",
       "      <th>0</th>\n",
       "      <td>Lavanya</td>\n",
       "      <td>White</td>\n",
       "      <td>f</td>\n",
       "    </tr>\n",
       "    <tr>\n",
       "      <th>1</th>\n",
       "      <td>Praveen</td>\n",
       "      <td>Black</td>\n",
       "      <td>m</td>\n",
       "    </tr>\n",
       "    <tr>\n",
       "      <th>2</th>\n",
       "      <td>Anurag</td>\n",
       "      <td>Red</td>\n",
       "      <td>m</td>\n",
       "    </tr>\n",
       "  </tbody>\n",
       "</table>\n",
       "</div>"
      ],
      "text/plain": [
       "      Name Fcolor Gender\n",
       "0  Lavanya  White      f\n",
       "1  Praveen  Black      m\n",
       "2   Anurag    Red      m"
      ]
     },
     "execution_count": 75,
     "metadata": {},
     "output_type": "execute_result"
    }
   ],
   "source": [
    "df2[0:3]"
   ]
  },
  {
   "cell_type": "code",
   "execution_count": 76,
   "metadata": {},
   "outputs": [
    {
     "data": {
      "text/html": [
       "<div>\n",
       "<style scoped>\n",
       "    .dataframe tbody tr th:only-of-type {\n",
       "        vertical-align: middle;\n",
       "    }\n",
       "\n",
       "    .dataframe tbody tr th {\n",
       "        vertical-align: top;\n",
       "    }\n",
       "\n",
       "    .dataframe thead th {\n",
       "        text-align: right;\n",
       "    }\n",
       "</style>\n",
       "<table border=\"1\" class=\"dataframe\">\n",
       "  <thead>\n",
       "    <tr style=\"text-align: right;\">\n",
       "      <th></th>\n",
       "      <th>Name</th>\n",
       "      <th>Fcolor</th>\n",
       "      <th>Gender</th>\n",
       "    </tr>\n",
       "  </thead>\n",
       "  <tbody>\n",
       "    <tr>\n",
       "      <th>0</th>\n",
       "      <td>Lavanya</td>\n",
       "      <td>White</td>\n",
       "      <td>f</td>\n",
       "    </tr>\n",
       "    <tr>\n",
       "      <th>2</th>\n",
       "      <td>Anurag</td>\n",
       "      <td>Red</td>\n",
       "      <td>m</td>\n",
       "    </tr>\n",
       "  </tbody>\n",
       "</table>\n",
       "</div>"
      ],
      "text/plain": [
       "      Name Fcolor Gender\n",
       "0  Lavanya  White      f\n",
       "2   Anurag    Red      m"
      ]
     },
     "execution_count": 76,
     "metadata": {},
     "output_type": "execute_result"
    }
   ],
   "source": [
    "df2[::2]"
   ]
  },
  {
   "cell_type": "code",
   "execution_count": 77,
   "metadata": {},
   "outputs": [
    {
     "data": {
      "text/html": [
       "<div>\n",
       "<style scoped>\n",
       "    .dataframe tbody tr th:only-of-type {\n",
       "        vertical-align: middle;\n",
       "    }\n",
       "\n",
       "    .dataframe tbody tr th {\n",
       "        vertical-align: top;\n",
       "    }\n",
       "\n",
       "    .dataframe thead th {\n",
       "        text-align: right;\n",
       "    }\n",
       "</style>\n",
       "<table border=\"1\" class=\"dataframe\">\n",
       "  <thead>\n",
       "    <tr style=\"text-align: right;\">\n",
       "      <th></th>\n",
       "      <th>Name</th>\n",
       "      <th>Fcolor</th>\n",
       "      <th>Gender</th>\n",
       "    </tr>\n",
       "  </thead>\n",
       "  <tbody>\n",
       "    <tr>\n",
       "      <th>1</th>\n",
       "      <td>Praveen</td>\n",
       "      <td>Black</td>\n",
       "      <td>m</td>\n",
       "    </tr>\n",
       "    <tr>\n",
       "      <th>3</th>\n",
       "      <td>Nagaraju</td>\n",
       "      <td>NaN</td>\n",
       "      <td>m</td>\n",
       "    </tr>\n",
       "  </tbody>\n",
       "</table>\n",
       "</div>"
      ],
      "text/plain": [
       "       Name Fcolor Gender\n",
       "1   Praveen  Black      m\n",
       "3  Nagaraju    NaN      m"
      ]
     },
     "execution_count": 77,
     "metadata": {},
     "output_type": "execute_result"
    }
   ],
   "source": [
    "df2[1::2]"
   ]
  },
  {
   "cell_type": "code",
   "execution_count": 80,
   "metadata": {},
   "outputs": [
    {
     "data": {
      "text/plain": [
       "1    Black\n",
       "Name: Fcolor, dtype: object"
      ]
     },
     "execution_count": 80,
     "metadata": {},
     "output_type": "execute_result"
    }
   ],
   "source": [
    "# access Praveen Fcolor\n",
    "df2[1:2][\"Fcolor\"]"
   ]
  },
  {
   "cell_type": "code",
   "execution_count": 81,
   "metadata": {},
   "outputs": [
    {
     "data": {
      "text/plain": [
       "0    White\n",
       "2      Red\n",
       "Name: Fcolor, dtype: object"
      ]
     },
     "execution_count": 81,
     "metadata": {},
     "output_type": "execute_result"
    }
   ],
   "source": [
    "# access fcolor of lavanya & anurag\n",
    "df2[::2][\"Fcolor\"]"
   ]
  },
  {
   "cell_type": "markdown",
   "metadata": {},
   "source": [
    "## iloc -- for accessing rows using integer indicies\n",
    "## loc -- for accessing rows other than integer indicies"
   ]
  },
  {
   "cell_type": "code",
   "execution_count": 82,
   "metadata": {},
   "outputs": [
    {
     "data": {
      "text/plain": [
       "Name      Lavanya\n",
       "Fcolor      White\n",
       "Gender          f\n",
       "Name: 0, dtype: object"
      ]
     },
     "execution_count": 82,
     "metadata": {},
     "output_type": "execute_result"
    }
   ],
   "source": [
    "df2.iloc[0]"
   ]
  },
  {
   "cell_type": "code",
   "execution_count": 83,
   "metadata": {},
   "outputs": [
    {
     "data": {
      "text/plain": [
       "Name      Nagaraju\n",
       "Fcolor         NaN\n",
       "Gender           m\n",
       "Name: 3, dtype: object"
      ]
     },
     "execution_count": 83,
     "metadata": {},
     "output_type": "execute_result"
    }
   ],
   "source": [
    "df2.iloc[-1]"
   ]
  },
  {
   "cell_type": "code",
   "execution_count": 84,
   "metadata": {},
   "outputs": [
    {
     "data": {
      "text/html": [
       "<div>\n",
       "<style scoped>\n",
       "    .dataframe tbody tr th:only-of-type {\n",
       "        vertical-align: middle;\n",
       "    }\n",
       "\n",
       "    .dataframe tbody tr th {\n",
       "        vertical-align: top;\n",
       "    }\n",
       "\n",
       "    .dataframe thead th {\n",
       "        text-align: right;\n",
       "    }\n",
       "</style>\n",
       "<table border=\"1\" class=\"dataframe\">\n",
       "  <thead>\n",
       "    <tr style=\"text-align: right;\">\n",
       "      <th></th>\n",
       "      <th>Name</th>\n",
       "      <th>Fcolor</th>\n",
       "      <th>Gender</th>\n",
       "    </tr>\n",
       "  </thead>\n",
       "  <tbody>\n",
       "    <tr>\n",
       "      <th>0</th>\n",
       "      <td>Lavanya</td>\n",
       "      <td>White</td>\n",
       "      <td>f</td>\n",
       "    </tr>\n",
       "    <tr>\n",
       "      <th>1</th>\n",
       "      <td>Praveen</td>\n",
       "      <td>Black</td>\n",
       "      <td>m</td>\n",
       "    </tr>\n",
       "  </tbody>\n",
       "</table>\n",
       "</div>"
      ],
      "text/plain": [
       "      Name Fcolor Gender\n",
       "0  Lavanya  White      f\n",
       "1  Praveen  Black      m"
      ]
     },
     "execution_count": 84,
     "metadata": {},
     "output_type": "execute_result"
    }
   ],
   "source": [
    "df2.iloc[0:2]"
   ]
  },
  {
   "cell_type": "code",
   "execution_count": 86,
   "metadata": {},
   "outputs": [
    {
     "data": {
      "text/plain": [
       "'m'"
      ]
     },
     "execution_count": 86,
     "metadata": {},
     "output_type": "execute_result"
    }
   ],
   "source": [
    "df2.loc[1,\"Gender\"]"
   ]
  },
  {
   "cell_type": "code",
   "execution_count": 87,
   "metadata": {},
   "outputs": [
    {
     "data": {
      "text/plain": [
       "0    f\n",
       "2    m\n",
       "3    m\n",
       "Name: Gender, dtype: object"
      ]
     },
     "execution_count": 87,
     "metadata": {},
     "output_type": "execute_result"
    }
   ],
   "source": [
    "df2.loc[[0,2,3],\"Gender\"]"
   ]
  },
  {
   "cell_type": "code",
   "execution_count": 88,
   "metadata": {},
   "outputs": [
    {
     "data": {
      "text/html": [
       "<div>\n",
       "<style scoped>\n",
       "    .dataframe tbody tr th:only-of-type {\n",
       "        vertical-align: middle;\n",
       "    }\n",
       "\n",
       "    .dataframe tbody tr th {\n",
       "        vertical-align: top;\n",
       "    }\n",
       "\n",
       "    .dataframe thead th {\n",
       "        text-align: right;\n",
       "    }\n",
       "</style>\n",
       "<table border=\"1\" class=\"dataframe\">\n",
       "  <thead>\n",
       "    <tr style=\"text-align: right;\">\n",
       "      <th></th>\n",
       "      <th>Name</th>\n",
       "      <th>Gender</th>\n",
       "    </tr>\n",
       "  </thead>\n",
       "  <tbody>\n",
       "    <tr>\n",
       "      <th>0</th>\n",
       "      <td>Lavanya</td>\n",
       "      <td>f</td>\n",
       "    </tr>\n",
       "    <tr>\n",
       "      <th>2</th>\n",
       "      <td>Anurag</td>\n",
       "      <td>m</td>\n",
       "    </tr>\n",
       "    <tr>\n",
       "      <th>3</th>\n",
       "      <td>Nagaraju</td>\n",
       "      <td>m</td>\n",
       "    </tr>\n",
       "  </tbody>\n",
       "</table>\n",
       "</div>"
      ],
      "text/plain": [
       "       Name Gender\n",
       "0   Lavanya      f\n",
       "2    Anurag      m\n",
       "3  Nagaraju      m"
      ]
     },
     "execution_count": 88,
     "metadata": {},
     "output_type": "execute_result"
    }
   ],
   "source": [
    "df2.loc[[0,2,3],[\"Name\",\"Gender\"]]"
   ]
  },
  {
   "cell_type": "code",
   "execution_count": 89,
   "metadata": {},
   "outputs": [
    {
     "data": {
      "text/html": [
       "<div>\n",
       "<style scoped>\n",
       "    .dataframe tbody tr th:only-of-type {\n",
       "        vertical-align: middle;\n",
       "    }\n",
       "\n",
       "    .dataframe tbody tr th {\n",
       "        vertical-align: top;\n",
       "    }\n",
       "\n",
       "    .dataframe thead th {\n",
       "        text-align: right;\n",
       "    }\n",
       "</style>\n",
       "<table border=\"1\" class=\"dataframe\">\n",
       "  <thead>\n",
       "    <tr style=\"text-align: right;\">\n",
       "      <th></th>\n",
       "      <th>Fcolor</th>\n",
       "      <th>Gender</th>\n",
       "    </tr>\n",
       "    <tr>\n",
       "      <th>Name</th>\n",
       "      <th></th>\n",
       "      <th></th>\n",
       "    </tr>\n",
       "  </thead>\n",
       "  <tbody>\n",
       "    <tr>\n",
       "      <th>Lavanya</th>\n",
       "      <td>White</td>\n",
       "      <td>f</td>\n",
       "    </tr>\n",
       "    <tr>\n",
       "      <th>Praveen</th>\n",
       "      <td>Black</td>\n",
       "      <td>m</td>\n",
       "    </tr>\n",
       "    <tr>\n",
       "      <th>Anurag</th>\n",
       "      <td>Red</td>\n",
       "      <td>m</td>\n",
       "    </tr>\n",
       "    <tr>\n",
       "      <th>Nagaraju</th>\n",
       "      <td>NaN</td>\n",
       "      <td>m</td>\n",
       "    </tr>\n",
       "  </tbody>\n",
       "</table>\n",
       "</div>"
      ],
      "text/plain": [
       "         Fcolor Gender\n",
       "Name                  \n",
       "Lavanya   White      f\n",
       "Praveen   Black      m\n",
       "Anurag      Red      m\n",
       "Nagaraju    NaN      m"
      ]
     },
     "execution_count": 89,
     "metadata": {},
     "output_type": "execute_result"
    }
   ],
   "source": [
    "df2.set_index(\"Name\")"
   ]
  },
  {
   "cell_type": "code",
   "execution_count": 90,
   "metadata": {},
   "outputs": [
    {
     "data": {
      "text/html": [
       "<div>\n",
       "<style scoped>\n",
       "    .dataframe tbody tr th:only-of-type {\n",
       "        vertical-align: middle;\n",
       "    }\n",
       "\n",
       "    .dataframe tbody tr th {\n",
       "        vertical-align: top;\n",
       "    }\n",
       "\n",
       "    .dataframe thead th {\n",
       "        text-align: right;\n",
       "    }\n",
       "</style>\n",
       "<table border=\"1\" class=\"dataframe\">\n",
       "  <thead>\n",
       "    <tr style=\"text-align: right;\">\n",
       "      <th></th>\n",
       "      <th>Name</th>\n",
       "      <th>Fcolor</th>\n",
       "      <th>Gender</th>\n",
       "    </tr>\n",
       "  </thead>\n",
       "  <tbody>\n",
       "    <tr>\n",
       "      <th>0</th>\n",
       "      <td>Lavanya</td>\n",
       "      <td>White</td>\n",
       "      <td>f</td>\n",
       "    </tr>\n",
       "    <tr>\n",
       "      <th>1</th>\n",
       "      <td>Praveen</td>\n",
       "      <td>Black</td>\n",
       "      <td>m</td>\n",
       "    </tr>\n",
       "    <tr>\n",
       "      <th>2</th>\n",
       "      <td>Anurag</td>\n",
       "      <td>Red</td>\n",
       "      <td>m</td>\n",
       "    </tr>\n",
       "    <tr>\n",
       "      <th>3</th>\n",
       "      <td>Nagaraju</td>\n",
       "      <td>NaN</td>\n",
       "      <td>m</td>\n",
       "    </tr>\n",
       "  </tbody>\n",
       "</table>\n",
       "</div>"
      ],
      "text/plain": [
       "       Name Fcolor Gender\n",
       "0   Lavanya  White      f\n",
       "1   Praveen  Black      m\n",
       "2    Anurag    Red      m\n",
       "3  Nagaraju    NaN      m"
      ]
     },
     "execution_count": 90,
     "metadata": {},
     "output_type": "execute_result"
    }
   ],
   "source": [
    "df2"
   ]
  },
  {
   "cell_type": "code",
   "execution_count": 91,
   "metadata": {
    "collapsed": true
   },
   "outputs": [
    {
     "data": {
      "text/html": [
       "<div>\n",
       "<style scoped>\n",
       "    .dataframe tbody tr th:only-of-type {\n",
       "        vertical-align: middle;\n",
       "    }\n",
       "\n",
       "    .dataframe tbody tr th {\n",
       "        vertical-align: top;\n",
       "    }\n",
       "\n",
       "    .dataframe thead th {\n",
       "        text-align: right;\n",
       "    }\n",
       "</style>\n",
       "<table border=\"1\" class=\"dataframe\">\n",
       "  <thead>\n",
       "    <tr style=\"text-align: right;\">\n",
       "      <th></th>\n",
       "      <th>Fcolor</th>\n",
       "      <th>Gender</th>\n",
       "    </tr>\n",
       "    <tr>\n",
       "      <th>Name</th>\n",
       "      <th></th>\n",
       "      <th></th>\n",
       "    </tr>\n",
       "  </thead>\n",
       "  <tbody>\n",
       "    <tr>\n",
       "      <th>Lavanya</th>\n",
       "      <td>White</td>\n",
       "      <td>f</td>\n",
       "    </tr>\n",
       "    <tr>\n",
       "      <th>Praveen</th>\n",
       "      <td>Black</td>\n",
       "      <td>m</td>\n",
       "    </tr>\n",
       "    <tr>\n",
       "      <th>Anurag</th>\n",
       "      <td>Red</td>\n",
       "      <td>m</td>\n",
       "    </tr>\n",
       "    <tr>\n",
       "      <th>Nagaraju</th>\n",
       "      <td>NaN</td>\n",
       "      <td>m</td>\n",
       "    </tr>\n",
       "  </tbody>\n",
       "</table>\n",
       "</div>"
      ],
      "text/plain": [
       "         Fcolor Gender\n",
       "Name                  \n",
       "Lavanya   White      f\n",
       "Praveen   Black      m\n",
       "Anurag      Red      m\n",
       "Nagaraju    NaN      m"
      ]
     },
     "execution_count": 91,
     "metadata": {},
     "output_type": "execute_result"
    }
   ],
   "source": [
    "df2.set_index(\"Name\", inplace = True)\n",
    "df2"
   ]
  },
  {
   "cell_type": "code",
   "execution_count": 92,
   "metadata": {},
   "outputs": [
    {
     "data": {
      "text/plain": [
       "'White'"
      ]
     },
     "execution_count": 92,
     "metadata": {},
     "output_type": "execute_result"
    }
   ],
   "source": [
    "df2.loc[\"Lavanya\",\"Fcolor\"]"
   ]
  },
  {
   "cell_type": "code",
   "execution_count": 93,
   "metadata": {},
   "outputs": [
    {
     "data": {
      "text/html": [
       "<div>\n",
       "<style scoped>\n",
       "    .dataframe tbody tr th:only-of-type {\n",
       "        vertical-align: middle;\n",
       "    }\n",
       "\n",
       "    .dataframe tbody tr th {\n",
       "        vertical-align: top;\n",
       "    }\n",
       "\n",
       "    .dataframe thead th {\n",
       "        text-align: right;\n",
       "    }\n",
       "</style>\n",
       "<table border=\"1\" class=\"dataframe\">\n",
       "  <thead>\n",
       "    <tr style=\"text-align: right;\">\n",
       "      <th></th>\n",
       "      <th>Gender</th>\n",
       "    </tr>\n",
       "    <tr>\n",
       "      <th>Name</th>\n",
       "      <th></th>\n",
       "    </tr>\n",
       "  </thead>\n",
       "  <tbody>\n",
       "    <tr>\n",
       "      <th>Lavanya</th>\n",
       "      <td>f</td>\n",
       "    </tr>\n",
       "    <tr>\n",
       "      <th>Praveen</th>\n",
       "      <td>m</td>\n",
       "    </tr>\n",
       "  </tbody>\n",
       "</table>\n",
       "</div>"
      ],
      "text/plain": [
       "        Gender\n",
       "Name          \n",
       "Lavanya      f\n",
       "Praveen      m"
      ]
     },
     "execution_count": 93,
     "metadata": {},
     "output_type": "execute_result"
    }
   ],
   "source": [
    "df2.loc[[\"Lavanya\",\"Praveen\"],[\"Gender\"]]"
   ]
  },
  {
   "cell_type": "code",
   "execution_count": 96,
   "metadata": {},
   "outputs": [],
   "source": [
    "df2.reset_index(inplace= True)"
   ]
  },
  {
   "cell_type": "code",
   "execution_count": 97,
   "metadata": {},
   "outputs": [
    {
     "data": {
      "text/html": [
       "<div>\n",
       "<style scoped>\n",
       "    .dataframe tbody tr th:only-of-type {\n",
       "        vertical-align: middle;\n",
       "    }\n",
       "\n",
       "    .dataframe tbody tr th {\n",
       "        vertical-align: top;\n",
       "    }\n",
       "\n",
       "    .dataframe thead th {\n",
       "        text-align: right;\n",
       "    }\n",
       "</style>\n",
       "<table border=\"1\" class=\"dataframe\">\n",
       "  <thead>\n",
       "    <tr style=\"text-align: right;\">\n",
       "      <th></th>\n",
       "      <th>Name</th>\n",
       "      <th>Fcolor</th>\n",
       "      <th>Gender</th>\n",
       "    </tr>\n",
       "  </thead>\n",
       "  <tbody>\n",
       "    <tr>\n",
       "      <th>0</th>\n",
       "      <td>Lavanya</td>\n",
       "      <td>White</td>\n",
       "      <td>f</td>\n",
       "    </tr>\n",
       "    <tr>\n",
       "      <th>1</th>\n",
       "      <td>Praveen</td>\n",
       "      <td>Black</td>\n",
       "      <td>m</td>\n",
       "    </tr>\n",
       "    <tr>\n",
       "      <th>2</th>\n",
       "      <td>Anurag</td>\n",
       "      <td>Red</td>\n",
       "      <td>m</td>\n",
       "    </tr>\n",
       "    <tr>\n",
       "      <th>3</th>\n",
       "      <td>Nagaraju</td>\n",
       "      <td>NaN</td>\n",
       "      <td>m</td>\n",
       "    </tr>\n",
       "  </tbody>\n",
       "</table>\n",
       "</div>"
      ],
      "text/plain": [
       "       Name Fcolor Gender\n",
       "0   Lavanya  White      f\n",
       "1   Praveen  Black      m\n",
       "2    Anurag    Red      m\n",
       "3  Nagaraju    NaN      m"
      ]
     },
     "execution_count": 97,
     "metadata": {},
     "output_type": "execute_result"
    }
   ],
   "source": [
    "df2"
   ]
  },
  {
   "cell_type": "markdown",
   "metadata": {},
   "source": [
    "# Merge / concat / Append"
   ]
  },
  {
   "cell_type": "code",
   "execution_count": 106,
   "metadata": {},
   "outputs": [
    {
     "data": {
      "text/html": [
       "<div>\n",
       "<style scoped>\n",
       "    .dataframe tbody tr th:only-of-type {\n",
       "        vertical-align: middle;\n",
       "    }\n",
       "\n",
       "    .dataframe tbody tr th {\n",
       "        vertical-align: top;\n",
       "    }\n",
       "\n",
       "    .dataframe thead th {\n",
       "        text-align: right;\n",
       "    }\n",
       "</style>\n",
       "<table border=\"1\" class=\"dataframe\">\n",
       "  <thead>\n",
       "    <tr style=\"text-align: right;\">\n",
       "      <th></th>\n",
       "      <th>Name</th>\n",
       "      <th>Branch</th>\n",
       "    </tr>\n",
       "  </thead>\n",
       "  <tbody>\n",
       "    <tr>\n",
       "      <th>0</th>\n",
       "      <td>Lavanya</td>\n",
       "      <td>Cse</td>\n",
       "    </tr>\n",
       "    <tr>\n",
       "      <th>1</th>\n",
       "      <td>Praveen</td>\n",
       "      <td>IT</td>\n",
       "    </tr>\n",
       "    <tr>\n",
       "      <th>2</th>\n",
       "      <td>Anurag</td>\n",
       "      <td>ECE</td>\n",
       "    </tr>\n",
       "    <tr>\n",
       "      <th>3</th>\n",
       "      <td>Nagaraju</td>\n",
       "      <td>CSe</td>\n",
       "    </tr>\n",
       "    <tr>\n",
       "      <th>4</th>\n",
       "      <td>Priya</td>\n",
       "      <td>Mech</td>\n",
       "    </tr>\n",
       "  </tbody>\n",
       "</table>\n",
       "</div>"
      ],
      "text/plain": [
       "       Name Branch\n",
       "0   Lavanya    Cse\n",
       "1   Praveen     IT\n",
       "2    Anurag    ECE\n",
       "3  Nagaraju    CSe\n",
       "4     Priya   Mech"
      ]
     },
     "execution_count": 106,
     "metadata": {},
     "output_type": "execute_result"
    }
   ],
   "source": [
    "d3 = {\n",
    "    \"Name\"  : [\"Lavanya\",\"Praveen\",\"Anurag\",\"Nagaraju\", \"Priya\"],\n",
    "    \"Branch\" : [\"Cse\",\"IT\",\"ECE\", \"CSe\", \"Mech\"]\n",
    "}\n",
    "df3 = pd.DataFrame(d3)\n",
    "df3"
   ]
  },
  {
   "cell_type": "code",
   "execution_count": 107,
   "metadata": {},
   "outputs": [
    {
     "data": {
      "text/html": [
       "<div>\n",
       "<style scoped>\n",
       "    .dataframe tbody tr th:only-of-type {\n",
       "        vertical-align: middle;\n",
       "    }\n",
       "\n",
       "    .dataframe tbody tr th {\n",
       "        vertical-align: top;\n",
       "    }\n",
       "\n",
       "    .dataframe thead th {\n",
       "        text-align: right;\n",
       "    }\n",
       "</style>\n",
       "<table border=\"1\" class=\"dataframe\">\n",
       "  <thead>\n",
       "    <tr style=\"text-align: right;\">\n",
       "      <th></th>\n",
       "      <th>Name</th>\n",
       "      <th>Fcolor</th>\n",
       "      <th>Gender</th>\n",
       "      <th>Branch</th>\n",
       "    </tr>\n",
       "  </thead>\n",
       "  <tbody>\n",
       "    <tr>\n",
       "      <th>0</th>\n",
       "      <td>Lavanya</td>\n",
       "      <td>White</td>\n",
       "      <td>f</td>\n",
       "      <td>NaN</td>\n",
       "    </tr>\n",
       "    <tr>\n",
       "      <th>1</th>\n",
       "      <td>Praveen</td>\n",
       "      <td>Black</td>\n",
       "      <td>m</td>\n",
       "      <td>NaN</td>\n",
       "    </tr>\n",
       "    <tr>\n",
       "      <th>2</th>\n",
       "      <td>Anurag</td>\n",
       "      <td>Red</td>\n",
       "      <td>m</td>\n",
       "      <td>NaN</td>\n",
       "    </tr>\n",
       "    <tr>\n",
       "      <th>3</th>\n",
       "      <td>Nagaraju</td>\n",
       "      <td>NaN</td>\n",
       "      <td>m</td>\n",
       "      <td>NaN</td>\n",
       "    </tr>\n",
       "    <tr>\n",
       "      <th>0</th>\n",
       "      <td>Lavanya</td>\n",
       "      <td>NaN</td>\n",
       "      <td>NaN</td>\n",
       "      <td>Cse</td>\n",
       "    </tr>\n",
       "    <tr>\n",
       "      <th>1</th>\n",
       "      <td>Praveen</td>\n",
       "      <td>NaN</td>\n",
       "      <td>NaN</td>\n",
       "      <td>IT</td>\n",
       "    </tr>\n",
       "    <tr>\n",
       "      <th>2</th>\n",
       "      <td>Anurag</td>\n",
       "      <td>NaN</td>\n",
       "      <td>NaN</td>\n",
       "      <td>ECE</td>\n",
       "    </tr>\n",
       "    <tr>\n",
       "      <th>3</th>\n",
       "      <td>Nagaraju</td>\n",
       "      <td>NaN</td>\n",
       "      <td>NaN</td>\n",
       "      <td>CSe</td>\n",
       "    </tr>\n",
       "    <tr>\n",
       "      <th>4</th>\n",
       "      <td>Priya</td>\n",
       "      <td>NaN</td>\n",
       "      <td>NaN</td>\n",
       "      <td>Mech</td>\n",
       "    </tr>\n",
       "  </tbody>\n",
       "</table>\n",
       "</div>"
      ],
      "text/plain": [
       "       Name Fcolor Gender Branch\n",
       "0   Lavanya  White      f    NaN\n",
       "1   Praveen  Black      m    NaN\n",
       "2    Anurag    Red      m    NaN\n",
       "3  Nagaraju    NaN      m    NaN\n",
       "0   Lavanya    NaN    NaN    Cse\n",
       "1   Praveen    NaN    NaN     IT\n",
       "2    Anurag    NaN    NaN    ECE\n",
       "3  Nagaraju    NaN    NaN    CSe\n",
       "4     Priya    NaN    NaN   Mech"
      ]
     },
     "execution_count": 107,
     "metadata": {},
     "output_type": "execute_result"
    }
   ],
   "source": [
    "pd.concat([df2,df3],axis = 0)\n",
    "# axis = 0 at rows, axis =1 at columns"
   ]
  },
  {
   "cell_type": "code",
   "execution_count": 108,
   "metadata": {},
   "outputs": [
    {
     "data": {
      "text/html": [
       "<div>\n",
       "<style scoped>\n",
       "    .dataframe tbody tr th:only-of-type {\n",
       "        vertical-align: middle;\n",
       "    }\n",
       "\n",
       "    .dataframe tbody tr th {\n",
       "        vertical-align: top;\n",
       "    }\n",
       "\n",
       "    .dataframe thead th {\n",
       "        text-align: right;\n",
       "    }\n",
       "</style>\n",
       "<table border=\"1\" class=\"dataframe\">\n",
       "  <thead>\n",
       "    <tr style=\"text-align: right;\">\n",
       "      <th></th>\n",
       "      <th>Name</th>\n",
       "      <th>Fcolor</th>\n",
       "      <th>Gender</th>\n",
       "      <th>Name</th>\n",
       "      <th>Branch</th>\n",
       "    </tr>\n",
       "  </thead>\n",
       "  <tbody>\n",
       "    <tr>\n",
       "      <th>0</th>\n",
       "      <td>Lavanya</td>\n",
       "      <td>White</td>\n",
       "      <td>f</td>\n",
       "      <td>Lavanya</td>\n",
       "      <td>Cse</td>\n",
       "    </tr>\n",
       "    <tr>\n",
       "      <th>1</th>\n",
       "      <td>Praveen</td>\n",
       "      <td>Black</td>\n",
       "      <td>m</td>\n",
       "      <td>Praveen</td>\n",
       "      <td>IT</td>\n",
       "    </tr>\n",
       "    <tr>\n",
       "      <th>2</th>\n",
       "      <td>Anurag</td>\n",
       "      <td>Red</td>\n",
       "      <td>m</td>\n",
       "      <td>Anurag</td>\n",
       "      <td>ECE</td>\n",
       "    </tr>\n",
       "    <tr>\n",
       "      <th>3</th>\n",
       "      <td>Nagaraju</td>\n",
       "      <td>NaN</td>\n",
       "      <td>m</td>\n",
       "      <td>Nagaraju</td>\n",
       "      <td>CSe</td>\n",
       "    </tr>\n",
       "    <tr>\n",
       "      <th>4</th>\n",
       "      <td>NaN</td>\n",
       "      <td>NaN</td>\n",
       "      <td>NaN</td>\n",
       "      <td>Priya</td>\n",
       "      <td>Mech</td>\n",
       "    </tr>\n",
       "  </tbody>\n",
       "</table>\n",
       "</div>"
      ],
      "text/plain": [
       "       Name Fcolor Gender      Name Branch\n",
       "0   Lavanya  White      f   Lavanya    Cse\n",
       "1   Praveen  Black      m   Praveen     IT\n",
       "2    Anurag    Red      m    Anurag    ECE\n",
       "3  Nagaraju    NaN      m  Nagaraju    CSe\n",
       "4       NaN    NaN    NaN     Priya   Mech"
      ]
     },
     "execution_count": 108,
     "metadata": {},
     "output_type": "execute_result"
    }
   ],
   "source": [
    "pd.concat([df2,df3],axis = 1) # concat at columns"
   ]
  },
  {
   "cell_type": "code",
   "execution_count": 109,
   "metadata": {},
   "outputs": [
    {
     "data": {
      "text/html": [
       "<div>\n",
       "<style scoped>\n",
       "    .dataframe tbody tr th:only-of-type {\n",
       "        vertical-align: middle;\n",
       "    }\n",
       "\n",
       "    .dataframe tbody tr th {\n",
       "        vertical-align: top;\n",
       "    }\n",
       "\n",
       "    .dataframe thead th {\n",
       "        text-align: right;\n",
       "    }\n",
       "</style>\n",
       "<table border=\"1\" class=\"dataframe\">\n",
       "  <thead>\n",
       "    <tr style=\"text-align: right;\">\n",
       "      <th></th>\n",
       "      <th>Name</th>\n",
       "      <th>Fcolor</th>\n",
       "      <th>Gender</th>\n",
       "      <th>Branch</th>\n",
       "    </tr>\n",
       "  </thead>\n",
       "  <tbody>\n",
       "    <tr>\n",
       "      <th>0</th>\n",
       "      <td>Lavanya</td>\n",
       "      <td>White</td>\n",
       "      <td>f</td>\n",
       "      <td>NaN</td>\n",
       "    </tr>\n",
       "    <tr>\n",
       "      <th>1</th>\n",
       "      <td>Praveen</td>\n",
       "      <td>Black</td>\n",
       "      <td>m</td>\n",
       "      <td>NaN</td>\n",
       "    </tr>\n",
       "    <tr>\n",
       "      <th>2</th>\n",
       "      <td>Anurag</td>\n",
       "      <td>Red</td>\n",
       "      <td>m</td>\n",
       "      <td>NaN</td>\n",
       "    </tr>\n",
       "    <tr>\n",
       "      <th>3</th>\n",
       "      <td>Nagaraju</td>\n",
       "      <td>NaN</td>\n",
       "      <td>m</td>\n",
       "      <td>NaN</td>\n",
       "    </tr>\n",
       "    <tr>\n",
       "      <th>0</th>\n",
       "      <td>Lavanya</td>\n",
       "      <td>NaN</td>\n",
       "      <td>NaN</td>\n",
       "      <td>Cse</td>\n",
       "    </tr>\n",
       "    <tr>\n",
       "      <th>1</th>\n",
       "      <td>Praveen</td>\n",
       "      <td>NaN</td>\n",
       "      <td>NaN</td>\n",
       "      <td>IT</td>\n",
       "    </tr>\n",
       "    <tr>\n",
       "      <th>2</th>\n",
       "      <td>Anurag</td>\n",
       "      <td>NaN</td>\n",
       "      <td>NaN</td>\n",
       "      <td>ECE</td>\n",
       "    </tr>\n",
       "    <tr>\n",
       "      <th>3</th>\n",
       "      <td>Nagaraju</td>\n",
       "      <td>NaN</td>\n",
       "      <td>NaN</td>\n",
       "      <td>CSe</td>\n",
       "    </tr>\n",
       "    <tr>\n",
       "      <th>4</th>\n",
       "      <td>Priya</td>\n",
       "      <td>NaN</td>\n",
       "      <td>NaN</td>\n",
       "      <td>Mech</td>\n",
       "    </tr>\n",
       "  </tbody>\n",
       "</table>\n",
       "</div>"
      ],
      "text/plain": [
       "       Name Fcolor Gender Branch\n",
       "0   Lavanya  White      f    NaN\n",
       "1   Praveen  Black      m    NaN\n",
       "2    Anurag    Red      m    NaN\n",
       "3  Nagaraju    NaN      m    NaN\n",
       "0   Lavanya    NaN    NaN    Cse\n",
       "1   Praveen    NaN    NaN     IT\n",
       "2    Anurag    NaN    NaN    ECE\n",
       "3  Nagaraju    NaN    NaN    CSe\n",
       "4     Priya    NaN    NaN   Mech"
      ]
     },
     "execution_count": 109,
     "metadata": {},
     "output_type": "execute_result"
    }
   ],
   "source": [
    "df2.append(df3) # at rows"
   ]
  },
  {
   "cell_type": "code",
   "execution_count": 110,
   "metadata": {},
   "outputs": [
    {
     "data": {
      "text/html": [
       "<div>\n",
       "<style scoped>\n",
       "    .dataframe tbody tr th:only-of-type {\n",
       "        vertical-align: middle;\n",
       "    }\n",
       "\n",
       "    .dataframe tbody tr th {\n",
       "        vertical-align: top;\n",
       "    }\n",
       "\n",
       "    .dataframe thead th {\n",
       "        text-align: right;\n",
       "    }\n",
       "</style>\n",
       "<table border=\"1\" class=\"dataframe\">\n",
       "  <thead>\n",
       "    <tr style=\"text-align: right;\">\n",
       "      <th></th>\n",
       "      <th>Name</th>\n",
       "      <th>Branch</th>\n",
       "      <th>Fcolor</th>\n",
       "      <th>Gender</th>\n",
       "    </tr>\n",
       "  </thead>\n",
       "  <tbody>\n",
       "    <tr>\n",
       "      <th>0</th>\n",
       "      <td>Lavanya</td>\n",
       "      <td>Cse</td>\n",
       "      <td>NaN</td>\n",
       "      <td>NaN</td>\n",
       "    </tr>\n",
       "    <tr>\n",
       "      <th>1</th>\n",
       "      <td>Praveen</td>\n",
       "      <td>IT</td>\n",
       "      <td>NaN</td>\n",
       "      <td>NaN</td>\n",
       "    </tr>\n",
       "    <tr>\n",
       "      <th>2</th>\n",
       "      <td>Anurag</td>\n",
       "      <td>ECE</td>\n",
       "      <td>NaN</td>\n",
       "      <td>NaN</td>\n",
       "    </tr>\n",
       "    <tr>\n",
       "      <th>3</th>\n",
       "      <td>Nagaraju</td>\n",
       "      <td>CSe</td>\n",
       "      <td>NaN</td>\n",
       "      <td>NaN</td>\n",
       "    </tr>\n",
       "    <tr>\n",
       "      <th>4</th>\n",
       "      <td>Priya</td>\n",
       "      <td>Mech</td>\n",
       "      <td>NaN</td>\n",
       "      <td>NaN</td>\n",
       "    </tr>\n",
       "    <tr>\n",
       "      <th>0</th>\n",
       "      <td>Lavanya</td>\n",
       "      <td>NaN</td>\n",
       "      <td>White</td>\n",
       "      <td>f</td>\n",
       "    </tr>\n",
       "    <tr>\n",
       "      <th>1</th>\n",
       "      <td>Praveen</td>\n",
       "      <td>NaN</td>\n",
       "      <td>Black</td>\n",
       "      <td>m</td>\n",
       "    </tr>\n",
       "    <tr>\n",
       "      <th>2</th>\n",
       "      <td>Anurag</td>\n",
       "      <td>NaN</td>\n",
       "      <td>Red</td>\n",
       "      <td>m</td>\n",
       "    </tr>\n",
       "    <tr>\n",
       "      <th>3</th>\n",
       "      <td>Nagaraju</td>\n",
       "      <td>NaN</td>\n",
       "      <td>NaN</td>\n",
       "      <td>m</td>\n",
       "    </tr>\n",
       "  </tbody>\n",
       "</table>\n",
       "</div>"
      ],
      "text/plain": [
       "       Name Branch Fcolor Gender\n",
       "0   Lavanya    Cse    NaN    NaN\n",
       "1   Praveen     IT    NaN    NaN\n",
       "2    Anurag    ECE    NaN    NaN\n",
       "3  Nagaraju    CSe    NaN    NaN\n",
       "4     Priya   Mech    NaN    NaN\n",
       "0   Lavanya    NaN  White      f\n",
       "1   Praveen    NaN  Black      m\n",
       "2    Anurag    NaN    Red      m\n",
       "3  Nagaraju    NaN    NaN      m"
      ]
     },
     "execution_count": 110,
     "metadata": {},
     "output_type": "execute_result"
    }
   ],
   "source": [
    "df3.append(df2)"
   ]
  },
  {
   "cell_type": "code",
   "execution_count": 111,
   "metadata": {},
   "outputs": [
    {
     "data": {
      "text/html": [
       "<div>\n",
       "<style scoped>\n",
       "    .dataframe tbody tr th:only-of-type {\n",
       "        vertical-align: middle;\n",
       "    }\n",
       "\n",
       "    .dataframe tbody tr th {\n",
       "        vertical-align: top;\n",
       "    }\n",
       "\n",
       "    .dataframe thead th {\n",
       "        text-align: right;\n",
       "    }\n",
       "</style>\n",
       "<table border=\"1\" class=\"dataframe\">\n",
       "  <thead>\n",
       "    <tr style=\"text-align: right;\">\n",
       "      <th></th>\n",
       "      <th>Name</th>\n",
       "      <th>Fcolor</th>\n",
       "      <th>Gender</th>\n",
       "      <th>Branch</th>\n",
       "    </tr>\n",
       "  </thead>\n",
       "  <tbody>\n",
       "    <tr>\n",
       "      <th>0</th>\n",
       "      <td>Lavanya</td>\n",
       "      <td>White</td>\n",
       "      <td>f</td>\n",
       "      <td>Cse</td>\n",
       "    </tr>\n",
       "    <tr>\n",
       "      <th>1</th>\n",
       "      <td>Praveen</td>\n",
       "      <td>Black</td>\n",
       "      <td>m</td>\n",
       "      <td>IT</td>\n",
       "    </tr>\n",
       "    <tr>\n",
       "      <th>2</th>\n",
       "      <td>Anurag</td>\n",
       "      <td>Red</td>\n",
       "      <td>m</td>\n",
       "      <td>ECE</td>\n",
       "    </tr>\n",
       "    <tr>\n",
       "      <th>3</th>\n",
       "      <td>Nagaraju</td>\n",
       "      <td>NaN</td>\n",
       "      <td>m</td>\n",
       "      <td>CSe</td>\n",
       "    </tr>\n",
       "  </tbody>\n",
       "</table>\n",
       "</div>"
      ],
      "text/plain": [
       "       Name Fcolor Gender Branch\n",
       "0   Lavanya  White      f    Cse\n",
       "1   Praveen  Black      m     IT\n",
       "2    Anurag    Red      m    ECE\n",
       "3  Nagaraju    NaN      m    CSe"
      ]
     },
     "execution_count": 111,
     "metadata": {},
     "output_type": "execute_result"
    }
   ],
   "source": [
    "pd.merge(df2,df3) # common data members "
   ]
  },
  {
   "cell_type": "code",
   "execution_count": 113,
   "metadata": {
    "collapsed": true
   },
   "outputs": [
    {
     "data": {
      "text/html": [
       "<div>\n",
       "<style scoped>\n",
       "    .dataframe tbody tr th:only-of-type {\n",
       "        vertical-align: middle;\n",
       "    }\n",
       "\n",
       "    .dataframe tbody tr th {\n",
       "        vertical-align: top;\n",
       "    }\n",
       "\n",
       "    .dataframe thead th {\n",
       "        text-align: right;\n",
       "    }\n",
       "</style>\n",
       "<table border=\"1\" class=\"dataframe\">\n",
       "  <thead>\n",
       "    <tr style=\"text-align: right;\">\n",
       "      <th></th>\n",
       "      <th>Name</th>\n",
       "      <th>Fcolor</th>\n",
       "      <th>Gender</th>\n",
       "    </tr>\n",
       "  </thead>\n",
       "  <tbody>\n",
       "    <tr>\n",
       "      <th>0</th>\n",
       "      <td>Lavanya</td>\n",
       "      <td>White</td>\n",
       "      <td>f</td>\n",
       "    </tr>\n",
       "    <tr>\n",
       "      <th>1</th>\n",
       "      <td>Praveen</td>\n",
       "      <td>Black</td>\n",
       "      <td>m</td>\n",
       "    </tr>\n",
       "    <tr>\n",
       "      <th>2</th>\n",
       "      <td>Anurag</td>\n",
       "      <td>Red</td>\n",
       "      <td>m</td>\n",
       "    </tr>\n",
       "    <tr>\n",
       "      <th>3</th>\n",
       "      <td>Nagaraju</td>\n",
       "      <td>NaN</td>\n",
       "      <td>m</td>\n",
       "    </tr>\n",
       "  </tbody>\n",
       "</table>\n",
       "</div>"
      ],
      "text/plain": [
       "       Name Fcolor Gender\n",
       "0   Lavanya  White      f\n",
       "1   Praveen  Black      m\n",
       "2    Anurag    Red      m\n",
       "3  Nagaraju    NaN      m"
      ]
     },
     "execution_count": 113,
     "metadata": {},
     "output_type": "execute_result"
    }
   ],
   "source": [
    "df2"
   ]
  },
  {
   "cell_type": "code",
   "execution_count": 116,
   "metadata": {},
   "outputs": [
    {
     "data": {
      "text/html": [
       "<div>\n",
       "<style scoped>\n",
       "    .dataframe tbody tr th:only-of-type {\n",
       "        vertical-align: middle;\n",
       "    }\n",
       "\n",
       "    .dataframe tbody tr th {\n",
       "        vertical-align: top;\n",
       "    }\n",
       "\n",
       "    .dataframe thead th {\n",
       "        text-align: right;\n",
       "    }\n",
       "</style>\n",
       "<table border=\"1\" class=\"dataframe\">\n",
       "  <thead>\n",
       "    <tr style=\"text-align: right;\">\n",
       "      <th></th>\n",
       "      <th>Name</th>\n",
       "      <th>Fcolor</th>\n",
       "      <th>Gender</th>\n",
       "      <th>Branch</th>\n",
       "    </tr>\n",
       "  </thead>\n",
       "  <tbody>\n",
       "    <tr>\n",
       "      <th>0</th>\n",
       "      <td>Lavanya</td>\n",
       "      <td>White</td>\n",
       "      <td>f</td>\n",
       "      <td>Cse</td>\n",
       "    </tr>\n",
       "    <tr>\n",
       "      <th>1</th>\n",
       "      <td>Praveen</td>\n",
       "      <td>Black</td>\n",
       "      <td>m</td>\n",
       "      <td>IT</td>\n",
       "    </tr>\n",
       "    <tr>\n",
       "      <th>2</th>\n",
       "      <td>Anurag</td>\n",
       "      <td>Red</td>\n",
       "      <td>m</td>\n",
       "      <td>ECE</td>\n",
       "    </tr>\n",
       "    <tr>\n",
       "      <th>3</th>\n",
       "      <td>Nagaraju</td>\n",
       "      <td>NaN</td>\n",
       "      <td>m</td>\n",
       "      <td>CSe</td>\n",
       "    </tr>\n",
       "  </tbody>\n",
       "</table>\n",
       "</div>"
      ],
      "text/plain": [
       "       Name Fcolor Gender Branch\n",
       "0   Lavanya  White      f    Cse\n",
       "1   Praveen  Black      m     IT\n",
       "2    Anurag    Red      m    ECE\n",
       "3  Nagaraju    NaN      m    CSe"
      ]
     },
     "execution_count": 116,
     "metadata": {},
     "output_type": "execute_result"
    }
   ],
   "source": [
    "pd.merge(df2,df3, how = \"left\") # priority is df2"
   ]
  },
  {
   "cell_type": "code",
   "execution_count": 115,
   "metadata": {
    "collapsed": true
   },
   "outputs": [
    {
     "name": "stdout",
     "output_type": "stream",
     "text": [
      "Help on function merge in module pandas.core.reshape.merge:\n",
      "\n",
      "merge(left, right, how: str = 'inner', on=None, left_on=None, right_on=None, left_index: bool = False, right_index: bool = False, sort: bool = False, suffixes=('_x', '_y'), copy: bool = True, indicator: bool = False, validate=None) -> 'DataFrame'\n",
      "    Merge DataFrame or named Series objects with a database-style join.\n",
      "    \n",
      "    The join is done on columns or indexes. If joining columns on\n",
      "    columns, the DataFrame indexes *will be ignored*. Otherwise if joining indexes\n",
      "    on indexes or indexes on a column or columns, the index will be passed on.\n",
      "    \n",
      "    Parameters\n",
      "    ----------\n",
      "    left : DataFrame\n",
      "    right : DataFrame or named Series\n",
      "        Object to merge with.\n",
      "    how : {'left', 'right', 'outer', 'inner'}, default 'inner'\n",
      "        Type of merge to be performed.\n",
      "    \n",
      "        * left: use only keys from left frame, similar to a SQL left outer join;\n",
      "          preserve key order.\n",
      "        * right: use only keys from right frame, similar to a SQL right outer join;\n",
      "          preserve key order.\n",
      "        * outer: use union of keys from both frames, similar to a SQL full outer\n",
      "          join; sort keys lexicographically.\n",
      "        * inner: use intersection of keys from both frames, similar to a SQL inner\n",
      "          join; preserve the order of the left keys.\n",
      "    on : label or list\n",
      "        Column or index level names to join on. These must be found in both\n",
      "        DataFrames. If `on` is None and not merging on indexes then this defaults\n",
      "        to the intersection of the columns in both DataFrames.\n",
      "    left_on : label or list, or array-like\n",
      "        Column or index level names to join on in the left DataFrame. Can also\n",
      "        be an array or list of arrays of the length of the left DataFrame.\n",
      "        These arrays are treated as if they are columns.\n",
      "    right_on : label or list, or array-like\n",
      "        Column or index level names to join on in the right DataFrame. Can also\n",
      "        be an array or list of arrays of the length of the right DataFrame.\n",
      "        These arrays are treated as if they are columns.\n",
      "    left_index : bool, default False\n",
      "        Use the index from the left DataFrame as the join key(s). If it is a\n",
      "        MultiIndex, the number of keys in the other DataFrame (either the index\n",
      "        or a number of columns) must match the number of levels.\n",
      "    right_index : bool, default False\n",
      "        Use the index from the right DataFrame as the join key. Same caveats as\n",
      "        left_index.\n",
      "    sort : bool, default False\n",
      "        Sort the join keys lexicographically in the result DataFrame. If False,\n",
      "        the order of the join keys depends on the join type (how keyword).\n",
      "    suffixes : tuple of (str, str), default ('_x', '_y')\n",
      "        Suffix to apply to overlapping column names in the left and right\n",
      "        side, respectively. To raise an exception on overlapping columns use\n",
      "        (False, False).\n",
      "    copy : bool, default True\n",
      "        If False, avoid copy if possible.\n",
      "    indicator : bool or str, default False\n",
      "        If True, adds a column to output DataFrame called \"_merge\" with\n",
      "        information on the source of each row.\n",
      "        If string, column with information on source of each row will be added to\n",
      "        output DataFrame, and column will be named value of string.\n",
      "        Information column is Categorical-type and takes on a value of \"left_only\"\n",
      "        for observations whose merge key only appears in 'left' DataFrame,\n",
      "        \"right_only\" for observations whose merge key only appears in 'right'\n",
      "        DataFrame, and \"both\" if the observation's merge key is found in both.\n",
      "    \n",
      "    validate : str, optional\n",
      "        If specified, checks if merge is of specified type.\n",
      "    \n",
      "        * \"one_to_one\" or \"1:1\": check if merge keys are unique in both\n",
      "          left and right datasets.\n",
      "        * \"one_to_many\" or \"1:m\": check if merge keys are unique in left\n",
      "          dataset.\n",
      "        * \"many_to_one\" or \"m:1\": check if merge keys are unique in right\n",
      "          dataset.\n",
      "        * \"many_to_many\" or \"m:m\": allowed, but does not result in checks.\n",
      "    \n",
      "        .. versionadded:: 0.21.0\n",
      "    \n",
      "    Returns\n",
      "    -------\n",
      "    DataFrame\n",
      "        A DataFrame of the two merged objects.\n",
      "    \n",
      "    See Also\n",
      "    --------\n",
      "    merge_ordered : Merge with optional filling/interpolation.\n",
      "    merge_asof : Merge on nearest keys.\n",
      "    DataFrame.join : Similar method using indices.\n",
      "    \n",
      "    Notes\n",
      "    -----\n",
      "    Support for specifying index levels as the `on`, `left_on`, and\n",
      "    `right_on` parameters was added in version 0.23.0\n",
      "    Support for merging named Series objects was added in version 0.24.0\n",
      "    \n",
      "    Examples\n",
      "    --------\n",
      "    \n",
      "    >>> df1 = pd.DataFrame({'lkey': ['foo', 'bar', 'baz', 'foo'],\n",
      "    ...                     'value': [1, 2, 3, 5]})\n",
      "    >>> df2 = pd.DataFrame({'rkey': ['foo', 'bar', 'baz', 'foo'],\n",
      "    ...                     'value': [5, 6, 7, 8]})\n",
      "    >>> df1\n",
      "        lkey value\n",
      "    0   foo      1\n",
      "    1   bar      2\n",
      "    2   baz      3\n",
      "    3   foo      5\n",
      "    >>> df2\n",
      "        rkey value\n",
      "    0   foo      5\n",
      "    1   bar      6\n",
      "    2   baz      7\n",
      "    3   foo      8\n",
      "    \n",
      "    Merge df1 and df2 on the lkey and rkey columns. The value columns have\n",
      "    the default suffixes, _x and _y, appended.\n",
      "    \n",
      "    >>> df1.merge(df2, left_on='lkey', right_on='rkey')\n",
      "      lkey  value_x rkey  value_y\n",
      "    0  foo        1  foo        5\n",
      "    1  foo        1  foo        8\n",
      "    2  foo        5  foo        5\n",
      "    3  foo        5  foo        8\n",
      "    4  bar        2  bar        6\n",
      "    5  baz        3  baz        7\n",
      "    \n",
      "    Merge DataFrames df1 and df2 with specified left and right suffixes\n",
      "    appended to any overlapping columns.\n",
      "    \n",
      "    >>> df1.merge(df2, left_on='lkey', right_on='rkey',\n",
      "    ...           suffixes=('_left', '_right'))\n",
      "      lkey  value_left rkey  value_right\n",
      "    0  foo           1  foo            5\n",
      "    1  foo           1  foo            8\n",
      "    2  foo           5  foo            5\n",
      "    3  foo           5  foo            8\n",
      "    4  bar           2  bar            6\n",
      "    5  baz           3  baz            7\n",
      "    \n",
      "    Merge DataFrames df1 and df2, but raise an exception if the DataFrames have\n",
      "    any overlapping columns.\n",
      "    \n",
      "    >>> df1.merge(df2, left_on='lkey', right_on='rkey', suffixes=(False, False))\n",
      "    Traceback (most recent call last):\n",
      "    ...\n",
      "    ValueError: columns overlap but no suffix specified:\n",
      "        Index(['value'], dtype='object')\n",
      "\n"
     ]
    }
   ],
   "source": [
    "help(pd.merge)"
   ]
  },
  {
   "cell_type": "code",
   "execution_count": 117,
   "metadata": {},
   "outputs": [
    {
     "data": {
      "text/html": [
       "<div>\n",
       "<style scoped>\n",
       "    .dataframe tbody tr th:only-of-type {\n",
       "        vertical-align: middle;\n",
       "    }\n",
       "\n",
       "    .dataframe tbody tr th {\n",
       "        vertical-align: top;\n",
       "    }\n",
       "\n",
       "    .dataframe thead th {\n",
       "        text-align: right;\n",
       "    }\n",
       "</style>\n",
       "<table border=\"1\" class=\"dataframe\">\n",
       "  <thead>\n",
       "    <tr style=\"text-align: right;\">\n",
       "      <th></th>\n",
       "      <th>Name</th>\n",
       "      <th>Fcolor</th>\n",
       "      <th>Gender</th>\n",
       "      <th>Branch</th>\n",
       "    </tr>\n",
       "  </thead>\n",
       "  <tbody>\n",
       "    <tr>\n",
       "      <th>0</th>\n",
       "      <td>Lavanya</td>\n",
       "      <td>White</td>\n",
       "      <td>f</td>\n",
       "      <td>Cse</td>\n",
       "    </tr>\n",
       "    <tr>\n",
       "      <th>1</th>\n",
       "      <td>Praveen</td>\n",
       "      <td>Black</td>\n",
       "      <td>m</td>\n",
       "      <td>IT</td>\n",
       "    </tr>\n",
       "    <tr>\n",
       "      <th>2</th>\n",
       "      <td>Anurag</td>\n",
       "      <td>Red</td>\n",
       "      <td>m</td>\n",
       "      <td>ECE</td>\n",
       "    </tr>\n",
       "    <tr>\n",
       "      <th>3</th>\n",
       "      <td>Nagaraju</td>\n",
       "      <td>NaN</td>\n",
       "      <td>m</td>\n",
       "      <td>CSe</td>\n",
       "    </tr>\n",
       "    <tr>\n",
       "      <th>4</th>\n",
       "      <td>Priya</td>\n",
       "      <td>NaN</td>\n",
       "      <td>NaN</td>\n",
       "      <td>Mech</td>\n",
       "    </tr>\n",
       "  </tbody>\n",
       "</table>\n",
       "</div>"
      ],
      "text/plain": [
       "       Name Fcolor Gender Branch\n",
       "0   Lavanya  White      f    Cse\n",
       "1   Praveen  Black      m     IT\n",
       "2    Anurag    Red      m    ECE\n",
       "3  Nagaraju    NaN      m    CSe\n",
       "4     Priya    NaN    NaN   Mech"
      ]
     },
     "execution_count": 117,
     "metadata": {},
     "output_type": "execute_result"
    }
   ],
   "source": [
    "pd.merge(df2,df3, how = \"right\") # df3"
   ]
  },
  {
   "cell_type": "code",
   "execution_count": 118,
   "metadata": {},
   "outputs": [
    {
     "data": {
      "text/html": [
       "<div>\n",
       "<style scoped>\n",
       "    .dataframe tbody tr th:only-of-type {\n",
       "        vertical-align: middle;\n",
       "    }\n",
       "\n",
       "    .dataframe tbody tr th {\n",
       "        vertical-align: top;\n",
       "    }\n",
       "\n",
       "    .dataframe thead th {\n",
       "        text-align: right;\n",
       "    }\n",
       "</style>\n",
       "<table border=\"1\" class=\"dataframe\">\n",
       "  <thead>\n",
       "    <tr style=\"text-align: right;\">\n",
       "      <th></th>\n",
       "      <th>Name</th>\n",
       "      <th>Fcolor</th>\n",
       "      <th>Gender</th>\n",
       "      <th>Branch</th>\n",
       "    </tr>\n",
       "  </thead>\n",
       "  <tbody>\n",
       "    <tr>\n",
       "      <th>0</th>\n",
       "      <td>Lavanya</td>\n",
       "      <td>White</td>\n",
       "      <td>f</td>\n",
       "      <td>Cse</td>\n",
       "    </tr>\n",
       "    <tr>\n",
       "      <th>1</th>\n",
       "      <td>Praveen</td>\n",
       "      <td>Black</td>\n",
       "      <td>m</td>\n",
       "      <td>IT</td>\n",
       "    </tr>\n",
       "    <tr>\n",
       "      <th>2</th>\n",
       "      <td>Anurag</td>\n",
       "      <td>Red</td>\n",
       "      <td>m</td>\n",
       "      <td>ECE</td>\n",
       "    </tr>\n",
       "    <tr>\n",
       "      <th>3</th>\n",
       "      <td>Nagaraju</td>\n",
       "      <td>NaN</td>\n",
       "      <td>m</td>\n",
       "      <td>CSe</td>\n",
       "    </tr>\n",
       "  </tbody>\n",
       "</table>\n",
       "</div>"
      ],
      "text/plain": [
       "       Name Fcolor Gender Branch\n",
       "0   Lavanya  White      f    Cse\n",
       "1   Praveen  Black      m     IT\n",
       "2    Anurag    Red      m    ECE\n",
       "3  Nagaraju    NaN      m    CSe"
      ]
     },
     "execution_count": 118,
     "metadata": {},
     "output_type": "execute_result"
    }
   ],
   "source": [
    "pd.merge(df2,df3, how = \"inner\") # common data - use intersection of keys from both frames"
   ]
  },
  {
   "cell_type": "code",
   "execution_count": 120,
   "metadata": {},
   "outputs": [
    {
     "data": {
      "text/html": [
       "<div>\n",
       "<style scoped>\n",
       "    .dataframe tbody tr th:only-of-type {\n",
       "        vertical-align: middle;\n",
       "    }\n",
       "\n",
       "    .dataframe tbody tr th {\n",
       "        vertical-align: top;\n",
       "    }\n",
       "\n",
       "    .dataframe thead th {\n",
       "        text-align: right;\n",
       "    }\n",
       "</style>\n",
       "<table border=\"1\" class=\"dataframe\">\n",
       "  <thead>\n",
       "    <tr style=\"text-align: right;\">\n",
       "      <th></th>\n",
       "      <th>Name</th>\n",
       "      <th>Fcolor</th>\n",
       "      <th>Gender</th>\n",
       "      <th>Branch</th>\n",
       "    </tr>\n",
       "  </thead>\n",
       "  <tbody>\n",
       "    <tr>\n",
       "      <th>0</th>\n",
       "      <td>Lavanya</td>\n",
       "      <td>White</td>\n",
       "      <td>f</td>\n",
       "      <td>Cse</td>\n",
       "    </tr>\n",
       "    <tr>\n",
       "      <th>1</th>\n",
       "      <td>Praveen</td>\n",
       "      <td>Black</td>\n",
       "      <td>m</td>\n",
       "      <td>IT</td>\n",
       "    </tr>\n",
       "    <tr>\n",
       "      <th>2</th>\n",
       "      <td>Anurag</td>\n",
       "      <td>Red</td>\n",
       "      <td>m</td>\n",
       "      <td>ECE</td>\n",
       "    </tr>\n",
       "    <tr>\n",
       "      <th>3</th>\n",
       "      <td>Nagaraju</td>\n",
       "      <td>NaN</td>\n",
       "      <td>m</td>\n",
       "      <td>CSe</td>\n",
       "    </tr>\n",
       "    <tr>\n",
       "      <th>4</th>\n",
       "      <td>Priya</td>\n",
       "      <td>NaN</td>\n",
       "      <td>NaN</td>\n",
       "      <td>Mech</td>\n",
       "    </tr>\n",
       "  </tbody>\n",
       "</table>\n",
       "</div>"
      ],
      "text/plain": [
       "       Name Fcolor Gender Branch\n",
       "0   Lavanya  White      f    Cse\n",
       "1   Praveen  Black      m     IT\n",
       "2    Anurag    Red      m    ECE\n",
       "3  Nagaraju    NaN      m    CSe\n",
       "4     Priya    NaN    NaN   Mech"
      ]
     },
     "execution_count": 120,
     "metadata": {},
     "output_type": "execute_result"
    }
   ],
   "source": [
    "pd.merge(df2,df3, how = \"outer\") # all -use union of keys from both frames"
   ]
  },
  {
   "cell_type": "markdown",
   "metadata": {},
   "source": [
    "# File Reading"
   ]
  },
  {
   "cell_type": "code",
   "execution_count": 121,
   "metadata": {
    "collapsed": true
   },
   "outputs": [
    {
     "data": {
      "text/html": [
       "<div>\n",
       "<style scoped>\n",
       "    .dataframe tbody tr th:only-of-type {\n",
       "        vertical-align: middle;\n",
       "    }\n",
       "\n",
       "    .dataframe tbody tr th {\n",
       "        vertical-align: top;\n",
       "    }\n",
       "\n",
       "    .dataframe thead th {\n",
       "        text-align: right;\n",
       "    }\n",
       "</style>\n",
       "<table border=\"1\" class=\"dataframe\">\n",
       "  <thead>\n",
       "    <tr style=\"text-align: right;\">\n",
       "      <th></th>\n",
       "      <th>Unnamed: 0</th>\n",
       "      <th>Roll Number</th>\n",
       "      <th>2020-07-25</th>\n",
       "    </tr>\n",
       "  </thead>\n",
       "  <tbody>\n",
       "    <tr>\n",
       "      <th>0</th>\n",
       "      <td>0</td>\n",
       "      <td>17B81A04H1</td>\n",
       "      <td>P</td>\n",
       "    </tr>\n",
       "    <tr>\n",
       "      <th>1</th>\n",
       "      <td>1</td>\n",
       "      <td>198A5F0019</td>\n",
       "      <td>P</td>\n",
       "    </tr>\n",
       "    <tr>\n",
       "      <th>2</th>\n",
       "      <td>2</td>\n",
       "      <td>17KD1A0560</td>\n",
       "      <td>P</td>\n",
       "    </tr>\n",
       "    <tr>\n",
       "      <th>3</th>\n",
       "      <td>3</td>\n",
       "      <td>17KH1A0455</td>\n",
       "      <td>P</td>\n",
       "    </tr>\n",
       "    <tr>\n",
       "      <th>4</th>\n",
       "      <td>4</td>\n",
       "      <td>1210316262</td>\n",
       "      <td>P</td>\n",
       "    </tr>\n",
       "    <tr>\n",
       "      <th>5</th>\n",
       "      <td>5</td>\n",
       "      <td>18P31A0555</td>\n",
       "      <td>P</td>\n",
       "    </tr>\n",
       "    <tr>\n",
       "      <th>6</th>\n",
       "      <td>6</td>\n",
       "      <td>18B01A0211</td>\n",
       "      <td>P</td>\n",
       "    </tr>\n",
       "    <tr>\n",
       "      <th>7</th>\n",
       "      <td>7</td>\n",
       "      <td>Y18IT048</td>\n",
       "      <td>P</td>\n",
       "    </tr>\n",
       "    <tr>\n",
       "      <th>8</th>\n",
       "      <td>8</td>\n",
       "      <td>17B81A05B2</td>\n",
       "      <td>P</td>\n",
       "    </tr>\n",
       "    <tr>\n",
       "      <th>9</th>\n",
       "      <td>9</td>\n",
       "      <td>169X1A04E0</td>\n",
       "      <td>P</td>\n",
       "    </tr>\n",
       "    <tr>\n",
       "      <th>10</th>\n",
       "      <td>10</td>\n",
       "      <td>14F41A0447</td>\n",
       "      <td>P</td>\n",
       "    </tr>\n",
       "    <tr>\n",
       "      <th>11</th>\n",
       "      <td>11</td>\n",
       "      <td>17W51D5505</td>\n",
       "      <td>P</td>\n",
       "    </tr>\n",
       "    <tr>\n",
       "      <th>12</th>\n",
       "      <td>12</td>\n",
       "      <td>18021D0501</td>\n",
       "      <td>P</td>\n",
       "    </tr>\n",
       "    <tr>\n",
       "      <th>13</th>\n",
       "      <td>13</td>\n",
       "      <td>Y18CS034</td>\n",
       "      <td>P</td>\n",
       "    </tr>\n",
       "    <tr>\n",
       "      <th>14</th>\n",
       "      <td>14</td>\n",
       "      <td>Y18IT040</td>\n",
       "      <td>P</td>\n",
       "    </tr>\n",
       "    <tr>\n",
       "      <th>15</th>\n",
       "      <td>15</td>\n",
       "      <td>154M1A0554</td>\n",
       "      <td>P</td>\n",
       "    </tr>\n",
       "    <tr>\n",
       "      <th>16</th>\n",
       "      <td>16</td>\n",
       "      <td>19025A0433</td>\n",
       "      <td>P</td>\n",
       "    </tr>\n",
       "    <tr>\n",
       "      <th>17</th>\n",
       "      <td>17</td>\n",
       "      <td>180030816</td>\n",
       "      <td>P</td>\n",
       "    </tr>\n",
       "    <tr>\n",
       "      <th>18</th>\n",
       "      <td>18</td>\n",
       "      <td>18A31A1248</td>\n",
       "      <td>P</td>\n",
       "    </tr>\n",
       "    <tr>\n",
       "      <th>19</th>\n",
       "      <td>19</td>\n",
       "      <td>Y18IT020</td>\n",
       "      <td>P</td>\n",
       "    </tr>\n",
       "    <tr>\n",
       "      <th>20</th>\n",
       "      <td>20</td>\n",
       "      <td>18AT1A0527</td>\n",
       "      <td>P</td>\n",
       "    </tr>\n",
       "    <tr>\n",
       "      <th>21</th>\n",
       "      <td>21</td>\n",
       "      <td>18121A02D0</td>\n",
       "      <td>P</td>\n",
       "    </tr>\n",
       "    <tr>\n",
       "      <th>22</th>\n",
       "      <td>22</td>\n",
       "      <td>Y18IT055</td>\n",
       "      <td>P</td>\n",
       "    </tr>\n",
       "    <tr>\n",
       "      <th>23</th>\n",
       "      <td>23</td>\n",
       "      <td>17NE1A0578</td>\n",
       "      <td>P</td>\n",
       "    </tr>\n",
       "    <tr>\n",
       "      <th>24</th>\n",
       "      <td>24</td>\n",
       "      <td>Y17CS108</td>\n",
       "      <td>P</td>\n",
       "    </tr>\n",
       "    <tr>\n",
       "      <th>25</th>\n",
       "      <td>25</td>\n",
       "      <td>Y18IT063</td>\n",
       "      <td>P</td>\n",
       "    </tr>\n",
       "    <tr>\n",
       "      <th>26</th>\n",
       "      <td>26</td>\n",
       "      <td>Y18IT043</td>\n",
       "      <td>P</td>\n",
       "    </tr>\n",
       "    <tr>\n",
       "      <th>27</th>\n",
       "      <td>27</td>\n",
       "      <td>178B1A0561</td>\n",
       "      <td>P</td>\n",
       "    </tr>\n",
       "    <tr>\n",
       "      <th>28</th>\n",
       "      <td>28</td>\n",
       "      <td>19A95F0019</td>\n",
       "      <td>P</td>\n",
       "    </tr>\n",
       "    <tr>\n",
       "      <th>29</th>\n",
       "      <td>29</td>\n",
       "      <td>180050012</td>\n",
       "      <td>P</td>\n",
       "    </tr>\n",
       "    <tr>\n",
       "      <th>30</th>\n",
       "      <td>30</td>\n",
       "      <td>166N1A0546</td>\n",
       "      <td>P</td>\n",
       "    </tr>\n",
       "    <tr>\n",
       "      <th>31</th>\n",
       "      <td>31</td>\n",
       "      <td>170040246</td>\n",
       "      <td>P</td>\n",
       "    </tr>\n",
       "    <tr>\n",
       "      <th>32</th>\n",
       "      <td>32</td>\n",
       "      <td>188W1A0460</td>\n",
       "      <td>P</td>\n",
       "    </tr>\n",
       "    <tr>\n",
       "      <th>33</th>\n",
       "      <td>33</td>\n",
       "      <td>14B21A04E1</td>\n",
       "      <td>P</td>\n",
       "    </tr>\n",
       "    <tr>\n",
       "      <th>34</th>\n",
       "      <td>34</td>\n",
       "      <td>18AT1A0559</td>\n",
       "      <td>P</td>\n",
       "    </tr>\n",
       "    <tr>\n",
       "      <th>35</th>\n",
       "      <td>35</td>\n",
       "      <td>N160868</td>\n",
       "      <td>P</td>\n",
       "    </tr>\n",
       "    <tr>\n",
       "      <th>36</th>\n",
       "      <td>36</td>\n",
       "      <td>153B1A0538</td>\n",
       "      <td>P</td>\n",
       "    </tr>\n",
       "    <tr>\n",
       "      <th>37</th>\n",
       "      <td>37</td>\n",
       "      <td>17751A0408</td>\n",
       "      <td>P</td>\n",
       "    </tr>\n",
       "    <tr>\n",
       "      <th>38</th>\n",
       "      <td>38</td>\n",
       "      <td>18G31A0439</td>\n",
       "      <td>P</td>\n",
       "    </tr>\n",
       "    <tr>\n",
       "      <th>39</th>\n",
       "      <td>39</td>\n",
       "      <td>180030523</td>\n",
       "      <td>P</td>\n",
       "    </tr>\n",
       "    <tr>\n",
       "      <th>40</th>\n",
       "      <td>40</td>\n",
       "      <td>Y18IT029</td>\n",
       "      <td>P</td>\n",
       "    </tr>\n",
       "    <tr>\n",
       "      <th>41</th>\n",
       "      <td>41</td>\n",
       "      <td>18A81A05M5</td>\n",
       "      <td>P</td>\n",
       "    </tr>\n",
       "    <tr>\n",
       "      <th>42</th>\n",
       "      <td>42</td>\n",
       "      <td>18A51A1206</td>\n",
       "      <td>P</td>\n",
       "    </tr>\n",
       "    <tr>\n",
       "      <th>43</th>\n",
       "      <td>43</td>\n",
       "      <td>18B91A0209</td>\n",
       "      <td>P</td>\n",
       "    </tr>\n",
       "    <tr>\n",
       "      <th>44</th>\n",
       "      <td>44</td>\n",
       "      <td>1210416462</td>\n",
       "      <td>P</td>\n",
       "    </tr>\n",
       "    <tr>\n",
       "      <th>45</th>\n",
       "      <td>45</td>\n",
       "      <td>R151263</td>\n",
       "      <td>P</td>\n",
       "    </tr>\n",
       "    <tr>\n",
       "      <th>46</th>\n",
       "      <td>46</td>\n",
       "      <td>Y18CS80</td>\n",
       "      <td>P</td>\n",
       "    </tr>\n",
       "    <tr>\n",
       "      <th>47</th>\n",
       "      <td>47</td>\n",
       "      <td>17F21A0348</td>\n",
       "      <td>P</td>\n",
       "    </tr>\n",
       "    <tr>\n",
       "      <th>48</th>\n",
       "      <td>48</td>\n",
       "      <td>10G11A0209</td>\n",
       "      <td>P</td>\n",
       "    </tr>\n",
       "    <tr>\n",
       "      <th>49</th>\n",
       "      <td>49</td>\n",
       "      <td>19B95A0512</td>\n",
       "      <td>P</td>\n",
       "    </tr>\n",
       "    <tr>\n",
       "      <th>50</th>\n",
       "      <td>50</td>\n",
       "      <td>Y18IT025</td>\n",
       "      <td>P</td>\n",
       "    </tr>\n",
       "    <tr>\n",
       "      <th>51</th>\n",
       "      <td>51</td>\n",
       "      <td>Y18IT092</td>\n",
       "      <td>P</td>\n",
       "    </tr>\n",
       "    <tr>\n",
       "      <th>52</th>\n",
       "      <td>52</td>\n",
       "      <td>Y18CS166</td>\n",
       "      <td>P</td>\n",
       "    </tr>\n",
       "    <tr>\n",
       "      <th>53</th>\n",
       "      <td>53</td>\n",
       "      <td>R141465</td>\n",
       "      <td>P</td>\n",
       "    </tr>\n",
       "    <tr>\n",
       "      <th>54</th>\n",
       "      <td>54</td>\n",
       "      <td>17JN1A0495</td>\n",
       "      <td>P</td>\n",
       "    </tr>\n",
       "    <tr>\n",
       "      <th>55</th>\n",
       "      <td>55</td>\n",
       "      <td>170031480</td>\n",
       "      <td>P</td>\n",
       "    </tr>\n",
       "    <tr>\n",
       "      <th>56</th>\n",
       "      <td>56</td>\n",
       "      <td>2020239167</td>\n",
       "      <td>P</td>\n",
       "    </tr>\n",
       "  </tbody>\n",
       "</table>\n",
       "</div>"
      ],
      "text/plain": [
       "    Unnamed: 0 Roll Number 2020-07-25\n",
       "0            0  17B81A04H1          P\n",
       "1            1  198A5F0019          P\n",
       "2            2  17KD1A0560          P\n",
       "3            3  17KH1A0455          P\n",
       "4            4  1210316262          P\n",
       "5            5  18P31A0555          P\n",
       "6            6  18B01A0211          P\n",
       "7            7    Y18IT048          P\n",
       "8            8  17B81A05B2          P\n",
       "9            9  169X1A04E0          P\n",
       "10          10  14F41A0447          P\n",
       "11          11  17W51D5505          P\n",
       "12          12  18021D0501          P\n",
       "13          13    Y18CS034          P\n",
       "14          14    Y18IT040          P\n",
       "15          15  154M1A0554          P\n",
       "16          16  19025A0433          P\n",
       "17          17   180030816          P\n",
       "18          18  18A31A1248          P\n",
       "19          19    Y18IT020          P\n",
       "20          20  18AT1A0527          P\n",
       "21          21  18121A02D0          P\n",
       "22          22    Y18IT055          P\n",
       "23          23  17NE1A0578          P\n",
       "24          24    Y17CS108          P\n",
       "25          25    Y18IT063          P\n",
       "26          26    Y18IT043          P\n",
       "27          27  178B1A0561          P\n",
       "28          28  19A95F0019          P\n",
       "29          29   180050012          P\n",
       "30          30  166N1A0546          P\n",
       "31          31   170040246          P\n",
       "32          32  188W1A0460          P\n",
       "33          33  14B21A04E1          P\n",
       "34          34  18AT1A0559          P\n",
       "35          35     N160868          P\n",
       "36          36  153B1A0538          P\n",
       "37          37  17751A0408          P\n",
       "38          38  18G31A0439          P\n",
       "39          39   180030523          P\n",
       "40          40    Y18IT029          P\n",
       "41          41  18A81A05M5          P\n",
       "42          42  18A51A1206          P\n",
       "43          43  18B91A0209          P\n",
       "44          44  1210416462          P\n",
       "45          45     R151263          P\n",
       "46          46     Y18CS80          P\n",
       "47          47  17F21A0348          P\n",
       "48          48  10G11A0209          P\n",
       "49          49  19B95A0512          P\n",
       "50          50    Y18IT025          P\n",
       "51          51    Y18IT092          P\n",
       "52          52    Y18CS166          P\n",
       "53          53     R141465          P\n",
       "54          54  17JN1A0495          P\n",
       "55          55   170031480          P\n",
       "56          56  2020239167          P"
      ]
     },
     "execution_count": 121,
     "metadata": {},
     "output_type": "execute_result"
    }
   ],
   "source": [
    "data = pd.read_excel(\"2020-07-25.xlsx\")\n",
    "data"
   ]
  },
  {
   "cell_type": "code",
   "execution_count": 123,
   "metadata": {
    "collapsed": true
   },
   "outputs": [
    {
     "data": {
      "text/html": [
       "<div>\n",
       "<style scoped>\n",
       "    .dataframe tbody tr th:only-of-type {\n",
       "        vertical-align: middle;\n",
       "    }\n",
       "\n",
       "    .dataframe tbody tr th {\n",
       "        vertical-align: top;\n",
       "    }\n",
       "\n",
       "    .dataframe thead th {\n",
       "        text-align: right;\n",
       "    }\n",
       "</style>\n",
       "<table border=\"1\" class=\"dataframe\">\n",
       "  <thead>\n",
       "    <tr style=\"text-align: right;\">\n",
       "      <th></th>\n",
       "      <th>Unnamed: 0</th>\n",
       "      <th>huml</th>\n",
       "      <th>humw</th>\n",
       "      <th>ulnal</th>\n",
       "      <th>ulnaw</th>\n",
       "      <th>feml</th>\n",
       "      <th>femw</th>\n",
       "      <th>tibl</th>\n",
       "      <th>tibw</th>\n",
       "      <th>tarl</th>\n",
       "      <th>tarw</th>\n",
       "      <th>len_type</th>\n",
       "      <th>Mean_Features</th>\n",
       "      <th>huml_and_humw</th>\n",
       "    </tr>\n",
       "  </thead>\n",
       "  <tbody>\n",
       "    <tr>\n",
       "      <th>0</th>\n",
       "      <td>count</td>\n",
       "      <td>419.000000</td>\n",
       "      <td>419.000000</td>\n",
       "      <td>417.000000</td>\n",
       "      <td>418.000000</td>\n",
       "      <td>418.000000</td>\n",
       "      <td>419.000000</td>\n",
       "      <td>418.000000</td>\n",
       "      <td>419.000000</td>\n",
       "      <td>419.000000</td>\n",
       "      <td>419.000000</td>\n",
       "      <td>420.000000</td>\n",
       "      <td>420.000000</td>\n",
       "      <td>419.000000</td>\n",
       "    </tr>\n",
       "    <tr>\n",
       "      <th>1</th>\n",
       "      <td>mean</td>\n",
       "      <td>64.650501</td>\n",
       "      <td>4.370573</td>\n",
       "      <td>69.115372</td>\n",
       "      <td>3.597249</td>\n",
       "      <td>36.872416</td>\n",
       "      <td>3.220883</td>\n",
       "      <td>64.662823</td>\n",
       "      <td>3.182339</td>\n",
       "      <td>39.229976</td>\n",
       "      <td>2.930024</td>\n",
       "      <td>1.580952</td>\n",
       "      <td>29.147160</td>\n",
       "      <td>69.021074</td>\n",
       "    </tr>\n",
       "    <tr>\n",
       "      <th>2</th>\n",
       "      <td>std</td>\n",
       "      <td>53.834549</td>\n",
       "      <td>2.854617</td>\n",
       "      <td>58.784775</td>\n",
       "      <td>2.186747</td>\n",
       "      <td>19.979082</td>\n",
       "      <td>2.023581</td>\n",
       "      <td>37.838145</td>\n",
       "      <td>2.080827</td>\n",
       "      <td>23.184313</td>\n",
       "      <td>2.185673</td>\n",
       "      <td>0.493992</td>\n",
       "      <td>18.996025</td>\n",
       "      <td>56.462551</td>\n",
       "    </tr>\n",
       "    <tr>\n",
       "      <th>3</th>\n",
       "      <td>min</td>\n",
       "      <td>9.850000</td>\n",
       "      <td>1.140000</td>\n",
       "      <td>14.090000</td>\n",
       "      <td>1.000000</td>\n",
       "      <td>11.830000</td>\n",
       "      <td>0.930000</td>\n",
       "      <td>5.500000</td>\n",
       "      <td>0.870000</td>\n",
       "      <td>7.770000</td>\n",
       "      <td>0.660000</td>\n",
       "      <td>1.000000</td>\n",
       "      <td>7.782000</td>\n",
       "      <td>12.730000</td>\n",
       "    </tr>\n",
       "    <tr>\n",
       "      <th>4</th>\n",
       "      <td>25%</td>\n",
       "      <td>25.170000</td>\n",
       "      <td>2.190000</td>\n",
       "      <td>28.050000</td>\n",
       "      <td>1.870000</td>\n",
       "      <td>21.297500</td>\n",
       "      <td>1.715000</td>\n",
       "      <td>36.417500</td>\n",
       "      <td>1.565000</td>\n",
       "      <td>23.035000</td>\n",
       "      <td>1.425000</td>\n",
       "      <td>1.000000</td>\n",
       "      <td>14.528500</td>\n",
       "      <td>27.200000</td>\n",
       "    </tr>\n",
       "    <tr>\n",
       "      <th>5</th>\n",
       "      <td>50%</td>\n",
       "      <td>44.180000</td>\n",
       "      <td>3.500000</td>\n",
       "      <td>43.710000</td>\n",
       "      <td>2.945000</td>\n",
       "      <td>31.130000</td>\n",
       "      <td>2.520000</td>\n",
       "      <td>52.120000</td>\n",
       "      <td>2.490000</td>\n",
       "      <td>31.740000</td>\n",
       "      <td>2.230000</td>\n",
       "      <td>2.000000</td>\n",
       "      <td>22.382500</td>\n",
       "      <td>48.060000</td>\n",
       "    </tr>\n",
       "    <tr>\n",
       "      <th>6</th>\n",
       "      <td>75%</td>\n",
       "      <td>90.310000</td>\n",
       "      <td>5.810000</td>\n",
       "      <td>97.520000</td>\n",
       "      <td>4.770000</td>\n",
       "      <td>47.120000</td>\n",
       "      <td>4.135000</td>\n",
       "      <td>82.870000</td>\n",
       "      <td>4.255000</td>\n",
       "      <td>50.250000</td>\n",
       "      <td>3.500000</td>\n",
       "      <td>2.000000</td>\n",
       "      <td>39.082250</td>\n",
       "      <td>96.190000</td>\n",
       "    </tr>\n",
       "    <tr>\n",
       "      <th>7</th>\n",
       "      <td>max</td>\n",
       "      <td>420.000000</td>\n",
       "      <td>17.840000</td>\n",
       "      <td>422.000000</td>\n",
       "      <td>12.000000</td>\n",
       "      <td>117.070000</td>\n",
       "      <td>11.640000</td>\n",
       "      <td>240.000000</td>\n",
       "      <td>11.030000</td>\n",
       "      <td>175.000000</td>\n",
       "      <td>14.090000</td>\n",
       "      <td>2.000000</td>\n",
       "      <td>137.740000</td>\n",
       "      <td>437.840000</td>\n",
       "    </tr>\n",
       "  </tbody>\n",
       "</table>\n",
       "</div>"
      ],
      "text/plain": [
       "  Unnamed: 0        huml        humw       ulnal       ulnaw        feml  \\\n",
       "0      count  419.000000  419.000000  417.000000  418.000000  418.000000   \n",
       "1       mean   64.650501    4.370573   69.115372    3.597249   36.872416   \n",
       "2        std   53.834549    2.854617   58.784775    2.186747   19.979082   \n",
       "3        min    9.850000    1.140000   14.090000    1.000000   11.830000   \n",
       "4        25%   25.170000    2.190000   28.050000    1.870000   21.297500   \n",
       "5        50%   44.180000    3.500000   43.710000    2.945000   31.130000   \n",
       "6        75%   90.310000    5.810000   97.520000    4.770000   47.120000   \n",
       "7        max  420.000000   17.840000  422.000000   12.000000  117.070000   \n",
       "\n",
       "         femw        tibl        tibw        tarl        tarw    len_type  \\\n",
       "0  419.000000  418.000000  419.000000  419.000000  419.000000  420.000000   \n",
       "1    3.220883   64.662823    3.182339   39.229976    2.930024    1.580952   \n",
       "2    2.023581   37.838145    2.080827   23.184313    2.185673    0.493992   \n",
       "3    0.930000    5.500000    0.870000    7.770000    0.660000    1.000000   \n",
       "4    1.715000   36.417500    1.565000   23.035000    1.425000    1.000000   \n",
       "5    2.520000   52.120000    2.490000   31.740000    2.230000    2.000000   \n",
       "6    4.135000   82.870000    4.255000   50.250000    3.500000    2.000000   \n",
       "7   11.640000  240.000000   11.030000  175.000000   14.090000    2.000000   \n",
       "\n",
       "   Mean_Features  huml_and_humw  \n",
       "0     420.000000     419.000000  \n",
       "1      29.147160      69.021074  \n",
       "2      18.996025      56.462551  \n",
       "3       7.782000      12.730000  \n",
       "4      14.528500      27.200000  \n",
       "5      22.382500      48.060000  \n",
       "6      39.082250      96.190000  \n",
       "7     137.740000     437.840000  "
      ]
     },
     "execution_count": 123,
     "metadata": {},
     "output_type": "execute_result"
    }
   ],
   "source": [
    "data = pd.read_csv(\"birds.csv\")\n",
    "data"
   ]
  },
  {
   "cell_type": "code",
   "execution_count": 124,
   "metadata": {
    "collapsed": true
   },
   "outputs": [
    {
     "data": {
      "text/html": [
       "<div>\n",
       "<style scoped>\n",
       "    .dataframe tbody tr th:only-of-type {\n",
       "        vertical-align: middle;\n",
       "    }\n",
       "\n",
       "    .dataframe tbody tr th {\n",
       "        vertical-align: top;\n",
       "    }\n",
       "\n",
       "    .dataframe thead th {\n",
       "        text-align: right;\n",
       "    }\n",
       "</style>\n",
       "<table border=\"1\" class=\"dataframe\">\n",
       "  <thead>\n",
       "    <tr style=\"text-align: right;\">\n",
       "      <th></th>\n",
       "      <th>S.No</th>\n",
       "      <th>College Name</th>\n",
       "      <th>Program Name</th>\n",
       "      <th>Student Name</th>\n",
       "      <th>Registrationid</th>\n",
       "      <th>Phone</th>\n",
       "      <th>Email</th>\n",
       "      <th>Payment Status</th>\n",
       "      <th>Registered Date</th>\n",
       "    </tr>\n",
       "  </thead>\n",
       "  <tbody>\n",
       "    <tr>\n",
       "      <th>0</th>\n",
       "      <td>1</td>\n",
       "      <td>Aditya Engineering College</td>\n",
       "      <td>Machine Learning Using Python Online 2021-22</td>\n",
       "      <td>Mandapaka Anusha</td>\n",
       "      <td>18A91A0534</td>\n",
       "      <td>6.300452e+09</td>\n",
       "      <td>anushamandapaka77@gmail.com</td>\n",
       "      <td>success</td>\n",
       "      <td>6/19/2021</td>\n",
       "    </tr>\n",
       "    <tr>\n",
       "      <th>1</th>\n",
       "      <td>2</td>\n",
       "      <td>Aditya Engineering College</td>\n",
       "      <td>Machine Learning Using Python Online 2021-22</td>\n",
       "      <td>Meneti Mounika</td>\n",
       "      <td>18A91A05F0</td>\n",
       "      <td>9.704807e+09</td>\n",
       "      <td>mounikameneti9912@gmail.com</td>\n",
       "      <td>success</td>\n",
       "      <td>6/19/2021</td>\n",
       "    </tr>\n",
       "    <tr>\n",
       "      <th>2</th>\n",
       "      <td>3</td>\n",
       "      <td>Aditya Engineering College</td>\n",
       "      <td>Machine Learning Using Python Online 2021-22</td>\n",
       "      <td>Sheik Abdul Hakim</td>\n",
       "      <td>19A95A0504</td>\n",
       "      <td>9.676215e+09</td>\n",
       "      <td>hakeemabd007@gmail.com</td>\n",
       "      <td>success</td>\n",
       "      <td>6/19/2021</td>\n",
       "    </tr>\n",
       "    <tr>\n",
       "      <th>3</th>\n",
       "      <td>4</td>\n",
       "      <td>Aditya Engineering College</td>\n",
       "      <td>Machine Learning Using Python Online 2021-22</td>\n",
       "      <td>Sambattula Navya Prasanna</td>\n",
       "      <td>18A91A0552</td>\n",
       "      <td>8.328650e+09</td>\n",
       "      <td>navyasambattula@gmail.com</td>\n",
       "      <td>success</td>\n",
       "      <td>6/19/2021</td>\n",
       "    </tr>\n",
       "    <tr>\n",
       "      <th>4</th>\n",
       "      <td>5</td>\n",
       "      <td>Aditya Engineering College</td>\n",
       "      <td>Machine Learning Using Python Online 2021-22</td>\n",
       "      <td>Vijaya Durga Velagala</td>\n",
       "      <td>18A91A05H8</td>\n",
       "      <td>9.502362e+09</td>\n",
       "      <td>vijayadurga.velagala123@gmail.com</td>\n",
       "      <td>success</td>\n",
       "      <td>6/19/2021</td>\n",
       "    </tr>\n",
       "    <tr>\n",
       "      <th>5</th>\n",
       "      <td>6</td>\n",
       "      <td>Aditya Engineering College</td>\n",
       "      <td>Machine Learning Using Python Online 2021-22</td>\n",
       "      <td>Budha Bala Atyutha Sri Sai</td>\n",
       "      <td>18A91A0510</td>\n",
       "      <td>8.500388e+09</td>\n",
       "      <td>balasai599@gmail.com</td>\n",
       "      <td>success</td>\n",
       "      <td>6/19/2021</td>\n",
       "    </tr>\n",
       "    <tr>\n",
       "      <th>6</th>\n",
       "      <td>7</td>\n",
       "      <td>Aditya Engineering College</td>\n",
       "      <td>Machine Learning Using Python Online 2021-22</td>\n",
       "      <td>Karri Sirish Kumar</td>\n",
       "      <td>18A91A0529</td>\n",
       "      <td>9.491691e+09</td>\n",
       "      <td>karrisirish2000@gmail.com</td>\n",
       "      <td>success</td>\n",
       "      <td>6/19/2021</td>\n",
       "    </tr>\n",
       "    <tr>\n",
       "      <th>7</th>\n",
       "      <td>8</td>\n",
       "      <td>Aditya Engineering College</td>\n",
       "      <td>Machine Learning Using Python Online 2021-22</td>\n",
       "      <td>Ramavarapu Mary Ratnam</td>\n",
       "      <td>18A91A0547</td>\n",
       "      <td>7.981134e+09</td>\n",
       "      <td>rpchinnu123@gmail.com</td>\n",
       "      <td>success</td>\n",
       "      <td>6/19/2021</td>\n",
       "    </tr>\n",
       "    <tr>\n",
       "      <th>8</th>\n",
       "      <td>9</td>\n",
       "      <td>Aditya Engineering College</td>\n",
       "      <td>Machine Learning Using Python Online 2021-22</td>\n",
       "      <td>M.L.S.Namratha</td>\n",
       "      <td>18A91A05E7</td>\n",
       "      <td>7.013641e+09</td>\n",
       "      <td>namrathamalladi@gmail.com</td>\n",
       "      <td>success</td>\n",
       "      <td>6/21/2021</td>\n",
       "    </tr>\n",
       "    <tr>\n",
       "      <th>9</th>\n",
       "      <td>10</td>\n",
       "      <td>BVC Institute of Technology and Science</td>\n",
       "      <td>Machine Learning Using Python Online 2021-22</td>\n",
       "      <td>Naga Swathi Menda</td>\n",
       "      <td>18H41F0006</td>\n",
       "      <td>9.533339e+09</td>\n",
       "      <td>nagaswathimenda97@gmail.com</td>\n",
       "      <td>success</td>\n",
       "      <td>6/25/2021</td>\n",
       "    </tr>\n",
       "    <tr>\n",
       "      <th>10</th>\n",
       "      <td>11</td>\n",
       "      <td>BVC Institute of Technology and Science</td>\n",
       "      <td>Machine Learning Using Python Online 2021-22</td>\n",
       "      <td>Bonthu Naga Durga Sravani</td>\n",
       "      <td>18H41F0001</td>\n",
       "      <td>9.121442e+09</td>\n",
       "      <td>sravanibonthu31@gmail.com</td>\n",
       "      <td>success</td>\n",
       "      <td>6/26/2021</td>\n",
       "    </tr>\n",
       "    <tr>\n",
       "      <th>11</th>\n",
       "      <td>12</td>\n",
       "      <td>BVC Institute of Technology and Science</td>\n",
       "      <td>Machine Learning Using Python Online 2021-22</td>\n",
       "      <td>Namana Vijaya Lakshmi Naga Durga Devi</td>\n",
       "      <td>18H41F0008</td>\n",
       "      <td>9.550399e+09</td>\n",
       "      <td>Vijayalakshminamana12@gmail.com</td>\n",
       "      <td>success</td>\n",
       "      <td>6/26/2021</td>\n",
       "    </tr>\n",
       "    <tr>\n",
       "      <th>12</th>\n",
       "      <td>13</td>\n",
       "      <td>BVC Institute of Technology and Science</td>\n",
       "      <td>Machine Learning Using Python Online 2021-22</td>\n",
       "      <td>Peddireddi Yamini Srilakshmi</td>\n",
       "      <td>18H41F0010</td>\n",
       "      <td>9.153341e+09</td>\n",
       "      <td>yaminisrilakshmipeddireddy@gmail.com</td>\n",
       "      <td>success</td>\n",
       "      <td>6/26/2021</td>\n",
       "    </tr>\n",
       "    <tr>\n",
       "      <th>13</th>\n",
       "      <td>14</td>\n",
       "      <td>Eluru College of Engineering and Technology</td>\n",
       "      <td>Machine Learning Using Python Online 2021-22</td>\n",
       "      <td>Sravani Pulavarthi</td>\n",
       "      <td>17JD1A0493</td>\n",
       "      <td>9.346540e+09</td>\n",
       "      <td>pulavarthisravani0209@gmail.com</td>\n",
       "      <td>success</td>\n",
       "      <td>6/25/2021</td>\n",
       "    </tr>\n",
       "    <tr>\n",
       "      <th>14</th>\n",
       "      <td>15</td>\n",
       "      <td>G Pulla Reddy Engineering College (Autonomous)</td>\n",
       "      <td>Machine Learning Using Python Online 2021-22</td>\n",
       "      <td>Kamini Sowjanya</td>\n",
       "      <td>189X5A02C9</td>\n",
       "      <td>8.247044e+09</td>\n",
       "      <td>sowjanyakamini98@gmail.com</td>\n",
       "      <td>success</td>\n",
       "      <td>6/12/2021</td>\n",
       "    </tr>\n",
       "    <tr>\n",
       "      <th>15</th>\n",
       "      <td>16</td>\n",
       "      <td>Gayatri Vidya Parishad College of Engineering</td>\n",
       "      <td>Machine Learning Using Python Online 2021-22</td>\n",
       "      <td>Kallepalli Krishna Praneeth Sastry</td>\n",
       "      <td>18131A0374</td>\n",
       "      <td>8.500176e+09</td>\n",
       "      <td>sastrykallepalli@gmail.com</td>\n",
       "      <td>success</td>\n",
       "      <td>6/19/2021</td>\n",
       "    </tr>\n",
       "    <tr>\n",
       "      <th>16</th>\n",
       "      <td>17</td>\n",
       "      <td>Gayatri Vidya Parishad College of Engineering</td>\n",
       "      <td>Machine Learning Using Python Online 2021-22</td>\n",
       "      <td>Bh Tarun Surya Varma</td>\n",
       "      <td>18131A04M3</td>\n",
       "      <td>7.732080e+09</td>\n",
       "      <td>tarun779911@gmail.com</td>\n",
       "      <td>success</td>\n",
       "      <td>6/23/2021</td>\n",
       "    </tr>\n",
       "    <tr>\n",
       "      <th>17</th>\n",
       "      <td>18</td>\n",
       "      <td>Gayatri Vidya Parishad College of Engineering</td>\n",
       "      <td>Machine Learning Using Python Online 2021-22</td>\n",
       "      <td>Jahnavi Kalla</td>\n",
       "      <td>18131A0490</td>\n",
       "      <td>8.019774e+09</td>\n",
       "      <td>jahnavikalla@gmail.com</td>\n",
       "      <td>success</td>\n",
       "      <td>6/24/2021</td>\n",
       "    </tr>\n",
       "    <tr>\n",
       "      <th>18</th>\n",
       "      <td>19</td>\n",
       "      <td>Gayatri Vidya Parishad College of Engineering</td>\n",
       "      <td>Machine Learning Using Python Online 2021-22</td>\n",
       "      <td>Pravallika Kota</td>\n",
       "      <td>18131A04A9</td>\n",
       "      <td>9.160434e+09</td>\n",
       "      <td>pravallikakota2510@gmail.com</td>\n",
       "      <td>success</td>\n",
       "      <td>6/24/2021</td>\n",
       "    </tr>\n",
       "    <tr>\n",
       "      <th>19</th>\n",
       "      <td>20</td>\n",
       "      <td>ISTS Women's Engineering College</td>\n",
       "      <td>Machine Learning Using Python Online 2021-22</td>\n",
       "      <td>Pedapudi Pravallika</td>\n",
       "      <td>176W1A0458</td>\n",
       "      <td>9.290074e+09</td>\n",
       "      <td>vallipedapudi458@gmail.com</td>\n",
       "      <td>success</td>\n",
       "      <td>6/22/2021</td>\n",
       "    </tr>\n",
       "    <tr>\n",
       "      <th>20</th>\n",
       "      <td>21</td>\n",
       "      <td>K L University</td>\n",
       "      <td>Machine Learning Using Python Online 2021-22</td>\n",
       "      <td>Grandhi Vamsi</td>\n",
       "      <td>170040262</td>\n",
       "      <td>9.182375e+09</td>\n",
       "      <td>9951672988a@gmail.com</td>\n",
       "      <td>success</td>\n",
       "      <td>6/11/2021</td>\n",
       "    </tr>\n",
       "    <tr>\n",
       "      <th>21</th>\n",
       "      <td>22</td>\n",
       "      <td>NBKR Institute of Sceince &amp; Technology</td>\n",
       "      <td>Machine Learning Using Python Online 2021-22</td>\n",
       "      <td>N.Sri Giri</td>\n",
       "      <td>18KB1A0373</td>\n",
       "      <td>8.008734e+09</td>\n",
       "      <td>srigirineelam@gmail.com</td>\n",
       "      <td>success</td>\n",
       "      <td>6/24/2021</td>\n",
       "    </tr>\n",
       "    <tr>\n",
       "      <th>22</th>\n",
       "      <td>23</td>\n",
       "      <td>Sagi Ramakrishnam Raju Engineering College</td>\n",
       "      <td>Machine Learning Using Python Online 2021-22</td>\n",
       "      <td>Viwanth Manikanta Kankatala</td>\n",
       "      <td>18B91A0594</td>\n",
       "      <td>9.381230e+09</td>\n",
       "      <td>viswanthkankatala111@gmail.com</td>\n",
       "      <td>success</td>\n",
       "      <td>6/19/2021</td>\n",
       "    </tr>\n",
       "    <tr>\n",
       "      <th>23</th>\n",
       "      <td>24</td>\n",
       "      <td>Sree Vahini Institute of Science and Technology</td>\n",
       "      <td>Machine Learning Using Python Online 2021-22</td>\n",
       "      <td>Peddedula Saikumar</td>\n",
       "      <td>18MG1A0592</td>\n",
       "      <td>7.995139e+09</td>\n",
       "      <td>saikumar.7138@gmail.com</td>\n",
       "      <td>success</td>\n",
       "      <td>6/22/2021</td>\n",
       "    </tr>\n",
       "    <tr>\n",
       "      <th>24</th>\n",
       "      <td>25</td>\n",
       "      <td>Sree Vahini Institute of Science and Technology</td>\n",
       "      <td>Machine Learning Using Python Online 2021-22</td>\n",
       "      <td>Kaviti Siva Krishna</td>\n",
       "      <td>18MG1A0584</td>\n",
       "      <td>9.603959e+09</td>\n",
       "      <td>sivakrishnakaviti920@gmail.com</td>\n",
       "      <td>success</td>\n",
       "      <td>6/22/2021</td>\n",
       "    </tr>\n",
       "    <tr>\n",
       "      <th>25</th>\n",
       "      <td>26</td>\n",
       "      <td>Srinivasa Institute of Engineering &amp; Technology</td>\n",
       "      <td>Machine Learning Using Python Online 2021-22</td>\n",
       "      <td>K Jayagowri Sruthi</td>\n",
       "      <td>176N1A0528</td>\n",
       "      <td>8.143153e+09</td>\n",
       "      <td>sruthikodi08@gmail.com</td>\n",
       "      <td>success</td>\n",
       "      <td>6/25/2021</td>\n",
       "    </tr>\n",
       "    <tr>\n",
       "      <th>26</th>\n",
       "      <td>27</td>\n",
       "      <td>SRM University</td>\n",
       "      <td>Machine Learning Using Python Online 2021-22</td>\n",
       "      <td>Geetika Karumudi</td>\n",
       "      <td>AP19110010123</td>\n",
       "      <td>7.995043e+09</td>\n",
       "      <td>geetikakarumudi@gmail.com</td>\n",
       "      <td>success</td>\n",
       "      <td>6/7/2021</td>\n",
       "    </tr>\n",
       "    <tr>\n",
       "      <th>27</th>\n",
       "      <td>28</td>\n",
       "      <td>Vignan s Institute of Engineering for Women</td>\n",
       "      <td>Machine Learning Using Python Online 2021-22</td>\n",
       "      <td>Divya Naramsetty</td>\n",
       "      <td>18NM1A0311</td>\n",
       "      <td>9.346382e+09</td>\n",
       "      <td>divyanaramsetty@gmail.com</td>\n",
       "      <td>success</td>\n",
       "      <td>6/21/2021</td>\n",
       "    </tr>\n",
       "    <tr>\n",
       "      <th>28</th>\n",
       "      <td>29</td>\n",
       "      <td>Vignan s LARA Institute of Technology and Science</td>\n",
       "      <td>Machine Learning Using Python Online 2021-22</td>\n",
       "      <td>Syed.Sameer</td>\n",
       "      <td>18FE1A05E1</td>\n",
       "      <td>9.640334e+09</td>\n",
       "      <td>syedsamee645@gmail.com</td>\n",
       "      <td>success</td>\n",
       "      <td>6/20/2021</td>\n",
       "    </tr>\n",
       "    <tr>\n",
       "      <th>29</th>\n",
       "      <td>30</td>\n",
       "      <td>MVGR College of Engineering</td>\n",
       "      <td>Machine Learning Using Python Online 2021-22</td>\n",
       "      <td>Vasireddy Teja</td>\n",
       "      <td>19335A0415</td>\n",
       "      <td>7.095737e+09</td>\n",
       "      <td>teja16052001@gmail.com</td>\n",
       "      <td>success</td>\n",
       "      <td>6/27/2021</td>\n",
       "    </tr>\n",
       "    <tr>\n",
       "      <th>30</th>\n",
       "      <td>31</td>\n",
       "      <td>MVGR College of Engineering</td>\n",
       "      <td>Machine Learning Using Python Online 2021-22</td>\n",
       "      <td>Thida Priyanka</td>\n",
       "      <td>18331A04F5</td>\n",
       "      <td>NaN</td>\n",
       "      <td>teedapriyanka@gmail.com</td>\n",
       "      <td>NaN</td>\n",
       "      <td>NaN</td>\n",
       "    </tr>\n",
       "    <tr>\n",
       "      <th>31</th>\n",
       "      <td>32</td>\n",
       "      <td>Gayatri Vidya Parishad College of Engineering</td>\n",
       "      <td>Machine Learning Using Python Online 2021-22</td>\n",
       "      <td>Metta Likhitha</td>\n",
       "      <td>19131A04F2</td>\n",
       "      <td>7.569078e+09</td>\n",
       "      <td>likhithametta888@gmail.com</td>\n",
       "      <td>NaN</td>\n",
       "      <td>NaN</td>\n",
       "    </tr>\n",
       "    <tr>\n",
       "      <th>32</th>\n",
       "      <td>33</td>\n",
       "      <td>Gayatri Vidya Parishad College of Engineering</td>\n",
       "      <td>Machine Learning Using Python Online 2021-22</td>\n",
       "      <td>Pallapothula Venkata Sreechandana</td>\n",
       "      <td>19131A04H4</td>\n",
       "      <td>8.688858e+09</td>\n",
       "      <td>19131a04h4@gvpce.ac.in</td>\n",
       "      <td>NaN</td>\n",
       "      <td>NaN</td>\n",
       "    </tr>\n",
       "    <tr>\n",
       "      <th>33</th>\n",
       "      <td>34</td>\n",
       "      <td>Gayatri Vidya Parishad College of Engineering</td>\n",
       "      <td>Machine Learning Using Python Online 2021-22</td>\n",
       "      <td>Marada Gowrav Srikalyan</td>\n",
       "      <td>19131A04E4</td>\n",
       "      <td>7.396917e+09</td>\n",
       "      <td>gowravsrikalyan1220@gmail.com</td>\n",
       "      <td>NaN</td>\n",
       "      <td>NaN</td>\n",
       "    </tr>\n",
       "  </tbody>\n",
       "</table>\n",
       "</div>"
      ],
      "text/plain": [
       "    S.No                                       College Name  \\\n",
       "0      1                         Aditya Engineering College   \n",
       "1      2                         Aditya Engineering College   \n",
       "2      3                         Aditya Engineering College   \n",
       "3      4                         Aditya Engineering College   \n",
       "4      5                         Aditya Engineering College   \n",
       "5      6                         Aditya Engineering College   \n",
       "6      7                         Aditya Engineering College   \n",
       "7      8                         Aditya Engineering College   \n",
       "8      9                         Aditya Engineering College   \n",
       "9     10            BVC Institute of Technology and Science   \n",
       "10    11            BVC Institute of Technology and Science   \n",
       "11    12            BVC Institute of Technology and Science   \n",
       "12    13            BVC Institute of Technology and Science   \n",
       "13    14        Eluru College of Engineering and Technology   \n",
       "14    15     G Pulla Reddy Engineering College (Autonomous)   \n",
       "15    16      Gayatri Vidya Parishad College of Engineering   \n",
       "16    17      Gayatri Vidya Parishad College of Engineering   \n",
       "17    18      Gayatri Vidya Parishad College of Engineering   \n",
       "18    19      Gayatri Vidya Parishad College of Engineering   \n",
       "19    20                   ISTS Women's Engineering College   \n",
       "20    21                                     K L University   \n",
       "21    22             NBKR Institute of Sceince & Technology   \n",
       "22    23         Sagi Ramakrishnam Raju Engineering College   \n",
       "23    24    Sree Vahini Institute of Science and Technology   \n",
       "24    25    Sree Vahini Institute of Science and Technology   \n",
       "25    26    Srinivasa Institute of Engineering & Technology   \n",
       "26    27                                     SRM University   \n",
       "27    28        Vignan s Institute of Engineering for Women   \n",
       "28    29  Vignan s LARA Institute of Technology and Science   \n",
       "29    30                        MVGR College of Engineering   \n",
       "30    31                        MVGR College of Engineering   \n",
       "31    32      Gayatri Vidya Parishad College of Engineering   \n",
       "32    33      Gayatri Vidya Parishad College of Engineering   \n",
       "33    34      Gayatri Vidya Parishad College of Engineering   \n",
       "\n",
       "                                    Program Name  \\\n",
       "0   Machine Learning Using Python Online 2021-22   \n",
       "1   Machine Learning Using Python Online 2021-22   \n",
       "2   Machine Learning Using Python Online 2021-22   \n",
       "3   Machine Learning Using Python Online 2021-22   \n",
       "4   Machine Learning Using Python Online 2021-22   \n",
       "5   Machine Learning Using Python Online 2021-22   \n",
       "6   Machine Learning Using Python Online 2021-22   \n",
       "7   Machine Learning Using Python Online 2021-22   \n",
       "8   Machine Learning Using Python Online 2021-22   \n",
       "9   Machine Learning Using Python Online 2021-22   \n",
       "10  Machine Learning Using Python Online 2021-22   \n",
       "11  Machine Learning Using Python Online 2021-22   \n",
       "12  Machine Learning Using Python Online 2021-22   \n",
       "13  Machine Learning Using Python Online 2021-22   \n",
       "14  Machine Learning Using Python Online 2021-22   \n",
       "15  Machine Learning Using Python Online 2021-22   \n",
       "16  Machine Learning Using Python Online 2021-22   \n",
       "17  Machine Learning Using Python Online 2021-22   \n",
       "18  Machine Learning Using Python Online 2021-22   \n",
       "19  Machine Learning Using Python Online 2021-22   \n",
       "20  Machine Learning Using Python Online 2021-22   \n",
       "21  Machine Learning Using Python Online 2021-22   \n",
       "22  Machine Learning Using Python Online 2021-22   \n",
       "23  Machine Learning Using Python Online 2021-22   \n",
       "24  Machine Learning Using Python Online 2021-22   \n",
       "25  Machine Learning Using Python Online 2021-22   \n",
       "26  Machine Learning Using Python Online 2021-22   \n",
       "27  Machine Learning Using Python Online 2021-22   \n",
       "28  Machine Learning Using Python Online 2021-22   \n",
       "29  Machine Learning Using Python Online 2021-22   \n",
       "30  Machine Learning Using Python Online 2021-22   \n",
       "31  Machine Learning Using Python Online 2021-22   \n",
       "32  Machine Learning Using Python Online 2021-22   \n",
       "33  Machine Learning Using Python Online 2021-22   \n",
       "\n",
       "                             Student Name Registrationid         Phone  \\\n",
       "0                        Mandapaka Anusha     18A91A0534  6.300452e+09   \n",
       "1                          Meneti Mounika     18A91A05F0  9.704807e+09   \n",
       "2                       Sheik Abdul Hakim     19A95A0504  9.676215e+09   \n",
       "3               Sambattula Navya Prasanna     18A91A0552  8.328650e+09   \n",
       "4                   Vijaya Durga Velagala     18A91A05H8  9.502362e+09   \n",
       "5              Budha Bala Atyutha Sri Sai     18A91A0510  8.500388e+09   \n",
       "6                      Karri Sirish Kumar     18A91A0529  9.491691e+09   \n",
       "7                  Ramavarapu Mary Ratnam     18A91A0547  7.981134e+09   \n",
       "8                          M.L.S.Namratha     18A91A05E7  7.013641e+09   \n",
       "9                       Naga Swathi Menda     18H41F0006  9.533339e+09   \n",
       "10              Bonthu Naga Durga Sravani     18H41F0001  9.121442e+09   \n",
       "11  Namana Vijaya Lakshmi Naga Durga Devi     18H41F0008  9.550399e+09   \n",
       "12           Peddireddi Yamini Srilakshmi     18H41F0010  9.153341e+09   \n",
       "13                     Sravani Pulavarthi     17JD1A0493  9.346540e+09   \n",
       "14                        Kamini Sowjanya     189X5A02C9  8.247044e+09   \n",
       "15     Kallepalli Krishna Praneeth Sastry     18131A0374  8.500176e+09   \n",
       "16                   Bh Tarun Surya Varma     18131A04M3  7.732080e+09   \n",
       "17                          Jahnavi Kalla     18131A0490  8.019774e+09   \n",
       "18                        Pravallika Kota     18131A04A9  9.160434e+09   \n",
       "19                    Pedapudi Pravallika     176W1A0458  9.290074e+09   \n",
       "20                          Grandhi Vamsi      170040262  9.182375e+09   \n",
       "21                             N.Sri Giri     18KB1A0373  8.008734e+09   \n",
       "22            Viwanth Manikanta Kankatala     18B91A0594  9.381230e+09   \n",
       "23                     Peddedula Saikumar     18MG1A0592  7.995139e+09   \n",
       "24                    Kaviti Siva Krishna     18MG1A0584  9.603959e+09   \n",
       "25                     K Jayagowri Sruthi     176N1A0528  8.143153e+09   \n",
       "26                       Geetika Karumudi  AP19110010123  7.995043e+09   \n",
       "27                       Divya Naramsetty     18NM1A0311  9.346382e+09   \n",
       "28                            Syed.Sameer     18FE1A05E1  9.640334e+09   \n",
       "29                         Vasireddy Teja     19335A0415  7.095737e+09   \n",
       "30                         Thida Priyanka     18331A04F5           NaN   \n",
       "31                         Metta Likhitha     19131A04F2  7.569078e+09   \n",
       "32      Pallapothula Venkata Sreechandana     19131A04H4  8.688858e+09   \n",
       "33                Marada Gowrav Srikalyan     19131A04E4  7.396917e+09   \n",
       "\n",
       "                                   Email Payment Status Registered Date  \n",
       "0            anushamandapaka77@gmail.com        success       6/19/2021  \n",
       "1            mounikameneti9912@gmail.com        success       6/19/2021  \n",
       "2                 hakeemabd007@gmail.com        success       6/19/2021  \n",
       "3              navyasambattula@gmail.com        success       6/19/2021  \n",
       "4      vijayadurga.velagala123@gmail.com        success       6/19/2021  \n",
       "5                   balasai599@gmail.com        success       6/19/2021  \n",
       "6              karrisirish2000@gmail.com        success       6/19/2021  \n",
       "7                  rpchinnu123@gmail.com        success       6/19/2021  \n",
       "8              namrathamalladi@gmail.com        success       6/21/2021  \n",
       "9            nagaswathimenda97@gmail.com        success       6/25/2021  \n",
       "10             sravanibonthu31@gmail.com        success       6/26/2021  \n",
       "11       Vijayalakshminamana12@gmail.com        success       6/26/2021  \n",
       "12  yaminisrilakshmipeddireddy@gmail.com        success       6/26/2021  \n",
       "13       pulavarthisravani0209@gmail.com        success       6/25/2021  \n",
       "14            sowjanyakamini98@gmail.com        success       6/12/2021  \n",
       "15            sastrykallepalli@gmail.com        success       6/19/2021  \n",
       "16                 tarun779911@gmail.com        success       6/23/2021  \n",
       "17                jahnavikalla@gmail.com        success       6/24/2021  \n",
       "18          pravallikakota2510@gmail.com        success       6/24/2021  \n",
       "19            vallipedapudi458@gmail.com        success       6/22/2021  \n",
       "20                 9951672988a@gmail.com        success       6/11/2021  \n",
       "21               srigirineelam@gmail.com        success       6/24/2021  \n",
       "22        viswanthkankatala111@gmail.com        success       6/19/2021  \n",
       "23               saikumar.7138@gmail.com        success       6/22/2021  \n",
       "24        sivakrishnakaviti920@gmail.com        success       6/22/2021  \n",
       "25                sruthikodi08@gmail.com        success       6/25/2021  \n",
       "26             geetikakarumudi@gmail.com        success        6/7/2021  \n",
       "27             divyanaramsetty@gmail.com        success       6/21/2021  \n",
       "28                syedsamee645@gmail.com        success       6/20/2021  \n",
       "29                teja16052001@gmail.com        success       6/27/2021  \n",
       "30               teedapriyanka@gmail.com            NaN             NaN  \n",
       "31            likhithametta888@gmail.com            NaN             NaN  \n",
       "32                19131a04h4@gvpce.ac.in            NaN             NaN  \n",
       "33         gowravsrikalyan1220@gmail.com            NaN             NaN  "
      ]
     },
     "execution_count": 124,
     "metadata": {},
     "output_type": "execute_result"
    }
   ],
   "source": [
    "data = pd.read_csv(\"https://raw.githubusercontent.com/AP-Skill-Development-Corporation/Machine-Learning-Online-Training-Public-20-07-2021-to-07-08-2021-/main/Day3_Pandas/PublicBatch.csv\")\n",
    "data"
   ]
  },
  {
   "cell_type": "code",
   "execution_count": 126,
   "metadata": {},
   "outputs": [
    {
     "data": {
      "text/html": [
       "<div>\n",
       "<style scoped>\n",
       "    .dataframe tbody tr th:only-of-type {\n",
       "        vertical-align: middle;\n",
       "    }\n",
       "\n",
       "    .dataframe tbody tr th {\n",
       "        vertical-align: top;\n",
       "    }\n",
       "\n",
       "    .dataframe thead th {\n",
       "        text-align: right;\n",
       "    }\n",
       "</style>\n",
       "<table border=\"1\" class=\"dataframe\">\n",
       "  <thead>\n",
       "    <tr style=\"text-align: right;\">\n",
       "      <th></th>\n",
       "      <th>S.No</th>\n",
       "      <th>College Name</th>\n",
       "      <th>Program Name</th>\n",
       "      <th>Student Name</th>\n",
       "      <th>Registrationid</th>\n",
       "      <th>Phone</th>\n",
       "      <th>Email</th>\n",
       "      <th>Payment Status</th>\n",
       "      <th>Registered Date</th>\n",
       "    </tr>\n",
       "  </thead>\n",
       "  <tbody>\n",
       "    <tr>\n",
       "      <th>0</th>\n",
       "      <td>1</td>\n",
       "      <td>Aditya Engineering College</td>\n",
       "      <td>Machine Learning Using Python Online 2021-22</td>\n",
       "      <td>Mandapaka Anusha</td>\n",
       "      <td>18A91A0534</td>\n",
       "      <td>6.300452e+09</td>\n",
       "      <td>anushamandapaka77@gmail.com</td>\n",
       "      <td>success</td>\n",
       "      <td>6/19/2021</td>\n",
       "    </tr>\n",
       "    <tr>\n",
       "      <th>1</th>\n",
       "      <td>2</td>\n",
       "      <td>Aditya Engineering College</td>\n",
       "      <td>Machine Learning Using Python Online 2021-22</td>\n",
       "      <td>Meneti Mounika</td>\n",
       "      <td>18A91A05F0</td>\n",
       "      <td>9.704807e+09</td>\n",
       "      <td>mounikameneti9912@gmail.com</td>\n",
       "      <td>success</td>\n",
       "      <td>6/19/2021</td>\n",
       "    </tr>\n",
       "    <tr>\n",
       "      <th>2</th>\n",
       "      <td>3</td>\n",
       "      <td>Aditya Engineering College</td>\n",
       "      <td>Machine Learning Using Python Online 2021-22</td>\n",
       "      <td>Sheik Abdul Hakim</td>\n",
       "      <td>19A95A0504</td>\n",
       "      <td>9.676215e+09</td>\n",
       "      <td>hakeemabd007@gmail.com</td>\n",
       "      <td>success</td>\n",
       "      <td>6/19/2021</td>\n",
       "    </tr>\n",
       "  </tbody>\n",
       "</table>\n",
       "</div>"
      ],
      "text/plain": [
       "   S.No                College Name  \\\n",
       "0     1  Aditya Engineering College   \n",
       "1     2  Aditya Engineering College   \n",
       "2     3  Aditya Engineering College   \n",
       "\n",
       "                                   Program Name       Student Name  \\\n",
       "0  Machine Learning Using Python Online 2021-22   Mandapaka Anusha   \n",
       "1  Machine Learning Using Python Online 2021-22     Meneti Mounika   \n",
       "2  Machine Learning Using Python Online 2021-22  Sheik Abdul Hakim   \n",
       "\n",
       "  Registrationid         Phone                        Email Payment Status  \\\n",
       "0     18A91A0534  6.300452e+09  anushamandapaka77@gmail.com        success   \n",
       "1     18A91A05F0  9.704807e+09  mounikameneti9912@gmail.com        success   \n",
       "2     19A95A0504  9.676215e+09       hakeemabd007@gmail.com        success   \n",
       "\n",
       "  Registered Date  \n",
       "0       6/19/2021  \n",
       "1       6/19/2021  \n",
       "2       6/19/2021  "
      ]
     },
     "execution_count": 126,
     "metadata": {},
     "output_type": "execute_result"
    }
   ],
   "source": [
    "data.head(3)"
   ]
  },
  {
   "cell_type": "code",
   "execution_count": 127,
   "metadata": {},
   "outputs": [
    {
     "data": {
      "text/html": [
       "<div>\n",
       "<style scoped>\n",
       "    .dataframe tbody tr th:only-of-type {\n",
       "        vertical-align: middle;\n",
       "    }\n",
       "\n",
       "    .dataframe tbody tr th {\n",
       "        vertical-align: top;\n",
       "    }\n",
       "\n",
       "    .dataframe thead th {\n",
       "        text-align: right;\n",
       "    }\n",
       "</style>\n",
       "<table border=\"1\" class=\"dataframe\">\n",
       "  <thead>\n",
       "    <tr style=\"text-align: right;\">\n",
       "      <th></th>\n",
       "      <th>S.No</th>\n",
       "      <th>College Name</th>\n",
       "      <th>Program Name</th>\n",
       "      <th>Student Name</th>\n",
       "      <th>Registrationid</th>\n",
       "      <th>Phone</th>\n",
       "      <th>Email</th>\n",
       "      <th>Payment Status</th>\n",
       "      <th>Registered Date</th>\n",
       "    </tr>\n",
       "  </thead>\n",
       "  <tbody>\n",
       "    <tr>\n",
       "      <th>29</th>\n",
       "      <td>30</td>\n",
       "      <td>MVGR College of Engineering</td>\n",
       "      <td>Machine Learning Using Python Online 2021-22</td>\n",
       "      <td>Vasireddy Teja</td>\n",
       "      <td>19335A0415</td>\n",
       "      <td>7.095737e+09</td>\n",
       "      <td>teja16052001@gmail.com</td>\n",
       "      <td>success</td>\n",
       "      <td>6/27/2021</td>\n",
       "    </tr>\n",
       "    <tr>\n",
       "      <th>30</th>\n",
       "      <td>31</td>\n",
       "      <td>MVGR College of Engineering</td>\n",
       "      <td>Machine Learning Using Python Online 2021-22</td>\n",
       "      <td>Thida Priyanka</td>\n",
       "      <td>18331A04F5</td>\n",
       "      <td>NaN</td>\n",
       "      <td>teedapriyanka@gmail.com</td>\n",
       "      <td>NaN</td>\n",
       "      <td>NaN</td>\n",
       "    </tr>\n",
       "    <tr>\n",
       "      <th>31</th>\n",
       "      <td>32</td>\n",
       "      <td>Gayatri Vidya Parishad College of Engineering</td>\n",
       "      <td>Machine Learning Using Python Online 2021-22</td>\n",
       "      <td>Metta Likhitha</td>\n",
       "      <td>19131A04F2</td>\n",
       "      <td>7.569078e+09</td>\n",
       "      <td>likhithametta888@gmail.com</td>\n",
       "      <td>NaN</td>\n",
       "      <td>NaN</td>\n",
       "    </tr>\n",
       "    <tr>\n",
       "      <th>32</th>\n",
       "      <td>33</td>\n",
       "      <td>Gayatri Vidya Parishad College of Engineering</td>\n",
       "      <td>Machine Learning Using Python Online 2021-22</td>\n",
       "      <td>Pallapothula Venkata Sreechandana</td>\n",
       "      <td>19131A04H4</td>\n",
       "      <td>8.688858e+09</td>\n",
       "      <td>19131a04h4@gvpce.ac.in</td>\n",
       "      <td>NaN</td>\n",
       "      <td>NaN</td>\n",
       "    </tr>\n",
       "    <tr>\n",
       "      <th>33</th>\n",
       "      <td>34</td>\n",
       "      <td>Gayatri Vidya Parishad College of Engineering</td>\n",
       "      <td>Machine Learning Using Python Online 2021-22</td>\n",
       "      <td>Marada Gowrav Srikalyan</td>\n",
       "      <td>19131A04E4</td>\n",
       "      <td>7.396917e+09</td>\n",
       "      <td>gowravsrikalyan1220@gmail.com</td>\n",
       "      <td>NaN</td>\n",
       "      <td>NaN</td>\n",
       "    </tr>\n",
       "  </tbody>\n",
       "</table>\n",
       "</div>"
      ],
      "text/plain": [
       "    S.No                                   College Name  \\\n",
       "29    30                    MVGR College of Engineering   \n",
       "30    31                    MVGR College of Engineering   \n",
       "31    32  Gayatri Vidya Parishad College of Engineering   \n",
       "32    33  Gayatri Vidya Parishad College of Engineering   \n",
       "33    34  Gayatri Vidya Parishad College of Engineering   \n",
       "\n",
       "                                    Program Name  \\\n",
       "29  Machine Learning Using Python Online 2021-22   \n",
       "30  Machine Learning Using Python Online 2021-22   \n",
       "31  Machine Learning Using Python Online 2021-22   \n",
       "32  Machine Learning Using Python Online 2021-22   \n",
       "33  Machine Learning Using Python Online 2021-22   \n",
       "\n",
       "                         Student Name Registrationid         Phone  \\\n",
       "29                     Vasireddy Teja     19335A0415  7.095737e+09   \n",
       "30                     Thida Priyanka     18331A04F5           NaN   \n",
       "31                     Metta Likhitha     19131A04F2  7.569078e+09   \n",
       "32  Pallapothula Venkata Sreechandana     19131A04H4  8.688858e+09   \n",
       "33            Marada Gowrav Srikalyan     19131A04E4  7.396917e+09   \n",
       "\n",
       "                            Email Payment Status Registered Date  \n",
       "29         teja16052001@gmail.com        success       6/27/2021  \n",
       "30        teedapriyanka@gmail.com            NaN             NaN  \n",
       "31     likhithametta888@gmail.com            NaN             NaN  \n",
       "32         19131a04h4@gvpce.ac.in            NaN             NaN  \n",
       "33  gowravsrikalyan1220@gmail.com            NaN             NaN  "
      ]
     },
     "execution_count": 127,
     "metadata": {},
     "output_type": "execute_result"
    }
   ],
   "source": [
    "data.tail()"
   ]
  },
  {
   "cell_type": "code",
   "execution_count": 133,
   "metadata": {},
   "outputs": [
    {
     "data": {
      "text/html": [
       "<div>\n",
       "<style scoped>\n",
       "    .dataframe tbody tr th:only-of-type {\n",
       "        vertical-align: middle;\n",
       "    }\n",
       "\n",
       "    .dataframe tbody tr th {\n",
       "        vertical-align: top;\n",
       "    }\n",
       "\n",
       "    .dataframe thead th {\n",
       "        text-align: right;\n",
       "    }\n",
       "</style>\n",
       "<table border=\"1\" class=\"dataframe\">\n",
       "  <thead>\n",
       "    <tr style=\"text-align: right;\">\n",
       "      <th></th>\n",
       "      <th>S.No</th>\n",
       "      <th>College Name</th>\n",
       "      <th>Program Name</th>\n",
       "      <th>Student Name</th>\n",
       "      <th>Registrationid</th>\n",
       "      <th>Phone</th>\n",
       "      <th>Email</th>\n",
       "      <th>Payment Status</th>\n",
       "      <th>Registered Date</th>\n",
       "    </tr>\n",
       "  </thead>\n",
       "  <tbody>\n",
       "    <tr>\n",
       "      <th>0</th>\n",
       "      <td>1</td>\n",
       "      <td>Aditya Engineering College</td>\n",
       "      <td>Machine Learning Using Python Online 2021-22</td>\n",
       "      <td>Mandapaka Anusha</td>\n",
       "      <td>18A91A0534</td>\n",
       "      <td>6.300452e+09</td>\n",
       "      <td>anushamandapaka77@gmail.com</td>\n",
       "      <td>success</td>\n",
       "      <td>6/19/2021</td>\n",
       "    </tr>\n",
       "    <tr>\n",
       "      <th>31</th>\n",
       "      <td>32</td>\n",
       "      <td>Gayatri Vidya Parishad College of Engineering</td>\n",
       "      <td>Machine Learning Using Python Online 2021-22</td>\n",
       "      <td>Metta Likhitha</td>\n",
       "      <td>19131A04F2</td>\n",
       "      <td>7.569078e+09</td>\n",
       "      <td>likhithametta888@gmail.com</td>\n",
       "      <td>NaN</td>\n",
       "      <td>NaN</td>\n",
       "    </tr>\n",
       "    <tr>\n",
       "      <th>27</th>\n",
       "      <td>28</td>\n",
       "      <td>Vignan s Institute of Engineering for Women</td>\n",
       "      <td>Machine Learning Using Python Online 2021-22</td>\n",
       "      <td>Divya Naramsetty</td>\n",
       "      <td>18NM1A0311</td>\n",
       "      <td>9.346382e+09</td>\n",
       "      <td>divyanaramsetty@gmail.com</td>\n",
       "      <td>success</td>\n",
       "      <td>6/21/2021</td>\n",
       "    </tr>\n",
       "  </tbody>\n",
       "</table>\n",
       "</div>"
      ],
      "text/plain": [
       "    S.No                                   College Name  \\\n",
       "0      1                     Aditya Engineering College   \n",
       "31    32  Gayatri Vidya Parishad College of Engineering   \n",
       "27    28    Vignan s Institute of Engineering for Women   \n",
       "\n",
       "                                    Program Name      Student Name  \\\n",
       "0   Machine Learning Using Python Online 2021-22  Mandapaka Anusha   \n",
       "31  Machine Learning Using Python Online 2021-22    Metta Likhitha   \n",
       "27  Machine Learning Using Python Online 2021-22  Divya Naramsetty   \n",
       "\n",
       "   Registrationid         Phone                        Email Payment Status  \\\n",
       "0      18A91A0534  6.300452e+09  anushamandapaka77@gmail.com        success   \n",
       "31     19131A04F2  7.569078e+09   likhithametta888@gmail.com            NaN   \n",
       "27     18NM1A0311  9.346382e+09    divyanaramsetty@gmail.com        success   \n",
       "\n",
       "   Registered Date  \n",
       "0        6/19/2021  \n",
       "31             NaN  \n",
       "27       6/21/2021  "
      ]
     },
     "execution_count": 133,
     "metadata": {},
     "output_type": "execute_result"
    }
   ],
   "source": [
    "data.sample(3) # random selection"
   ]
  },
  {
   "cell_type": "code",
   "execution_count": 135,
   "metadata": {},
   "outputs": [
    {
     "data": {
      "text/plain": [
       "pandas.core.frame.DataFrame"
      ]
     },
     "execution_count": 135,
     "metadata": {},
     "output_type": "execute_result"
    }
   ],
   "source": [
    "type(data)"
   ]
  },
  {
   "cell_type": "markdown",
   "metadata": {},
   "source": [
    "# Exporting Data"
   ]
  },
  {
   "cell_type": "code",
   "execution_count": 136,
   "metadata": {},
   "outputs": [],
   "source": [
    "data[:100].to_csv(\"student.csv\")"
   ]
  },
  {
   "cell_type": "code",
   "execution_count": 137,
   "metadata": {},
   "outputs": [],
   "source": [
    "data.to_excel(\"Details.xlsx\")"
   ]
  },
  {
   "cell_type": "code",
   "execution_count": 139,
   "metadata": {
    "collapsed": true
   },
   "outputs": [
    {
     "data": {
      "text/plain": [
       "{'S.No': {0: 1,\n",
       "  1: 2,\n",
       "  2: 3,\n",
       "  3: 4,\n",
       "  4: 5,\n",
       "  5: 6,\n",
       "  6: 7,\n",
       "  7: 8,\n",
       "  8: 9,\n",
       "  9: 10,\n",
       "  10: 11,\n",
       "  11: 12,\n",
       "  12: 13,\n",
       "  13: 14,\n",
       "  14: 15,\n",
       "  15: 16,\n",
       "  16: 17,\n",
       "  17: 18,\n",
       "  18: 19,\n",
       "  19: 20,\n",
       "  20: 21,\n",
       "  21: 22,\n",
       "  22: 23,\n",
       "  23: 24,\n",
       "  24: 25,\n",
       "  25: 26,\n",
       "  26: 27,\n",
       "  27: 28,\n",
       "  28: 29,\n",
       "  29: 30,\n",
       "  30: 31,\n",
       "  31: 32,\n",
       "  32: 33,\n",
       "  33: 34},\n",
       " 'College Name': {0: 'Aditya Engineering College',\n",
       "  1: 'Aditya Engineering College',\n",
       "  2: 'Aditya Engineering College',\n",
       "  3: 'Aditya Engineering College',\n",
       "  4: 'Aditya Engineering College',\n",
       "  5: 'Aditya Engineering College',\n",
       "  6: 'Aditya Engineering College',\n",
       "  7: 'Aditya Engineering College',\n",
       "  8: 'Aditya Engineering College',\n",
       "  9: 'BVC Institute of Technology and Science',\n",
       "  10: 'BVC Institute of Technology and Science',\n",
       "  11: 'BVC Institute of Technology and Science',\n",
       "  12: 'BVC Institute of Technology and Science',\n",
       "  13: 'Eluru College of Engineering and Technology',\n",
       "  14: 'G Pulla Reddy Engineering College (Autonomous)',\n",
       "  15: 'Gayatri Vidya Parishad College of Engineering',\n",
       "  16: 'Gayatri Vidya Parishad College of Engineering',\n",
       "  17: 'Gayatri Vidya Parishad College of Engineering',\n",
       "  18: 'Gayatri Vidya Parishad College of Engineering',\n",
       "  19: \"ISTS Women's Engineering College\",\n",
       "  20: 'K L University',\n",
       "  21: 'NBKR Institute of Sceince & Technology',\n",
       "  22: 'Sagi Ramakrishnam Raju Engineering College',\n",
       "  23: 'Sree Vahini Institute of Science and Technology',\n",
       "  24: 'Sree Vahini Institute of Science and Technology',\n",
       "  25: 'Srinivasa Institute of Engineering & Technology',\n",
       "  26: 'SRM University',\n",
       "  27: 'Vignan s Institute of Engineering for Women',\n",
       "  28: 'Vignan s LARA Institute of Technology and Science',\n",
       "  29: 'MVGR College of Engineering',\n",
       "  30: 'MVGR College of Engineering',\n",
       "  31: 'Gayatri Vidya Parishad College of Engineering',\n",
       "  32: 'Gayatri Vidya Parishad College of Engineering',\n",
       "  33: 'Gayatri Vidya Parishad College of Engineering'},\n",
       " 'Program Name': {0: 'Machine Learning Using Python Online 2021-22',\n",
       "  1: 'Machine Learning Using Python Online 2021-22',\n",
       "  2: 'Machine Learning Using Python Online 2021-22',\n",
       "  3: 'Machine Learning Using Python Online 2021-22',\n",
       "  4: 'Machine Learning Using Python Online 2021-22',\n",
       "  5: 'Machine Learning Using Python Online 2021-22',\n",
       "  6: 'Machine Learning Using Python Online 2021-22',\n",
       "  7: 'Machine Learning Using Python Online 2021-22',\n",
       "  8: 'Machine Learning Using Python Online 2021-22',\n",
       "  9: 'Machine Learning Using Python Online 2021-22',\n",
       "  10: 'Machine Learning Using Python Online 2021-22',\n",
       "  11: 'Machine Learning Using Python Online 2021-22',\n",
       "  12: 'Machine Learning Using Python Online 2021-22',\n",
       "  13: 'Machine Learning Using Python Online 2021-22',\n",
       "  14: 'Machine Learning Using Python Online 2021-22',\n",
       "  15: 'Machine Learning Using Python Online 2021-22',\n",
       "  16: 'Machine Learning Using Python Online 2021-22',\n",
       "  17: 'Machine Learning Using Python Online 2021-22',\n",
       "  18: 'Machine Learning Using Python Online 2021-22',\n",
       "  19: 'Machine Learning Using Python Online 2021-22',\n",
       "  20: 'Machine Learning Using Python Online 2021-22',\n",
       "  21: 'Machine Learning Using Python Online 2021-22',\n",
       "  22: 'Machine Learning Using Python Online 2021-22',\n",
       "  23: 'Machine Learning Using Python Online 2021-22',\n",
       "  24: 'Machine Learning Using Python Online 2021-22',\n",
       "  25: 'Machine Learning Using Python Online 2021-22',\n",
       "  26: 'Machine Learning Using Python Online 2021-22',\n",
       "  27: 'Machine Learning Using Python Online 2021-22',\n",
       "  28: 'Machine Learning Using Python Online 2021-22',\n",
       "  29: 'Machine Learning Using Python Online 2021-22',\n",
       "  30: 'Machine Learning Using Python Online 2021-22',\n",
       "  31: 'Machine Learning Using Python Online 2021-22',\n",
       "  32: 'Machine Learning Using Python Online 2021-22',\n",
       "  33: 'Machine Learning Using Python Online 2021-22'},\n",
       " 'Student Name': {0: 'Mandapaka Anusha',\n",
       "  1: 'Meneti Mounika',\n",
       "  2: 'Sheik Abdul Hakim',\n",
       "  3: 'Sambattula Navya Prasanna',\n",
       "  4: 'Vijaya Durga Velagala',\n",
       "  5: 'Budha Bala Atyutha Sri Sai',\n",
       "  6: 'Karri Sirish Kumar',\n",
       "  7: 'Ramavarapu Mary Ratnam',\n",
       "  8: 'M.L.S.Namratha',\n",
       "  9: 'Naga Swathi Menda',\n",
       "  10: 'Bonthu Naga Durga Sravani',\n",
       "  11: 'Namana Vijaya Lakshmi Naga Durga Devi',\n",
       "  12: 'Peddireddi Yamini Srilakshmi',\n",
       "  13: 'Sravani Pulavarthi',\n",
       "  14: 'Kamini Sowjanya',\n",
       "  15: 'Kallepalli Krishna Praneeth Sastry',\n",
       "  16: 'Bh Tarun Surya Varma',\n",
       "  17: 'Jahnavi Kalla',\n",
       "  18: 'Pravallika Kota',\n",
       "  19: 'Pedapudi Pravallika',\n",
       "  20: 'Grandhi Vamsi',\n",
       "  21: 'N.Sri Giri',\n",
       "  22: 'Viwanth Manikanta Kankatala',\n",
       "  23: 'Peddedula Saikumar',\n",
       "  24: 'Kaviti Siva Krishna',\n",
       "  25: 'K Jayagowri Sruthi',\n",
       "  26: 'Geetika Karumudi',\n",
       "  27: 'Divya Naramsetty',\n",
       "  28: 'Syed.Sameer',\n",
       "  29: 'Vasireddy Teja',\n",
       "  30: 'Thida Priyanka',\n",
       "  31: 'Metta Likhitha',\n",
       "  32: 'Pallapothula Venkata Sreechandana',\n",
       "  33: 'Marada Gowrav Srikalyan'},\n",
       " 'Registrationid': {0: '18A91A0534',\n",
       "  1: '18A91A05F0',\n",
       "  2: '19A95A0504',\n",
       "  3: '18A91A0552',\n",
       "  4: '18A91A05H8',\n",
       "  5: '18A91A0510',\n",
       "  6: '18A91A0529',\n",
       "  7: '18A91A0547',\n",
       "  8: '18A91A05E7',\n",
       "  9: '18H41F0006',\n",
       "  10: '18H41F0001',\n",
       "  11: '18H41F0008',\n",
       "  12: '18H41F0010',\n",
       "  13: '17JD1A0493',\n",
       "  14: '189X5A02C9',\n",
       "  15: '18131A0374',\n",
       "  16: '18131A04M3',\n",
       "  17: '18131A0490',\n",
       "  18: '18131A04A9',\n",
       "  19: '176W1A0458',\n",
       "  20: '170040262',\n",
       "  21: '18KB1A0373',\n",
       "  22: '18B91A0594',\n",
       "  23: '18MG1A0592',\n",
       "  24: '18MG1A0584',\n",
       "  25: '176N1A0528',\n",
       "  26: 'AP19110010123',\n",
       "  27: '18NM1A0311',\n",
       "  28: '18FE1A05E1',\n",
       "  29: '19335A0415',\n",
       "  30: '18331A04F5',\n",
       "  31: '19131A04F2',\n",
       "  32: '19131A04H4',\n",
       "  33: '19131A04E4'},\n",
       " 'Phone': {0: 6300451737.0,\n",
       "  1: 9704807386.0,\n",
       "  2: 9676215460.0,\n",
       "  3: 8328650363.0,\n",
       "  4: 9502361649.0,\n",
       "  5: 8500387777.0,\n",
       "  6: 9491690743.0,\n",
       "  7: 7981133701.0,\n",
       "  8: 7013640620.0,\n",
       "  9: 9533338859.0,\n",
       "  10: 9121442336.0,\n",
       "  11: 9550398528.0,\n",
       "  12: 9153341234.0,\n",
       "  13: 9346539753.0,\n",
       "  14: 8247044264.0,\n",
       "  15: 8500175543.0,\n",
       "  16: 7732079997.0,\n",
       "  17: 8019774354.0,\n",
       "  18: 9160433893.0,\n",
       "  19: 9290074491.0,\n",
       "  20: 9182374518.0,\n",
       "  21: 8008733538.0,\n",
       "  22: 9381230113.0,\n",
       "  23: 7995139105.0,\n",
       "  24: 9603959089.0,\n",
       "  25: 8143152678.0,\n",
       "  26: 7995043490.0,\n",
       "  27: 9346382189.0,\n",
       "  28: 9640333667.0,\n",
       "  29: 7095737437.0,\n",
       "  30: nan,\n",
       "  31: 7569077570.0,\n",
       "  32: 8688858296.0,\n",
       "  33: 7396916992.0},\n",
       " 'Email': {0: 'anushamandapaka77@gmail.com',\n",
       "  1: 'mounikameneti9912@gmail.com',\n",
       "  2: 'hakeemabd007@gmail.com',\n",
       "  3: 'navyasambattula@gmail.com',\n",
       "  4: 'vijayadurga.velagala123@gmail.com',\n",
       "  5: 'balasai599@gmail.com',\n",
       "  6: 'karrisirish2000@gmail.com',\n",
       "  7: 'rpchinnu123@gmail.com',\n",
       "  8: 'namrathamalladi@gmail.com',\n",
       "  9: 'nagaswathimenda97@gmail.com',\n",
       "  10: 'sravanibonthu31@gmail.com',\n",
       "  11: 'Vijayalakshminamana12@gmail.com',\n",
       "  12: 'yaminisrilakshmipeddireddy@gmail.com',\n",
       "  13: 'pulavarthisravani0209@gmail.com',\n",
       "  14: 'sowjanyakamini98@gmail.com',\n",
       "  15: 'sastrykallepalli@gmail.com',\n",
       "  16: 'tarun779911@gmail.com',\n",
       "  17: 'jahnavikalla@gmail.com',\n",
       "  18: 'pravallikakota2510@gmail.com',\n",
       "  19: 'vallipedapudi458@gmail.com',\n",
       "  20: '9951672988a@gmail.com',\n",
       "  21: 'srigirineelam@gmail.com',\n",
       "  22: 'viswanthkankatala111@gmail.com',\n",
       "  23: 'saikumar.7138@gmail.com',\n",
       "  24: 'sivakrishnakaviti920@gmail.com',\n",
       "  25: 'sruthikodi08@gmail.com',\n",
       "  26: 'geetikakarumudi@gmail.com',\n",
       "  27: 'divyanaramsetty@gmail.com',\n",
       "  28: 'syedsamee645@gmail.com',\n",
       "  29: 'teja16052001@gmail.com',\n",
       "  30: 'teedapriyanka@gmail.com',\n",
       "  31: 'likhithametta888@gmail.com',\n",
       "  32: '19131a04h4@gvpce.ac.in',\n",
       "  33: 'gowravsrikalyan1220@gmail.com'},\n",
       " 'Payment Status': {0: 'success',\n",
       "  1: 'success',\n",
       "  2: 'success',\n",
       "  3: 'success',\n",
       "  4: 'success',\n",
       "  5: 'success',\n",
       "  6: 'success',\n",
       "  7: 'success',\n",
       "  8: 'success',\n",
       "  9: 'success',\n",
       "  10: 'success',\n",
       "  11: 'success',\n",
       "  12: 'success',\n",
       "  13: 'success',\n",
       "  14: 'success',\n",
       "  15: 'success',\n",
       "  16: 'success',\n",
       "  17: 'success',\n",
       "  18: 'success',\n",
       "  19: 'success',\n",
       "  20: 'success',\n",
       "  21: 'success',\n",
       "  22: 'success',\n",
       "  23: 'success',\n",
       "  24: 'success',\n",
       "  25: 'success',\n",
       "  26: 'success',\n",
       "  27: 'success',\n",
       "  28: 'success',\n",
       "  29: 'success',\n",
       "  30: nan,\n",
       "  31: nan,\n",
       "  32: nan,\n",
       "  33: nan},\n",
       " 'Registered Date': {0: '6/19/2021',\n",
       "  1: '6/19/2021',\n",
       "  2: '6/19/2021',\n",
       "  3: '6/19/2021',\n",
       "  4: '6/19/2021',\n",
       "  5: '6/19/2021',\n",
       "  6: '6/19/2021',\n",
       "  7: '6/19/2021',\n",
       "  8: '6/21/2021',\n",
       "  9: '6/25/2021',\n",
       "  10: '6/26/2021',\n",
       "  11: '6/26/2021',\n",
       "  12: '6/26/2021',\n",
       "  13: '6/25/2021',\n",
       "  14: '6/12/2021',\n",
       "  15: '6/19/2021',\n",
       "  16: '6/23/2021',\n",
       "  17: '6/24/2021',\n",
       "  18: '6/24/2021',\n",
       "  19: '6/22/2021',\n",
       "  20: '6/11/2021',\n",
       "  21: '6/24/2021',\n",
       "  22: '6/19/2021',\n",
       "  23: '6/22/2021',\n",
       "  24: '6/22/2021',\n",
       "  25: '6/25/2021',\n",
       "  26: '6/7/2021',\n",
       "  27: '6/21/2021',\n",
       "  28: '6/20/2021',\n",
       "  29: '6/27/2021',\n",
       "  30: nan,\n",
       "  31: nan,\n",
       "  32: nan,\n",
       "  33: nan}}"
      ]
     },
     "execution_count": 139,
     "metadata": {},
     "output_type": "execute_result"
    }
   ],
   "source": [
    "data.to_dict()"
   ]
  },
  {
   "cell_type": "code",
   "execution_count": 140,
   "metadata": {},
   "outputs": [
    {
     "data": {
      "text/plain": [
       "Index(['S.No', 'College Name', 'Program Name', 'Student Name',\n",
       "       'Registrationid', 'Phone', 'Email', 'Payment Status',\n",
       "       'Registered Date'],\n",
       "      dtype='object')"
      ]
     },
     "execution_count": 140,
     "metadata": {},
     "output_type": "execute_result"
    }
   ],
   "source": [
    "data.columns"
   ]
  },
  {
   "cell_type": "code",
   "execution_count": 141,
   "metadata": {},
   "outputs": [
    {
     "data": {
      "text/plain": [
       "RangeIndex(start=0, stop=34, step=1)"
      ]
     },
     "execution_count": 141,
     "metadata": {},
     "output_type": "execute_result"
    }
   ],
   "source": [
    "data.index"
   ]
  },
  {
   "cell_type": "code",
   "execution_count": 142,
   "metadata": {},
   "outputs": [
    {
     "data": {
      "text/html": [
       "<div>\n",
       "<style scoped>\n",
       "    .dataframe tbody tr th:only-of-type {\n",
       "        vertical-align: middle;\n",
       "    }\n",
       "\n",
       "    .dataframe tbody tr th {\n",
       "        vertical-align: top;\n",
       "    }\n",
       "\n",
       "    .dataframe thead th {\n",
       "        text-align: right;\n",
       "    }\n",
       "</style>\n",
       "<table border=\"1\" class=\"dataframe\">\n",
       "  <thead>\n",
       "    <tr style=\"text-align: right;\">\n",
       "      <th></th>\n",
       "      <th>S.No</th>\n",
       "      <th>Phone</th>\n",
       "    </tr>\n",
       "  </thead>\n",
       "  <tbody>\n",
       "    <tr>\n",
       "      <th>count</th>\n",
       "      <td>34.000000</td>\n",
       "      <td>3.300000e+01</td>\n",
       "    </tr>\n",
       "    <tr>\n",
       "      <th>mean</th>\n",
       "      <td>17.500000</td>\n",
       "      <td>8.612149e+09</td>\n",
       "    </tr>\n",
       "    <tr>\n",
       "      <th>std</th>\n",
       "      <td>9.958246</td>\n",
       "      <td>9.159482e+08</td>\n",
       "    </tr>\n",
       "    <tr>\n",
       "      <th>min</th>\n",
       "      <td>1.000000</td>\n",
       "      <td>6.300452e+09</td>\n",
       "    </tr>\n",
       "    <tr>\n",
       "      <th>25%</th>\n",
       "      <td>9.250000</td>\n",
       "      <td>7.995139e+09</td>\n",
       "    </tr>\n",
       "    <tr>\n",
       "      <th>50%</th>\n",
       "      <td>17.500000</td>\n",
       "      <td>8.688858e+09</td>\n",
       "    </tr>\n",
       "    <tr>\n",
       "      <th>75%</th>\n",
       "      <td>25.750000</td>\n",
       "      <td>9.381230e+09</td>\n",
       "    </tr>\n",
       "    <tr>\n",
       "      <th>max</th>\n",
       "      <td>34.000000</td>\n",
       "      <td>9.704807e+09</td>\n",
       "    </tr>\n",
       "  </tbody>\n",
       "</table>\n",
       "</div>"
      ],
      "text/plain": [
       "            S.No         Phone\n",
       "count  34.000000  3.300000e+01\n",
       "mean   17.500000  8.612149e+09\n",
       "std     9.958246  9.159482e+08\n",
       "min     1.000000  6.300452e+09\n",
       "25%     9.250000  7.995139e+09\n",
       "50%    17.500000  8.688858e+09\n",
       "75%    25.750000  9.381230e+09\n",
       "max    34.000000  9.704807e+09"
      ]
     },
     "execution_count": 142,
     "metadata": {},
     "output_type": "execute_result"
    }
   ],
   "source": [
    "data.describe()"
   ]
  },
  {
   "cell_type": "code",
   "execution_count": 146,
   "metadata": {},
   "outputs": [
    {
     "data": {
      "text/plain": [
       "595"
      ]
     },
     "execution_count": 146,
     "metadata": {},
     "output_type": "execute_result"
    }
   ],
   "source": [
    "data[\"S.No\"].sum()"
   ]
  },
  {
   "cell_type": "code",
   "execution_count": 147,
   "metadata": {},
   "outputs": [
    {
     "data": {
      "text/plain": [
       "S.No               34\n",
       "College Name       34\n",
       "Program Name       34\n",
       "Student Name       34\n",
       "Registrationid     34\n",
       "Phone              33\n",
       "Email              34\n",
       "Payment Status     30\n",
       "Registered Date    30\n",
       "dtype: int64"
      ]
     },
     "execution_count": 147,
     "metadata": {},
     "output_type": "execute_result"
    }
   ],
   "source": [
    "data.count()"
   ]
  },
  {
   "cell_type": "code",
   "execution_count": 149,
   "metadata": {},
   "outputs": [
    {
     "data": {
      "text/plain": [
       "S.No                                                             34\n",
       "College Name      Vignan s LARA Institute of Technology and Science\n",
       "Program Name           Machine Learning Using Python Online 2021-22\n",
       "Student Name                            Viwanth Manikanta Kankatala\n",
       "Registrationid                                        AP19110010123\n",
       "Phone                                                   9.70481e+09\n",
       "Email                          yaminisrilakshmipeddireddy@gmail.com\n",
       "dtype: object"
      ]
     },
     "execution_count": 149,
     "metadata": {},
     "output_type": "execute_result"
    }
   ],
   "source": [
    "data.max()"
   ]
  },
  {
   "cell_type": "code",
   "execution_count": 150,
   "metadata": {},
   "outputs": [
    {
     "data": {
      "text/plain": [
       "S.No                                                         1\n",
       "College Name                        Aditya Engineering College\n",
       "Program Name      Machine Learning Using Python Online 2021-22\n",
       "Student Name                              Bh Tarun Surya Varma\n",
       "Registrationid                                       170040262\n",
       "Phone                                              6.30045e+09\n",
       "Email                                   19131a04h4@gvpce.ac.in\n",
       "dtype: object"
      ]
     },
     "execution_count": 150,
     "metadata": {},
     "output_type": "execute_result"
    }
   ],
   "source": [
    "data.min()"
   ]
  },
  {
   "cell_type": "code",
   "execution_count": 154,
   "metadata": {},
   "outputs": [
    {
     "data": {
      "text/plain": [
       "33"
      ]
     },
     "execution_count": 154,
     "metadata": {},
     "output_type": "execute_result"
    }
   ],
   "source": [
    "data[\"S.No\"].idxmax()"
   ]
  },
  {
   "cell_type": "code",
   "execution_count": null,
   "metadata": {},
   "outputs": [],
   "source": []
  }
 ],
 "metadata": {
  "kernelspec": {
   "display_name": "Python 3",
   "language": "python",
   "name": "python3"
  },
  "language_info": {
   "codemirror_mode": {
    "name": "ipython",
    "version": 3
   },
   "file_extension": ".py",
   "mimetype": "text/x-python",
   "name": "python",
   "nbconvert_exporter": "python",
   "pygments_lexer": "ipython3",
   "version": "3.8.3"
  }
 },
 "nbformat": 4,
 "nbformat_minor": 4
}
