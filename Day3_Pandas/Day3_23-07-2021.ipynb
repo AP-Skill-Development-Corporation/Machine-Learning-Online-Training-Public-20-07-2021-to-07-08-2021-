{
 "cells": [
  {
   "attachments": {},
   "cell_type": "markdown",
   "metadata": {},
   "source": [
    "![](logo.png)\n",
    "## Day Objectives\n",
    "# Pandas\n",
    "- Pandas is a built in library using for data analysis. You'll be using Pandas heavily for data manipulation, visualisation, building machine learning models, etc.\n",
    "- Pandas implements a number of powerful data operations familiar to users of both database frameworks and spreadsheet programs.\n",
    "- There are two main data structures in Pandas - Series and Dataframes. The default way to store data is dataframes, and thus manipulating dataframes quickly is probably the most important skill set for data analysis.\n",
    "- Source: https://pandas.pydata.org/pandas-docs/stable/overview.html\n",
    "## Pandas Series\n",
    "- A series is similar to a 1-D numpy array, and contains values of the same type (numeric, character, datetime  etc.). A dataframe is simply a table where each column is a pandas series.\n",
    "\n",
    "## creating series\n",
    "- List\n",
    "- Tuple\n",
    "- Dictionary\n",
    "- Numpy\n",
    "- Date_Range\n",
    "- Series Indexing\n",
    "\n",
    "## Data Analysis with Pandas\n",
    "* Pandas DataFrame\n",
    "* Combining & Merging\n",
    "* File I/O\n",
    "* Indexing\n",
    "* Grouping\n",
    "* Features\n",
    "* Filtering\n",
    "* Sorting\n",
    "* Statistical\n",
    "* Plotting\n",
    "* Saving\n",
    "\n",
    "|S.No |Name |Gender|\n",
    "|--|--|--|\n",
    "|1 | Mercy | Female|\n",
    "|2 | Cherry | Male |\n",
    "|3 | Raju | Male |\n",
    "\n"
   ]
  },
  {
   "cell_type": "code",
   "execution_count": null,
   "metadata": {},
   "outputs": [],
   "source": []
  }
 ],
 "metadata": {
  "kernelspec": {
   "display_name": "Python 3",
   "language": "python",
   "name": "python3"
  },
  "language_info": {
   "codemirror_mode": {
    "name": "ipython",
    "version": 3
   },
   "file_extension": ".py",
   "mimetype": "text/x-python",
   "name": "python",
   "nbconvert_exporter": "python",
   "pygments_lexer": "ipython3",
   "version": "3.8.3"
  }
 },
 "nbformat": 4,
 "nbformat_minor": 4
}
